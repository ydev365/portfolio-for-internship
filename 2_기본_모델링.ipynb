{
  "cells": [
    {
      "cell_type": "markdown",
      "metadata": {
        "id": "view-in-github",
        "colab_type": "text"
      },
      "source": [
        "<a href=\"https://colab.research.google.com/github/ydev365/portfolio-for-internship/blob/main/2_%EA%B8%B0%EB%B3%B8_%EB%AA%A8%EB%8D%B8%EB%A7%81.ipynb\" target=\"_parent\"><img src=\"https://colab.research.google.com/assets/colab-badge.svg\" alt=\"Open In Colab\"/></a>"
      ]
    },
    {
      "cell_type": "markdown",
      "metadata": {
        "id": "NbI_RoQ9AP5r"
      },
      "source": [
        "#**스마트폰 센서 데이터 기반 모션 분류**\n",
        "# 단계2 : 기본 모델링\n"
      ]
    },
    {
      "cell_type": "markdown",
      "metadata": {
        "id": "D67PlTu4JGAY"
      },
      "source": [
        "## 0.미션3"
      ]
    },
    {
      "cell_type": "markdown",
      "metadata": {
        "id": "ubUjMgXEzTUv"
      },
      "source": [
        "* 데이터 전처리\n",
        "    * 가변수화, 데이터 분할, NaN 확인 및 조치, 스케일링 등 필요한 전처리 수행\n",
        "* 다양한 딥러닝 구조의 모델로 분류 모델 생성\n",
        "    * 최소 4개 이상 모델링 수행\n",
        "    * 각 모델별 최소 5회 반복수행해서 얻은 성능의 평균으로 비교\n",
        "    * 각 모델의 성능을 저장하는 별도 데이터 프레임을 만들고 비교\n",
        "* 옵션 : 다음 사항은 선택사항입니다. 시간이 허용하는 범위 내에서 수행하세요.\n",
        "    * 상위 N개 변수를 선정하여 모델링 및 성능 비교\n",
        "        * 모델링에 항상 모든 변수가 필요한 것은 아닙니다.\n",
        "        * 변수 중요도 상위 N개를 선정하여 모델링하고 타 모델과 성능을 비교하세요.\n",
        "        * 상위 N개를 선택하는 방법은, 변수를 하나씩 늘려가며 모델링 및 성능 검증을 수행하여 적절한 지점을 찾는 것입니다.\n",
        "* 성능 가이드\n",
        "    * Accuracy : 0.90 ~ 0.99"
      ]
    },
    {
      "cell_type": "markdown",
      "metadata": {
        "id": "a2oWtdJPzTUy"
      },
      "source": [
        "## 1.환경설정"
      ]
    },
    {
      "cell_type": "markdown",
      "metadata": {
        "id": "OUF6xQFZzTUz"
      },
      "source": [
        "* 세부 요구사항\n",
        "    - 경로 설정 : 구글콜랩\n",
        "        * 구글 드라이브 바로 밑에 project3 폴더를 만들고,\n",
        "        * 데이터 파일을 복사해 넣습니다.\n",
        "    - 기본적으로 필요한 라이브러리를 import 하도록 코드가 작성되어 있습니다.\n",
        "        * 필요하다고 판단되는 라이브러리를 추가하세요.\n"
      ]
    },
    {
      "cell_type": "markdown",
      "metadata": {
        "id": "4bg7tWxSzTU0"
      },
      "source": [
        "### (1) 경로 설정"
      ]
    },
    {
      "cell_type": "markdown",
      "metadata": {
        "id": "o86e1aHRzTU0"
      },
      "source": [
        "* 구글 드라이브 연결"
      ]
    },
    {
      "cell_type": "code",
      "execution_count": null,
      "metadata": {
        "id": "9G0Si0qDzTU0",
        "colab": {
          "base_uri": "https://localhost:8080/"
        },
        "outputId": "459077dd-aa7f-4e42-de65-f4fbfd320b87"
      },
      "outputs": [
        {
          "output_type": "stream",
          "name": "stdout",
          "text": [
            "Drive already mounted at /content/drive; to attempt to forcibly remount, call drive.mount(\"/content/drive\", force_remount=True).\n"
          ]
        }
      ],
      "source": [
        "from google.colab import drive\n",
        "drive.mount('/content/drive')"
      ]
    },
    {
      "cell_type": "code",
      "execution_count": null,
      "metadata": {
        "id": "5i7K-4UGzTU3"
      },
      "outputs": [],
      "source": [
        "path = '/content/drive/MyDrive/AIVLE/AI_미니프로젝트 1차_실습자료/'"
      ]
    },
    {
      "cell_type": "markdown",
      "metadata": {
        "id": "0Xnr5atSzTU4"
      },
      "source": [
        "### (2) 라이브러리 불러오기"
      ]
    },
    {
      "cell_type": "markdown",
      "metadata": {
        "id": "waGFA7e9zTU4"
      },
      "source": [
        "* 라이브러리 로딩\n",
        "     - pandas, numpy,matplotlib,seaborn, joblib, 모델링에 필요한 라이브러리를 로딩합니다."
      ]
    },
    {
      "cell_type": "code",
      "execution_count": null,
      "metadata": {
        "id": "cuVV49MizTU5"
      },
      "outputs": [],
      "source": [
        "import pandas as pd\n",
        "import numpy as np\n",
        "import matplotlib.pyplot as plt\n",
        "import seaborn as sns\n",
        "\n",
        "import joblib\n",
        "from tqdm import tqdm\n",
        "\n",
        "import tensorflow as tf\n",
        "\n",
        "\n",
        "from sklearn.model_selection import train_test_split\n",
        "from sklearn.preprocessing import MinMaxScaler, LabelEncoder\n",
        "from sklearn.preprocessing import StandardScaler\n",
        "from sklearn.preprocessing import LabelEncoder\n",
        "from sklearn.metrics import *\n",
        "\n",
        "from keras.models import Sequential\n",
        "from keras.layers import Dense, Flatten, Dropout, Input\n",
        "from keras.backend import clear_session\n",
        "from keras.optimizers import Adam\n",
        "from tensorflow.keras.utils import to_categorical\n",
        "from tensorflow.keras.callbacks import EarlyStopping\n"
      ]
    },
    {
      "cell_type": "code",
      "source": [],
      "metadata": {
        "id": "0LnGrfaU4CH2"
      },
      "execution_count": null,
      "outputs": []
    },
    {
      "cell_type": "code",
      "execution_count": null,
      "metadata": {
        "id": "3c4JgiEbNKfo"
      },
      "outputs": [],
      "source": [
        "# 학습곡선 함수\n",
        "def dl_history_plot(history):\n",
        "    plt.figure(figsize=(10,6))\n",
        "    plt.plot(history['loss'], label='train_err', marker = '.')\n",
        "    plt.plot(history['val_loss'], label='val_err', marker = '.')\n",
        "\n",
        "    plt.ylabel('Loss')\n",
        "    plt.xlabel('Epoch')\n",
        "    plt.legend()\n",
        "    plt.grid()\n",
        "    plt.show()"
      ]
    },
    {
      "cell_type": "markdown",
      "metadata": {
        "id": "bA-eHXdwBDCz"
      },
      "source": [
        "### (3) 데이터 불러오기"
      ]
    },
    {
      "cell_type": "markdown",
      "metadata": {
        "id": "HwIACQyupklv"
      },
      "source": [
        "* 주어진 데이터셋\n",
        "    * data01_train.csv : 학습 및 검증용\n",
        "    * data01_test.csv : 테스트용\n",
        "    * feature.csv : feature 이름을 계층구조로 정리한 데이터\n",
        "\n",
        "* 세부 요구사항\n",
        "    * 칼럼 삭제 : data01_train.csv와 data01_test.csv 에서 'subject' 칼럼은 불필요하므로 삭제합니다."
      ]
    },
    {
      "cell_type": "markdown",
      "metadata": {
        "id": "fmgUEGOipvG5"
      },
      "source": [
        "#### 1) 데이터로딩"
      ]
    },
    {
      "cell_type": "code",
      "execution_count": null,
      "metadata": {
        "id": "HdZCcSs6qfRC"
      },
      "outputs": [],
      "source": [
        "# 주어진 데이터 셋을 불러오세요.(3개)\n",
        "train = pd.read_csv(path + 'data01_train.csv')\n",
        "test = pd.read_csv(path + 'data01_test.csv')\n",
        "feature_info = pd.read_csv(path + 'features.csv')"
      ]
    },
    {
      "cell_type": "code",
      "execution_count": null,
      "metadata": {
        "id": "V8tUE_fyqfRC"
      },
      "outputs": [],
      "source": [
        "#불필요한 칼럼을 삭제하세요."
      ]
    },
    {
      "cell_type": "code",
      "execution_count": null,
      "metadata": {
        "id": "FcUbOi_-qfRC"
      },
      "outputs": [],
      "source": [
        "train = train.drop(columns=['subject'])\n",
        "test = test.drop(columns=['subject'])"
      ]
    },
    {
      "cell_type": "markdown",
      "metadata": {
        "id": "aI7qJqz3pr3m"
      },
      "source": [
        "#### 2) 기본 정보 조회"
      ]
    },
    {
      "cell_type": "code",
      "execution_count": null,
      "metadata": {
        "id": "yFVSAGNhpr3m",
        "colab": {
          "base_uri": "https://localhost:8080/"
        },
        "outputId": "5e9a47c1-8466-4ad3-b3f4-feec09aad503"
      },
      "outputs": [
        {
          "output_type": "stream",
          "name": "stdout",
          "text": [
            "train 데이터: 5881, 562\n",
            "test 데이터: 1471, 562\n"
          ]
        }
      ],
      "source": [
        "#전체 데이터의 행,열 개수 확인\n",
        "print(f'train 데이터: {train.shape[0]}, {train.shape[1]}')\n",
        "print(f'test 데이터: {test.shape[0]}, {test.shape[1]}')"
      ]
    },
    {
      "cell_type": "code",
      "execution_count": null,
      "metadata": {
        "id": "xJnnr8K-pr3m",
        "colab": {
          "base_uri": "https://localhost:8080/",
          "height": 273
        },
        "outputId": "9f7e1ff3-589b-4524-8269-d61fb0f81c3f"
      },
      "outputs": [
        {
          "output_type": "execute_result",
          "data": {
            "text/plain": [
              "   tBodyAcc-mean()-X  tBodyAcc-mean()-Y  tBodyAcc-mean()-Z  tBodyAcc-std()-X  \\\n",
              "0           0.288508          -0.009196          -0.103362         -0.988986   \n",
              "1           0.265757          -0.016576          -0.098163         -0.989551   \n",
              "2           0.278709          -0.014511          -0.108717         -0.997720   \n",
              "3           0.289795          -0.035536          -0.150354         -0.231727   \n",
              "4           0.394807           0.034098           0.091229          0.088489   \n",
              "\n",
              "   tBodyAcc-std()-Y  tBodyAcc-std()-Z  tBodyAcc-mad()-X  tBodyAcc-mad()-Y  \\\n",
              "0         -0.962797         -0.967422         -0.989000         -0.962596   \n",
              "1         -0.994636         -0.987435         -0.990189         -0.993870   \n",
              "2         -0.981088         -0.994008         -0.997934         -0.982187   \n",
              "3         -0.006412         -0.338117         -0.273557          0.014245   \n",
              "4         -0.106636         -0.388502         -0.010469         -0.109680   \n",
              "\n",
              "   tBodyAcc-mad()-Z  tBodyAcc-max()-X  ...  fBodyBodyGyroJerkMag-skewness()  \\\n",
              "0         -0.965650         -0.929747  ...                        -0.487737   \n",
              "1         -0.987558         -0.937337  ...                        -0.237820   \n",
              "2         -0.995017         -0.942584  ...                        -0.535287   \n",
              "3         -0.347916          0.008288  ...                        -0.004012   \n",
              "4         -0.346372          0.584131  ...                        -0.157832   \n",
              "\n",
              "   fBodyBodyGyroJerkMag-kurtosis()  angle(tBodyAccMean,gravity)  \\\n",
              "0                        -0.816696                    -0.042494   \n",
              "1                        -0.693515                    -0.062899   \n",
              "2                        -0.829311                     0.000265   \n",
              "3                        -0.408956                    -0.255125   \n",
              "4                        -0.563437                    -0.044344   \n",
              "\n",
              "   angle(tBodyAccJerkMean),gravityMean)  angle(tBodyGyroMean,gravityMean)  \\\n",
              "0                             -0.044218                          0.307873   \n",
              "1                              0.388459                         -0.765014   \n",
              "2                             -0.525022                         -0.891875   \n",
              "3                              0.612804                          0.747381   \n",
              "4                             -0.845268                         -0.974650   \n",
              "\n",
              "   angle(tBodyGyroJerkMean,gravityMean)  angle(X,gravityMean)  \\\n",
              "0                              0.072790             -0.601120   \n",
              "1                              0.771524              0.345205   \n",
              "2                              0.021528             -0.833564   \n",
              "3                             -0.072944             -0.695819   \n",
              "4                             -0.887846             -0.705029   \n",
              "\n",
              "   angle(Y,gravityMean)  angle(Z,gravityMean)            Activity  \n",
              "0              0.331298              0.165163            STANDING  \n",
              "1             -0.769186             -0.147944              LAYING  \n",
              "2              0.202434             -0.032755            STANDING  \n",
              "3              0.287154              0.111388             WALKING  \n",
              "4              0.264952              0.137758  WALKING_DOWNSTAIRS  \n",
              "\n",
              "[5 rows x 562 columns]"
            ],
            "text/html": [
              "\n",
              "  <div id=\"df-8299d007-dab6-4909-b069-49727334c9f8\" class=\"colab-df-container\">\n",
              "    <div>\n",
              "<style scoped>\n",
              "    .dataframe tbody tr th:only-of-type {\n",
              "        vertical-align: middle;\n",
              "    }\n",
              "\n",
              "    .dataframe tbody tr th {\n",
              "        vertical-align: top;\n",
              "    }\n",
              "\n",
              "    .dataframe thead th {\n",
              "        text-align: right;\n",
              "    }\n",
              "</style>\n",
              "<table border=\"1\" class=\"dataframe\">\n",
              "  <thead>\n",
              "    <tr style=\"text-align: right;\">\n",
              "      <th></th>\n",
              "      <th>tBodyAcc-mean()-X</th>\n",
              "      <th>tBodyAcc-mean()-Y</th>\n",
              "      <th>tBodyAcc-mean()-Z</th>\n",
              "      <th>tBodyAcc-std()-X</th>\n",
              "      <th>tBodyAcc-std()-Y</th>\n",
              "      <th>tBodyAcc-std()-Z</th>\n",
              "      <th>tBodyAcc-mad()-X</th>\n",
              "      <th>tBodyAcc-mad()-Y</th>\n",
              "      <th>tBodyAcc-mad()-Z</th>\n",
              "      <th>tBodyAcc-max()-X</th>\n",
              "      <th>...</th>\n",
              "      <th>fBodyBodyGyroJerkMag-skewness()</th>\n",
              "      <th>fBodyBodyGyroJerkMag-kurtosis()</th>\n",
              "      <th>angle(tBodyAccMean,gravity)</th>\n",
              "      <th>angle(tBodyAccJerkMean),gravityMean)</th>\n",
              "      <th>angle(tBodyGyroMean,gravityMean)</th>\n",
              "      <th>angle(tBodyGyroJerkMean,gravityMean)</th>\n",
              "      <th>angle(X,gravityMean)</th>\n",
              "      <th>angle(Y,gravityMean)</th>\n",
              "      <th>angle(Z,gravityMean)</th>\n",
              "      <th>Activity</th>\n",
              "    </tr>\n",
              "  </thead>\n",
              "  <tbody>\n",
              "    <tr>\n",
              "      <th>0</th>\n",
              "      <td>0.288508</td>\n",
              "      <td>-0.009196</td>\n",
              "      <td>-0.103362</td>\n",
              "      <td>-0.988986</td>\n",
              "      <td>-0.962797</td>\n",
              "      <td>-0.967422</td>\n",
              "      <td>-0.989000</td>\n",
              "      <td>-0.962596</td>\n",
              "      <td>-0.965650</td>\n",
              "      <td>-0.929747</td>\n",
              "      <td>...</td>\n",
              "      <td>-0.487737</td>\n",
              "      <td>-0.816696</td>\n",
              "      <td>-0.042494</td>\n",
              "      <td>-0.044218</td>\n",
              "      <td>0.307873</td>\n",
              "      <td>0.072790</td>\n",
              "      <td>-0.601120</td>\n",
              "      <td>0.331298</td>\n",
              "      <td>0.165163</td>\n",
              "      <td>STANDING</td>\n",
              "    </tr>\n",
              "    <tr>\n",
              "      <th>1</th>\n",
              "      <td>0.265757</td>\n",
              "      <td>-0.016576</td>\n",
              "      <td>-0.098163</td>\n",
              "      <td>-0.989551</td>\n",
              "      <td>-0.994636</td>\n",
              "      <td>-0.987435</td>\n",
              "      <td>-0.990189</td>\n",
              "      <td>-0.993870</td>\n",
              "      <td>-0.987558</td>\n",
              "      <td>-0.937337</td>\n",
              "      <td>...</td>\n",
              "      <td>-0.237820</td>\n",
              "      <td>-0.693515</td>\n",
              "      <td>-0.062899</td>\n",
              "      <td>0.388459</td>\n",
              "      <td>-0.765014</td>\n",
              "      <td>0.771524</td>\n",
              "      <td>0.345205</td>\n",
              "      <td>-0.769186</td>\n",
              "      <td>-0.147944</td>\n",
              "      <td>LAYING</td>\n",
              "    </tr>\n",
              "    <tr>\n",
              "      <th>2</th>\n",
              "      <td>0.278709</td>\n",
              "      <td>-0.014511</td>\n",
              "      <td>-0.108717</td>\n",
              "      <td>-0.997720</td>\n",
              "      <td>-0.981088</td>\n",
              "      <td>-0.994008</td>\n",
              "      <td>-0.997934</td>\n",
              "      <td>-0.982187</td>\n",
              "      <td>-0.995017</td>\n",
              "      <td>-0.942584</td>\n",
              "      <td>...</td>\n",
              "      <td>-0.535287</td>\n",
              "      <td>-0.829311</td>\n",
              "      <td>0.000265</td>\n",
              "      <td>-0.525022</td>\n",
              "      <td>-0.891875</td>\n",
              "      <td>0.021528</td>\n",
              "      <td>-0.833564</td>\n",
              "      <td>0.202434</td>\n",
              "      <td>-0.032755</td>\n",
              "      <td>STANDING</td>\n",
              "    </tr>\n",
              "    <tr>\n",
              "      <th>3</th>\n",
              "      <td>0.289795</td>\n",
              "      <td>-0.035536</td>\n",
              "      <td>-0.150354</td>\n",
              "      <td>-0.231727</td>\n",
              "      <td>-0.006412</td>\n",
              "      <td>-0.338117</td>\n",
              "      <td>-0.273557</td>\n",
              "      <td>0.014245</td>\n",
              "      <td>-0.347916</td>\n",
              "      <td>0.008288</td>\n",
              "      <td>...</td>\n",
              "      <td>-0.004012</td>\n",
              "      <td>-0.408956</td>\n",
              "      <td>-0.255125</td>\n",
              "      <td>0.612804</td>\n",
              "      <td>0.747381</td>\n",
              "      <td>-0.072944</td>\n",
              "      <td>-0.695819</td>\n",
              "      <td>0.287154</td>\n",
              "      <td>0.111388</td>\n",
              "      <td>WALKING</td>\n",
              "    </tr>\n",
              "    <tr>\n",
              "      <th>4</th>\n",
              "      <td>0.394807</td>\n",
              "      <td>0.034098</td>\n",
              "      <td>0.091229</td>\n",
              "      <td>0.088489</td>\n",
              "      <td>-0.106636</td>\n",
              "      <td>-0.388502</td>\n",
              "      <td>-0.010469</td>\n",
              "      <td>-0.109680</td>\n",
              "      <td>-0.346372</td>\n",
              "      <td>0.584131</td>\n",
              "      <td>...</td>\n",
              "      <td>-0.157832</td>\n",
              "      <td>-0.563437</td>\n",
              "      <td>-0.044344</td>\n",
              "      <td>-0.845268</td>\n",
              "      <td>-0.974650</td>\n",
              "      <td>-0.887846</td>\n",
              "      <td>-0.705029</td>\n",
              "      <td>0.264952</td>\n",
              "      <td>0.137758</td>\n",
              "      <td>WALKING_DOWNSTAIRS</td>\n",
              "    </tr>\n",
              "  </tbody>\n",
              "</table>\n",
              "<p>5 rows × 562 columns</p>\n",
              "</div>\n",
              "    <div class=\"colab-df-buttons\">\n",
              "\n",
              "  <div class=\"colab-df-container\">\n",
              "    <button class=\"colab-df-convert\" onclick=\"convertToInteractive('df-8299d007-dab6-4909-b069-49727334c9f8')\"\n",
              "            title=\"Convert this dataframe to an interactive table.\"\n",
              "            style=\"display:none;\">\n",
              "\n",
              "  <svg xmlns=\"http://www.w3.org/2000/svg\" height=\"24px\" viewBox=\"0 -960 960 960\">\n",
              "    <path d=\"M120-120v-720h720v720H120Zm60-500h600v-160H180v160Zm220 220h160v-160H400v160Zm0 220h160v-160H400v160ZM180-400h160v-160H180v160Zm440 0h160v-160H620v160ZM180-180h160v-160H180v160Zm440 0h160v-160H620v160Z\"/>\n",
              "  </svg>\n",
              "    </button>\n",
              "\n",
              "  <style>\n",
              "    .colab-df-container {\n",
              "      display:flex;\n",
              "      gap: 12px;\n",
              "    }\n",
              "\n",
              "    .colab-df-convert {\n",
              "      background-color: #E8F0FE;\n",
              "      border: none;\n",
              "      border-radius: 50%;\n",
              "      cursor: pointer;\n",
              "      display: none;\n",
              "      fill: #1967D2;\n",
              "      height: 32px;\n",
              "      padding: 0 0 0 0;\n",
              "      width: 32px;\n",
              "    }\n",
              "\n",
              "    .colab-df-convert:hover {\n",
              "      background-color: #E2EBFA;\n",
              "      box-shadow: 0px 1px 2px rgba(60, 64, 67, 0.3), 0px 1px 3px 1px rgba(60, 64, 67, 0.15);\n",
              "      fill: #174EA6;\n",
              "    }\n",
              "\n",
              "    .colab-df-buttons div {\n",
              "      margin-bottom: 4px;\n",
              "    }\n",
              "\n",
              "    [theme=dark] .colab-df-convert {\n",
              "      background-color: #3B4455;\n",
              "      fill: #D2E3FC;\n",
              "    }\n",
              "\n",
              "    [theme=dark] .colab-df-convert:hover {\n",
              "      background-color: #434B5C;\n",
              "      box-shadow: 0px 1px 3px 1px rgba(0, 0, 0, 0.15);\n",
              "      filter: drop-shadow(0px 1px 2px rgba(0, 0, 0, 0.3));\n",
              "      fill: #FFFFFF;\n",
              "    }\n",
              "  </style>\n",
              "\n",
              "    <script>\n",
              "      const buttonEl =\n",
              "        document.querySelector('#df-8299d007-dab6-4909-b069-49727334c9f8 button.colab-df-convert');\n",
              "      buttonEl.style.display =\n",
              "        google.colab.kernel.accessAllowed ? 'block' : 'none';\n",
              "\n",
              "      async function convertToInteractive(key) {\n",
              "        const element = document.querySelector('#df-8299d007-dab6-4909-b069-49727334c9f8');\n",
              "        const dataTable =\n",
              "          await google.colab.kernel.invokeFunction('convertToInteractive',\n",
              "                                                    [key], {});\n",
              "        if (!dataTable) return;\n",
              "\n",
              "        const docLinkHtml = 'Like what you see? Visit the ' +\n",
              "          '<a target=\"_blank\" href=https://colab.research.google.com/notebooks/data_table.ipynb>data table notebook</a>'\n",
              "          + ' to learn more about interactive tables.';\n",
              "        element.innerHTML = '';\n",
              "        dataTable['output_type'] = 'display_data';\n",
              "        await google.colab.output.renderOutput(dataTable, element);\n",
              "        const docLink = document.createElement('div');\n",
              "        docLink.innerHTML = docLinkHtml;\n",
              "        element.appendChild(docLink);\n",
              "      }\n",
              "    </script>\n",
              "  </div>\n",
              "\n",
              "\n",
              "<div id=\"df-8796de16-8def-4059-a1b4-faa3879c9b8a\">\n",
              "  <button class=\"colab-df-quickchart\" onclick=\"quickchart('df-8796de16-8def-4059-a1b4-faa3879c9b8a')\"\n",
              "            title=\"Suggest charts\"\n",
              "            style=\"display:none;\">\n",
              "\n",
              "<svg xmlns=\"http://www.w3.org/2000/svg\" height=\"24px\"viewBox=\"0 0 24 24\"\n",
              "     width=\"24px\">\n",
              "    <g>\n",
              "        <path d=\"M19 3H5c-1.1 0-2 .9-2 2v14c0 1.1.9 2 2 2h14c1.1 0 2-.9 2-2V5c0-1.1-.9-2-2-2zM9 17H7v-7h2v7zm4 0h-2V7h2v10zm4 0h-2v-4h2v4z\"/>\n",
              "    </g>\n",
              "</svg>\n",
              "  </button>\n",
              "\n",
              "<style>\n",
              "  .colab-df-quickchart {\n",
              "      --bg-color: #E8F0FE;\n",
              "      --fill-color: #1967D2;\n",
              "      --hover-bg-color: #E2EBFA;\n",
              "      --hover-fill-color: #174EA6;\n",
              "      --disabled-fill-color: #AAA;\n",
              "      --disabled-bg-color: #DDD;\n",
              "  }\n",
              "\n",
              "  [theme=dark] .colab-df-quickchart {\n",
              "      --bg-color: #3B4455;\n",
              "      --fill-color: #D2E3FC;\n",
              "      --hover-bg-color: #434B5C;\n",
              "      --hover-fill-color: #FFFFFF;\n",
              "      --disabled-bg-color: #3B4455;\n",
              "      --disabled-fill-color: #666;\n",
              "  }\n",
              "\n",
              "  .colab-df-quickchart {\n",
              "    background-color: var(--bg-color);\n",
              "    border: none;\n",
              "    border-radius: 50%;\n",
              "    cursor: pointer;\n",
              "    display: none;\n",
              "    fill: var(--fill-color);\n",
              "    height: 32px;\n",
              "    padding: 0;\n",
              "    width: 32px;\n",
              "  }\n",
              "\n",
              "  .colab-df-quickchart:hover {\n",
              "    background-color: var(--hover-bg-color);\n",
              "    box-shadow: 0 1px 2px rgba(60, 64, 67, 0.3), 0 1px 3px 1px rgba(60, 64, 67, 0.15);\n",
              "    fill: var(--button-hover-fill-color);\n",
              "  }\n",
              "\n",
              "  .colab-df-quickchart-complete:disabled,\n",
              "  .colab-df-quickchart-complete:disabled:hover {\n",
              "    background-color: var(--disabled-bg-color);\n",
              "    fill: var(--disabled-fill-color);\n",
              "    box-shadow: none;\n",
              "  }\n",
              "\n",
              "  .colab-df-spinner {\n",
              "    border: 2px solid var(--fill-color);\n",
              "    border-color: transparent;\n",
              "    border-bottom-color: var(--fill-color);\n",
              "    animation:\n",
              "      spin 1s steps(1) infinite;\n",
              "  }\n",
              "\n",
              "  @keyframes spin {\n",
              "    0% {\n",
              "      border-color: transparent;\n",
              "      border-bottom-color: var(--fill-color);\n",
              "      border-left-color: var(--fill-color);\n",
              "    }\n",
              "    20% {\n",
              "      border-color: transparent;\n",
              "      border-left-color: var(--fill-color);\n",
              "      border-top-color: var(--fill-color);\n",
              "    }\n",
              "    30% {\n",
              "      border-color: transparent;\n",
              "      border-left-color: var(--fill-color);\n",
              "      border-top-color: var(--fill-color);\n",
              "      border-right-color: var(--fill-color);\n",
              "    }\n",
              "    40% {\n",
              "      border-color: transparent;\n",
              "      border-right-color: var(--fill-color);\n",
              "      border-top-color: var(--fill-color);\n",
              "    }\n",
              "    60% {\n",
              "      border-color: transparent;\n",
              "      border-right-color: var(--fill-color);\n",
              "    }\n",
              "    80% {\n",
              "      border-color: transparent;\n",
              "      border-right-color: var(--fill-color);\n",
              "      border-bottom-color: var(--fill-color);\n",
              "    }\n",
              "    90% {\n",
              "      border-color: transparent;\n",
              "      border-bottom-color: var(--fill-color);\n",
              "    }\n",
              "  }\n",
              "</style>\n",
              "\n",
              "  <script>\n",
              "    async function quickchart(key) {\n",
              "      const quickchartButtonEl =\n",
              "        document.querySelector('#' + key + ' button');\n",
              "      quickchartButtonEl.disabled = true;  // To prevent multiple clicks.\n",
              "      quickchartButtonEl.classList.add('colab-df-spinner');\n",
              "      try {\n",
              "        const charts = await google.colab.kernel.invokeFunction(\n",
              "            'suggestCharts', [key], {});\n",
              "      } catch (error) {\n",
              "        console.error('Error during call to suggestCharts:', error);\n",
              "      }\n",
              "      quickchartButtonEl.classList.remove('colab-df-spinner');\n",
              "      quickchartButtonEl.classList.add('colab-df-quickchart-complete');\n",
              "    }\n",
              "    (() => {\n",
              "      let quickchartButtonEl =\n",
              "        document.querySelector('#df-8796de16-8def-4059-a1b4-faa3879c9b8a button');\n",
              "      quickchartButtonEl.style.display =\n",
              "        google.colab.kernel.accessAllowed ? 'block' : 'none';\n",
              "    })();\n",
              "  </script>\n",
              "</div>\n",
              "\n",
              "    </div>\n",
              "  </div>\n"
            ],
            "application/vnd.google.colaboratory.intrinsic+json": {
              "type": "dataframe",
              "variable_name": "train"
            }
          },
          "metadata": {},
          "execution_count": 15
        }
      ],
      "source": [
        "#전체 데이터의 상위 5개 행 확인\n",
        "train.head()"
      ]
    },
    {
      "cell_type": "code",
      "execution_count": null,
      "metadata": {
        "id": "ajJ1qJkhpr3n",
        "colab": {
          "base_uri": "https://localhost:8080/",
          "height": 367
        },
        "outputId": "87b2ccc6-0644-48d1-8716-fbbb4e1d22cf"
      },
      "outputs": [
        {
          "output_type": "execute_result",
          "data": {
            "text/plain": [
              "       tBodyAcc-mean()-X  tBodyAcc-mean()-Y  tBodyAcc-mean()-Z  \\\n",
              "count        5881.000000        5881.000000        5881.000000   \n",
              "mean            0.274811          -0.017799          -0.109396   \n",
              "std             0.067614           0.039422           0.058373   \n",
              "min            -0.503823          -0.684893          -1.000000   \n",
              "25%             0.262919          -0.024877          -0.121051   \n",
              "50%             0.277154          -0.017221          -0.108781   \n",
              "75%             0.288526          -0.010920          -0.098163   \n",
              "max             1.000000           1.000000           1.000000   \n",
              "\n",
              "       tBodyAcc-std()-X  tBodyAcc-std()-Y  tBodyAcc-std()-Z  tBodyAcc-mad()-X  \\\n",
              "count       5881.000000       5881.000000       5881.000000       5881.000000   \n",
              "mean          -0.603138         -0.509815         -0.604058         -0.628151   \n",
              "std            0.448807          0.501815          0.417319          0.424345   \n",
              "min           -1.000000         -0.999844         -0.999667         -1.000000   \n",
              "25%           -0.992774         -0.977680         -0.980127         -0.993602   \n",
              "50%           -0.943933         -0.844575         -0.856352         -0.948501   \n",
              "75%           -0.242130         -0.034499         -0.262690         -0.291138   \n",
              "max            1.000000          0.916238          1.000000          1.000000   \n",
              "\n",
              "       tBodyAcc-mad()-Y  tBodyAcc-mad()-Z  tBodyAcc-max()-X  ...  \\\n",
              "count       5881.000000       5881.000000       5881.000000  ...   \n",
              "mean          -0.525944         -0.605374         -0.465490  ...   \n",
              "std            0.485115          0.413043          0.544995  ...   \n",
              "min           -0.999419         -1.000000         -1.000000  ...   \n",
              "25%           -0.977865         -0.980112         -0.936067  ...   \n",
              "50%           -0.849266         -0.849896         -0.878729  ...   \n",
              "75%           -0.068857         -0.268539         -0.013690  ...   \n",
              "max            0.967664          1.000000          1.000000  ...   \n",
              "\n",
              "       fBodyBodyGyroJerkMag-meanFreq()  fBodyBodyGyroJerkMag-skewness()  \\\n",
              "count                      5881.000000                      5881.000000   \n",
              "mean                          0.126955                        -0.305883   \n",
              "std                           0.249176                         0.322808   \n",
              "min                          -0.965725                        -0.979261   \n",
              "25%                          -0.021610                        -0.541969   \n",
              "50%                           0.133887                        -0.342923   \n",
              "75%                           0.288944                        -0.127371   \n",
              "max                           0.946700                         0.989538   \n",
              "\n",
              "       fBodyBodyGyroJerkMag-kurtosis()  angle(tBodyAccMean,gravity)  \\\n",
              "count                      5881.000000                  5881.000000   \n",
              "mean                         -0.623548                     0.008524   \n",
              "std                           0.310371                     0.339730   \n",
              "min                          -0.999765                    -0.976580   \n",
              "25%                          -0.845985                    -0.122361   \n",
              "50%                          -0.712677                     0.010278   \n",
              "75%                          -0.501158                     0.154985   \n",
              "max                           0.956845                     1.000000   \n",
              "\n",
              "       angle(tBodyAccJerkMean),gravityMean)  angle(tBodyGyroMean,gravityMean)  \\\n",
              "count                           5881.000000                       5881.000000   \n",
              "mean                              -0.001185                          0.009340   \n",
              "std                                0.447197                          0.608190   \n",
              "min                               -1.000000                         -1.000000   \n",
              "25%                               -0.294369                         -0.481718   \n",
              "50%                                0.005146                          0.011448   \n",
              "75%                                0.285030                          0.499857   \n",
              "max                                1.000000                          0.998702   \n",
              "\n",
              "       angle(tBodyGyroJerkMean,gravityMean)  angle(X,gravityMean)  \\\n",
              "count                           5881.000000           5881.000000   \n",
              "mean                              -0.007099             -0.491501   \n",
              "std                                0.476738              0.509069   \n",
              "min                               -1.000000             -1.000000   \n",
              "25%                               -0.373345             -0.811397   \n",
              "50%                               -0.000847             -0.709441   \n",
              "75%                                0.356236             -0.511330   \n",
              "max                                0.996078              0.977344   \n",
              "\n",
              "       angle(Y,gravityMean)  angle(Z,gravityMean)  \n",
              "count           5881.000000           5881.000000  \n",
              "mean               0.059299             -0.054594  \n",
              "std                0.297340              0.278479  \n",
              "min               -1.000000             -0.980143  \n",
              "25%               -0.018203             -0.141555  \n",
              "50%                0.182893              0.003951  \n",
              "75%                0.248435              0.111932  \n",
              "max                0.478157              1.000000  \n",
              "\n",
              "[8 rows x 561 columns]"
            ],
            "text/html": [
              "\n",
              "  <div id=\"df-bc86fb06-7b0f-45b6-a629-d1bb6272cb92\" class=\"colab-df-container\">\n",
              "    <div>\n",
              "<style scoped>\n",
              "    .dataframe tbody tr th:only-of-type {\n",
              "        vertical-align: middle;\n",
              "    }\n",
              "\n",
              "    .dataframe tbody tr th {\n",
              "        vertical-align: top;\n",
              "    }\n",
              "\n",
              "    .dataframe thead th {\n",
              "        text-align: right;\n",
              "    }\n",
              "</style>\n",
              "<table border=\"1\" class=\"dataframe\">\n",
              "  <thead>\n",
              "    <tr style=\"text-align: right;\">\n",
              "      <th></th>\n",
              "      <th>tBodyAcc-mean()-X</th>\n",
              "      <th>tBodyAcc-mean()-Y</th>\n",
              "      <th>tBodyAcc-mean()-Z</th>\n",
              "      <th>tBodyAcc-std()-X</th>\n",
              "      <th>tBodyAcc-std()-Y</th>\n",
              "      <th>tBodyAcc-std()-Z</th>\n",
              "      <th>tBodyAcc-mad()-X</th>\n",
              "      <th>tBodyAcc-mad()-Y</th>\n",
              "      <th>tBodyAcc-mad()-Z</th>\n",
              "      <th>tBodyAcc-max()-X</th>\n",
              "      <th>...</th>\n",
              "      <th>fBodyBodyGyroJerkMag-meanFreq()</th>\n",
              "      <th>fBodyBodyGyroJerkMag-skewness()</th>\n",
              "      <th>fBodyBodyGyroJerkMag-kurtosis()</th>\n",
              "      <th>angle(tBodyAccMean,gravity)</th>\n",
              "      <th>angle(tBodyAccJerkMean),gravityMean)</th>\n",
              "      <th>angle(tBodyGyroMean,gravityMean)</th>\n",
              "      <th>angle(tBodyGyroJerkMean,gravityMean)</th>\n",
              "      <th>angle(X,gravityMean)</th>\n",
              "      <th>angle(Y,gravityMean)</th>\n",
              "      <th>angle(Z,gravityMean)</th>\n",
              "    </tr>\n",
              "  </thead>\n",
              "  <tbody>\n",
              "    <tr>\n",
              "      <th>count</th>\n",
              "      <td>5881.000000</td>\n",
              "      <td>5881.000000</td>\n",
              "      <td>5881.000000</td>\n",
              "      <td>5881.000000</td>\n",
              "      <td>5881.000000</td>\n",
              "      <td>5881.000000</td>\n",
              "      <td>5881.000000</td>\n",
              "      <td>5881.000000</td>\n",
              "      <td>5881.000000</td>\n",
              "      <td>5881.000000</td>\n",
              "      <td>...</td>\n",
              "      <td>5881.000000</td>\n",
              "      <td>5881.000000</td>\n",
              "      <td>5881.000000</td>\n",
              "      <td>5881.000000</td>\n",
              "      <td>5881.000000</td>\n",
              "      <td>5881.000000</td>\n",
              "      <td>5881.000000</td>\n",
              "      <td>5881.000000</td>\n",
              "      <td>5881.000000</td>\n",
              "      <td>5881.000000</td>\n",
              "    </tr>\n",
              "    <tr>\n",
              "      <th>mean</th>\n",
              "      <td>0.274811</td>\n",
              "      <td>-0.017799</td>\n",
              "      <td>-0.109396</td>\n",
              "      <td>-0.603138</td>\n",
              "      <td>-0.509815</td>\n",
              "      <td>-0.604058</td>\n",
              "      <td>-0.628151</td>\n",
              "      <td>-0.525944</td>\n",
              "      <td>-0.605374</td>\n",
              "      <td>-0.465490</td>\n",
              "      <td>...</td>\n",
              "      <td>0.126955</td>\n",
              "      <td>-0.305883</td>\n",
              "      <td>-0.623548</td>\n",
              "      <td>0.008524</td>\n",
              "      <td>-0.001185</td>\n",
              "      <td>0.009340</td>\n",
              "      <td>-0.007099</td>\n",
              "      <td>-0.491501</td>\n",
              "      <td>0.059299</td>\n",
              "      <td>-0.054594</td>\n",
              "    </tr>\n",
              "    <tr>\n",
              "      <th>std</th>\n",
              "      <td>0.067614</td>\n",
              "      <td>0.039422</td>\n",
              "      <td>0.058373</td>\n",
              "      <td>0.448807</td>\n",
              "      <td>0.501815</td>\n",
              "      <td>0.417319</td>\n",
              "      <td>0.424345</td>\n",
              "      <td>0.485115</td>\n",
              "      <td>0.413043</td>\n",
              "      <td>0.544995</td>\n",
              "      <td>...</td>\n",
              "      <td>0.249176</td>\n",
              "      <td>0.322808</td>\n",
              "      <td>0.310371</td>\n",
              "      <td>0.339730</td>\n",
              "      <td>0.447197</td>\n",
              "      <td>0.608190</td>\n",
              "      <td>0.476738</td>\n",
              "      <td>0.509069</td>\n",
              "      <td>0.297340</td>\n",
              "      <td>0.278479</td>\n",
              "    </tr>\n",
              "    <tr>\n",
              "      <th>min</th>\n",
              "      <td>-0.503823</td>\n",
              "      <td>-0.684893</td>\n",
              "      <td>-1.000000</td>\n",
              "      <td>-1.000000</td>\n",
              "      <td>-0.999844</td>\n",
              "      <td>-0.999667</td>\n",
              "      <td>-1.000000</td>\n",
              "      <td>-0.999419</td>\n",
              "      <td>-1.000000</td>\n",
              "      <td>-1.000000</td>\n",
              "      <td>...</td>\n",
              "      <td>-0.965725</td>\n",
              "      <td>-0.979261</td>\n",
              "      <td>-0.999765</td>\n",
              "      <td>-0.976580</td>\n",
              "      <td>-1.000000</td>\n",
              "      <td>-1.000000</td>\n",
              "      <td>-1.000000</td>\n",
              "      <td>-1.000000</td>\n",
              "      <td>-1.000000</td>\n",
              "      <td>-0.980143</td>\n",
              "    </tr>\n",
              "    <tr>\n",
              "      <th>25%</th>\n",
              "      <td>0.262919</td>\n",
              "      <td>-0.024877</td>\n",
              "      <td>-0.121051</td>\n",
              "      <td>-0.992774</td>\n",
              "      <td>-0.977680</td>\n",
              "      <td>-0.980127</td>\n",
              "      <td>-0.993602</td>\n",
              "      <td>-0.977865</td>\n",
              "      <td>-0.980112</td>\n",
              "      <td>-0.936067</td>\n",
              "      <td>...</td>\n",
              "      <td>-0.021610</td>\n",
              "      <td>-0.541969</td>\n",
              "      <td>-0.845985</td>\n",
              "      <td>-0.122361</td>\n",
              "      <td>-0.294369</td>\n",
              "      <td>-0.481718</td>\n",
              "      <td>-0.373345</td>\n",
              "      <td>-0.811397</td>\n",
              "      <td>-0.018203</td>\n",
              "      <td>-0.141555</td>\n",
              "    </tr>\n",
              "    <tr>\n",
              "      <th>50%</th>\n",
              "      <td>0.277154</td>\n",
              "      <td>-0.017221</td>\n",
              "      <td>-0.108781</td>\n",
              "      <td>-0.943933</td>\n",
              "      <td>-0.844575</td>\n",
              "      <td>-0.856352</td>\n",
              "      <td>-0.948501</td>\n",
              "      <td>-0.849266</td>\n",
              "      <td>-0.849896</td>\n",
              "      <td>-0.878729</td>\n",
              "      <td>...</td>\n",
              "      <td>0.133887</td>\n",
              "      <td>-0.342923</td>\n",
              "      <td>-0.712677</td>\n",
              "      <td>0.010278</td>\n",
              "      <td>0.005146</td>\n",
              "      <td>0.011448</td>\n",
              "      <td>-0.000847</td>\n",
              "      <td>-0.709441</td>\n",
              "      <td>0.182893</td>\n",
              "      <td>0.003951</td>\n",
              "    </tr>\n",
              "    <tr>\n",
              "      <th>75%</th>\n",
              "      <td>0.288526</td>\n",
              "      <td>-0.010920</td>\n",
              "      <td>-0.098163</td>\n",
              "      <td>-0.242130</td>\n",
              "      <td>-0.034499</td>\n",
              "      <td>-0.262690</td>\n",
              "      <td>-0.291138</td>\n",
              "      <td>-0.068857</td>\n",
              "      <td>-0.268539</td>\n",
              "      <td>-0.013690</td>\n",
              "      <td>...</td>\n",
              "      <td>0.288944</td>\n",
              "      <td>-0.127371</td>\n",
              "      <td>-0.501158</td>\n",
              "      <td>0.154985</td>\n",
              "      <td>0.285030</td>\n",
              "      <td>0.499857</td>\n",
              "      <td>0.356236</td>\n",
              "      <td>-0.511330</td>\n",
              "      <td>0.248435</td>\n",
              "      <td>0.111932</td>\n",
              "    </tr>\n",
              "    <tr>\n",
              "      <th>max</th>\n",
              "      <td>1.000000</td>\n",
              "      <td>1.000000</td>\n",
              "      <td>1.000000</td>\n",
              "      <td>1.000000</td>\n",
              "      <td>0.916238</td>\n",
              "      <td>1.000000</td>\n",
              "      <td>1.000000</td>\n",
              "      <td>0.967664</td>\n",
              "      <td>1.000000</td>\n",
              "      <td>1.000000</td>\n",
              "      <td>...</td>\n",
              "      <td>0.946700</td>\n",
              "      <td>0.989538</td>\n",
              "      <td>0.956845</td>\n",
              "      <td>1.000000</td>\n",
              "      <td>1.000000</td>\n",
              "      <td>0.998702</td>\n",
              "      <td>0.996078</td>\n",
              "      <td>0.977344</td>\n",
              "      <td>0.478157</td>\n",
              "      <td>1.000000</td>\n",
              "    </tr>\n",
              "  </tbody>\n",
              "</table>\n",
              "<p>8 rows × 561 columns</p>\n",
              "</div>\n",
              "    <div class=\"colab-df-buttons\">\n",
              "\n",
              "  <div class=\"colab-df-container\">\n",
              "    <button class=\"colab-df-convert\" onclick=\"convertToInteractive('df-bc86fb06-7b0f-45b6-a629-d1bb6272cb92')\"\n",
              "            title=\"Convert this dataframe to an interactive table.\"\n",
              "            style=\"display:none;\">\n",
              "\n",
              "  <svg xmlns=\"http://www.w3.org/2000/svg\" height=\"24px\" viewBox=\"0 -960 960 960\">\n",
              "    <path d=\"M120-120v-720h720v720H120Zm60-500h600v-160H180v160Zm220 220h160v-160H400v160Zm0 220h160v-160H400v160ZM180-400h160v-160H180v160Zm440 0h160v-160H620v160ZM180-180h160v-160H180v160Zm440 0h160v-160H620v160Z\"/>\n",
              "  </svg>\n",
              "    </button>\n",
              "\n",
              "  <style>\n",
              "    .colab-df-container {\n",
              "      display:flex;\n",
              "      gap: 12px;\n",
              "    }\n",
              "\n",
              "    .colab-df-convert {\n",
              "      background-color: #E8F0FE;\n",
              "      border: none;\n",
              "      border-radius: 50%;\n",
              "      cursor: pointer;\n",
              "      display: none;\n",
              "      fill: #1967D2;\n",
              "      height: 32px;\n",
              "      padding: 0 0 0 0;\n",
              "      width: 32px;\n",
              "    }\n",
              "\n",
              "    .colab-df-convert:hover {\n",
              "      background-color: #E2EBFA;\n",
              "      box-shadow: 0px 1px 2px rgba(60, 64, 67, 0.3), 0px 1px 3px 1px rgba(60, 64, 67, 0.15);\n",
              "      fill: #174EA6;\n",
              "    }\n",
              "\n",
              "    .colab-df-buttons div {\n",
              "      margin-bottom: 4px;\n",
              "    }\n",
              "\n",
              "    [theme=dark] .colab-df-convert {\n",
              "      background-color: #3B4455;\n",
              "      fill: #D2E3FC;\n",
              "    }\n",
              "\n",
              "    [theme=dark] .colab-df-convert:hover {\n",
              "      background-color: #434B5C;\n",
              "      box-shadow: 0px 1px 3px 1px rgba(0, 0, 0, 0.15);\n",
              "      filter: drop-shadow(0px 1px 2px rgba(0, 0, 0, 0.3));\n",
              "      fill: #FFFFFF;\n",
              "    }\n",
              "  </style>\n",
              "\n",
              "    <script>\n",
              "      const buttonEl =\n",
              "        document.querySelector('#df-bc86fb06-7b0f-45b6-a629-d1bb6272cb92 button.colab-df-convert');\n",
              "      buttonEl.style.display =\n",
              "        google.colab.kernel.accessAllowed ? 'block' : 'none';\n",
              "\n",
              "      async function convertToInteractive(key) {\n",
              "        const element = document.querySelector('#df-bc86fb06-7b0f-45b6-a629-d1bb6272cb92');\n",
              "        const dataTable =\n",
              "          await google.colab.kernel.invokeFunction('convertToInteractive',\n",
              "                                                    [key], {});\n",
              "        if (!dataTable) return;\n",
              "\n",
              "        const docLinkHtml = 'Like what you see? Visit the ' +\n",
              "          '<a target=\"_blank\" href=https://colab.research.google.com/notebooks/data_table.ipynb>data table notebook</a>'\n",
              "          + ' to learn more about interactive tables.';\n",
              "        element.innerHTML = '';\n",
              "        dataTable['output_type'] = 'display_data';\n",
              "        await google.colab.output.renderOutput(dataTable, element);\n",
              "        const docLink = document.createElement('div');\n",
              "        docLink.innerHTML = docLinkHtml;\n",
              "        element.appendChild(docLink);\n",
              "      }\n",
              "    </script>\n",
              "  </div>\n",
              "\n",
              "\n",
              "<div id=\"df-89a1ca5f-52dc-463a-b40b-a726fe6a5591\">\n",
              "  <button class=\"colab-df-quickchart\" onclick=\"quickchart('df-89a1ca5f-52dc-463a-b40b-a726fe6a5591')\"\n",
              "            title=\"Suggest charts\"\n",
              "            style=\"display:none;\">\n",
              "\n",
              "<svg xmlns=\"http://www.w3.org/2000/svg\" height=\"24px\"viewBox=\"0 0 24 24\"\n",
              "     width=\"24px\">\n",
              "    <g>\n",
              "        <path d=\"M19 3H5c-1.1 0-2 .9-2 2v14c0 1.1.9 2 2 2h14c1.1 0 2-.9 2-2V5c0-1.1-.9-2-2-2zM9 17H7v-7h2v7zm4 0h-2V7h2v10zm4 0h-2v-4h2v4z\"/>\n",
              "    </g>\n",
              "</svg>\n",
              "  </button>\n",
              "\n",
              "<style>\n",
              "  .colab-df-quickchart {\n",
              "      --bg-color: #E8F0FE;\n",
              "      --fill-color: #1967D2;\n",
              "      --hover-bg-color: #E2EBFA;\n",
              "      --hover-fill-color: #174EA6;\n",
              "      --disabled-fill-color: #AAA;\n",
              "      --disabled-bg-color: #DDD;\n",
              "  }\n",
              "\n",
              "  [theme=dark] .colab-df-quickchart {\n",
              "      --bg-color: #3B4455;\n",
              "      --fill-color: #D2E3FC;\n",
              "      --hover-bg-color: #434B5C;\n",
              "      --hover-fill-color: #FFFFFF;\n",
              "      --disabled-bg-color: #3B4455;\n",
              "      --disabled-fill-color: #666;\n",
              "  }\n",
              "\n",
              "  .colab-df-quickchart {\n",
              "    background-color: var(--bg-color);\n",
              "    border: none;\n",
              "    border-radius: 50%;\n",
              "    cursor: pointer;\n",
              "    display: none;\n",
              "    fill: var(--fill-color);\n",
              "    height: 32px;\n",
              "    padding: 0;\n",
              "    width: 32px;\n",
              "  }\n",
              "\n",
              "  .colab-df-quickchart:hover {\n",
              "    background-color: var(--hover-bg-color);\n",
              "    box-shadow: 0 1px 2px rgba(60, 64, 67, 0.3), 0 1px 3px 1px rgba(60, 64, 67, 0.15);\n",
              "    fill: var(--button-hover-fill-color);\n",
              "  }\n",
              "\n",
              "  .colab-df-quickchart-complete:disabled,\n",
              "  .colab-df-quickchart-complete:disabled:hover {\n",
              "    background-color: var(--disabled-bg-color);\n",
              "    fill: var(--disabled-fill-color);\n",
              "    box-shadow: none;\n",
              "  }\n",
              "\n",
              "  .colab-df-spinner {\n",
              "    border: 2px solid var(--fill-color);\n",
              "    border-color: transparent;\n",
              "    border-bottom-color: var(--fill-color);\n",
              "    animation:\n",
              "      spin 1s steps(1) infinite;\n",
              "  }\n",
              "\n",
              "  @keyframes spin {\n",
              "    0% {\n",
              "      border-color: transparent;\n",
              "      border-bottom-color: var(--fill-color);\n",
              "      border-left-color: var(--fill-color);\n",
              "    }\n",
              "    20% {\n",
              "      border-color: transparent;\n",
              "      border-left-color: var(--fill-color);\n",
              "      border-top-color: var(--fill-color);\n",
              "    }\n",
              "    30% {\n",
              "      border-color: transparent;\n",
              "      border-left-color: var(--fill-color);\n",
              "      border-top-color: var(--fill-color);\n",
              "      border-right-color: var(--fill-color);\n",
              "    }\n",
              "    40% {\n",
              "      border-color: transparent;\n",
              "      border-right-color: var(--fill-color);\n",
              "      border-top-color: var(--fill-color);\n",
              "    }\n",
              "    60% {\n",
              "      border-color: transparent;\n",
              "      border-right-color: var(--fill-color);\n",
              "    }\n",
              "    80% {\n",
              "      border-color: transparent;\n",
              "      border-right-color: var(--fill-color);\n",
              "      border-bottom-color: var(--fill-color);\n",
              "    }\n",
              "    90% {\n",
              "      border-color: transparent;\n",
              "      border-bottom-color: var(--fill-color);\n",
              "    }\n",
              "  }\n",
              "</style>\n",
              "\n",
              "  <script>\n",
              "    async function quickchart(key) {\n",
              "      const quickchartButtonEl =\n",
              "        document.querySelector('#' + key + ' button');\n",
              "      quickchartButtonEl.disabled = true;  // To prevent multiple clicks.\n",
              "      quickchartButtonEl.classList.add('colab-df-spinner');\n",
              "      try {\n",
              "        const charts = await google.colab.kernel.invokeFunction(\n",
              "            'suggestCharts', [key], {});\n",
              "      } catch (error) {\n",
              "        console.error('Error during call to suggestCharts:', error);\n",
              "      }\n",
              "      quickchartButtonEl.classList.remove('colab-df-spinner');\n",
              "      quickchartButtonEl.classList.add('colab-df-quickchart-complete');\n",
              "    }\n",
              "    (() => {\n",
              "      let quickchartButtonEl =\n",
              "        document.querySelector('#df-89a1ca5f-52dc-463a-b40b-a726fe6a5591 button');\n",
              "      quickchartButtonEl.style.display =\n",
              "        google.colab.kernel.accessAllowed ? 'block' : 'none';\n",
              "    })();\n",
              "  </script>\n",
              "</div>\n",
              "\n",
              "    </div>\n",
              "  </div>\n"
            ],
            "application/vnd.google.colaboratory.intrinsic+json": {
              "type": "dataframe"
            }
          },
          "metadata": {},
          "execution_count": 16
        }
      ],
      "source": [
        "#전체 데이터의 수치형 변수 분포 확인\n",
        "train.describe()"
      ]
    },
    {
      "cell_type": "code",
      "execution_count": null,
      "metadata": {
        "id": "Jn78I6JFpr3n",
        "colab": {
          "base_uri": "https://localhost:8080/"
        },
        "collapsed": true,
        "outputId": "b2df7522-fa78-41dd-ef34-fd5ef5d2c18e"
      },
      "outputs": [
        {
          "output_type": "execute_result",
          "data": {
            "text/plain": [
              "['tBodyAcc-mean()-X',\n",
              " 'tBodyAcc-mean()-Y',\n",
              " 'tBodyAcc-mean()-Z',\n",
              " 'tBodyAcc-std()-X',\n",
              " 'tBodyAcc-std()-Y',\n",
              " 'tBodyAcc-std()-Z',\n",
              " 'tBodyAcc-mad()-X',\n",
              " 'tBodyAcc-mad()-Y',\n",
              " 'tBodyAcc-mad()-Z',\n",
              " 'tBodyAcc-max()-X',\n",
              " 'tBodyAcc-max()-Y',\n",
              " 'tBodyAcc-max()-Z',\n",
              " 'tBodyAcc-min()-X',\n",
              " 'tBodyAcc-min()-Y',\n",
              " 'tBodyAcc-min()-Z',\n",
              " 'tBodyAcc-sma()',\n",
              " 'tBodyAcc-energy()-X',\n",
              " 'tBodyAcc-energy()-Y',\n",
              " 'tBodyAcc-energy()-Z',\n",
              " 'tBodyAcc-iqr()-X',\n",
              " 'tBodyAcc-iqr()-Y',\n",
              " 'tBodyAcc-iqr()-Z',\n",
              " 'tBodyAcc-entropy()-X',\n",
              " 'tBodyAcc-entropy()-Y',\n",
              " 'tBodyAcc-entropy()-Z',\n",
              " 'tBodyAcc-arCoeff()-X,1',\n",
              " 'tBodyAcc-arCoeff()-X,2',\n",
              " 'tBodyAcc-arCoeff()-X,3',\n",
              " 'tBodyAcc-arCoeff()-X,4',\n",
              " 'tBodyAcc-arCoeff()-Y,1',\n",
              " 'tBodyAcc-arCoeff()-Y,2',\n",
              " 'tBodyAcc-arCoeff()-Y,3',\n",
              " 'tBodyAcc-arCoeff()-Y,4',\n",
              " 'tBodyAcc-arCoeff()-Z,1',\n",
              " 'tBodyAcc-arCoeff()-Z,2',\n",
              " 'tBodyAcc-arCoeff()-Z,3',\n",
              " 'tBodyAcc-arCoeff()-Z,4',\n",
              " 'tBodyAcc-correlation()-X,Y',\n",
              " 'tBodyAcc-correlation()-X,Z',\n",
              " 'tBodyAcc-correlation()-Y,Z',\n",
              " 'tGravityAcc-mean()-X',\n",
              " 'tGravityAcc-mean()-Y',\n",
              " 'tGravityAcc-mean()-Z',\n",
              " 'tGravityAcc-std()-X',\n",
              " 'tGravityAcc-std()-Y',\n",
              " 'tGravityAcc-std()-Z',\n",
              " 'tGravityAcc-mad()-X',\n",
              " 'tGravityAcc-mad()-Y',\n",
              " 'tGravityAcc-mad()-Z',\n",
              " 'tGravityAcc-max()-X',\n",
              " 'tGravityAcc-max()-Y',\n",
              " 'tGravityAcc-max()-Z',\n",
              " 'tGravityAcc-min()-X',\n",
              " 'tGravityAcc-min()-Y',\n",
              " 'tGravityAcc-min()-Z',\n",
              " 'tGravityAcc-sma()',\n",
              " 'tGravityAcc-energy()-X',\n",
              " 'tGravityAcc-energy()-Y',\n",
              " 'tGravityAcc-energy()-Z',\n",
              " 'tGravityAcc-iqr()-X',\n",
              " 'tGravityAcc-iqr()-Y',\n",
              " 'tGravityAcc-iqr()-Z',\n",
              " 'tGravityAcc-entropy()-X',\n",
              " 'tGravityAcc-entropy()-Y',\n",
              " 'tGravityAcc-entropy()-Z',\n",
              " 'tGravityAcc-arCoeff()-X,1',\n",
              " 'tGravityAcc-arCoeff()-X,2',\n",
              " 'tGravityAcc-arCoeff()-X,3',\n",
              " 'tGravityAcc-arCoeff()-X,4',\n",
              " 'tGravityAcc-arCoeff()-Y,1',\n",
              " 'tGravityAcc-arCoeff()-Y,2',\n",
              " 'tGravityAcc-arCoeff()-Y,3',\n",
              " 'tGravityAcc-arCoeff()-Y,4',\n",
              " 'tGravityAcc-arCoeff()-Z,1',\n",
              " 'tGravityAcc-arCoeff()-Z,2',\n",
              " 'tGravityAcc-arCoeff()-Z,3',\n",
              " 'tGravityAcc-arCoeff()-Z,4',\n",
              " 'tGravityAcc-correlation()-X,Y',\n",
              " 'tGravityAcc-correlation()-X,Z',\n",
              " 'tGravityAcc-correlation()-Y,Z',\n",
              " 'tBodyAccJerk-mean()-X',\n",
              " 'tBodyAccJerk-mean()-Y',\n",
              " 'tBodyAccJerk-mean()-Z',\n",
              " 'tBodyAccJerk-std()-X',\n",
              " 'tBodyAccJerk-std()-Y',\n",
              " 'tBodyAccJerk-std()-Z',\n",
              " 'tBodyAccJerk-mad()-X',\n",
              " 'tBodyAccJerk-mad()-Y',\n",
              " 'tBodyAccJerk-mad()-Z',\n",
              " 'tBodyAccJerk-max()-X',\n",
              " 'tBodyAccJerk-max()-Y',\n",
              " 'tBodyAccJerk-max()-Z',\n",
              " 'tBodyAccJerk-min()-X',\n",
              " 'tBodyAccJerk-min()-Y',\n",
              " 'tBodyAccJerk-min()-Z',\n",
              " 'tBodyAccJerk-sma()',\n",
              " 'tBodyAccJerk-energy()-X',\n",
              " 'tBodyAccJerk-energy()-Y',\n",
              " 'tBodyAccJerk-energy()-Z',\n",
              " 'tBodyAccJerk-iqr()-X',\n",
              " 'tBodyAccJerk-iqr()-Y',\n",
              " 'tBodyAccJerk-iqr()-Z',\n",
              " 'tBodyAccJerk-entropy()-X',\n",
              " 'tBodyAccJerk-entropy()-Y',\n",
              " 'tBodyAccJerk-entropy()-Z',\n",
              " 'tBodyAccJerk-arCoeff()-X,1',\n",
              " 'tBodyAccJerk-arCoeff()-X,2',\n",
              " 'tBodyAccJerk-arCoeff()-X,3',\n",
              " 'tBodyAccJerk-arCoeff()-X,4',\n",
              " 'tBodyAccJerk-arCoeff()-Y,1',\n",
              " 'tBodyAccJerk-arCoeff()-Y,2',\n",
              " 'tBodyAccJerk-arCoeff()-Y,3',\n",
              " 'tBodyAccJerk-arCoeff()-Y,4',\n",
              " 'tBodyAccJerk-arCoeff()-Z,1',\n",
              " 'tBodyAccJerk-arCoeff()-Z,2',\n",
              " 'tBodyAccJerk-arCoeff()-Z,3',\n",
              " 'tBodyAccJerk-arCoeff()-Z,4',\n",
              " 'tBodyAccJerk-correlation()-X,Y',\n",
              " 'tBodyAccJerk-correlation()-X,Z',\n",
              " 'tBodyAccJerk-correlation()-Y,Z',\n",
              " 'tBodyGyro-mean()-X',\n",
              " 'tBodyGyro-mean()-Y',\n",
              " 'tBodyGyro-mean()-Z',\n",
              " 'tBodyGyro-std()-X',\n",
              " 'tBodyGyro-std()-Y',\n",
              " 'tBodyGyro-std()-Z',\n",
              " 'tBodyGyro-mad()-X',\n",
              " 'tBodyGyro-mad()-Y',\n",
              " 'tBodyGyro-mad()-Z',\n",
              " 'tBodyGyro-max()-X',\n",
              " 'tBodyGyro-max()-Y',\n",
              " 'tBodyGyro-max()-Z',\n",
              " 'tBodyGyro-min()-X',\n",
              " 'tBodyGyro-min()-Y',\n",
              " 'tBodyGyro-min()-Z',\n",
              " 'tBodyGyro-sma()',\n",
              " 'tBodyGyro-energy()-X',\n",
              " 'tBodyGyro-energy()-Y',\n",
              " 'tBodyGyro-energy()-Z',\n",
              " 'tBodyGyro-iqr()-X',\n",
              " 'tBodyGyro-iqr()-Y',\n",
              " 'tBodyGyro-iqr()-Z',\n",
              " 'tBodyGyro-entropy()-X',\n",
              " 'tBodyGyro-entropy()-Y',\n",
              " 'tBodyGyro-entropy()-Z',\n",
              " 'tBodyGyro-arCoeff()-X,1',\n",
              " 'tBodyGyro-arCoeff()-X,2',\n",
              " 'tBodyGyro-arCoeff()-X,3',\n",
              " 'tBodyGyro-arCoeff()-X,4',\n",
              " 'tBodyGyro-arCoeff()-Y,1',\n",
              " 'tBodyGyro-arCoeff()-Y,2',\n",
              " 'tBodyGyro-arCoeff()-Y,3',\n",
              " 'tBodyGyro-arCoeff()-Y,4',\n",
              " 'tBodyGyro-arCoeff()-Z,1',\n",
              " 'tBodyGyro-arCoeff()-Z,2',\n",
              " 'tBodyGyro-arCoeff()-Z,3',\n",
              " 'tBodyGyro-arCoeff()-Z,4',\n",
              " 'tBodyGyro-correlation()-X,Y',\n",
              " 'tBodyGyro-correlation()-X,Z',\n",
              " 'tBodyGyro-correlation()-Y,Z',\n",
              " 'tBodyGyroJerk-mean()-X',\n",
              " 'tBodyGyroJerk-mean()-Y',\n",
              " 'tBodyGyroJerk-mean()-Z',\n",
              " 'tBodyGyroJerk-std()-X',\n",
              " 'tBodyGyroJerk-std()-Y',\n",
              " 'tBodyGyroJerk-std()-Z',\n",
              " 'tBodyGyroJerk-mad()-X',\n",
              " 'tBodyGyroJerk-mad()-Y',\n",
              " 'tBodyGyroJerk-mad()-Z',\n",
              " 'tBodyGyroJerk-max()-X',\n",
              " 'tBodyGyroJerk-max()-Y',\n",
              " 'tBodyGyroJerk-max()-Z',\n",
              " 'tBodyGyroJerk-min()-X',\n",
              " 'tBodyGyroJerk-min()-Y',\n",
              " 'tBodyGyroJerk-min()-Z',\n",
              " 'tBodyGyroJerk-sma()',\n",
              " 'tBodyGyroJerk-energy()-X',\n",
              " 'tBodyGyroJerk-energy()-Y',\n",
              " 'tBodyGyroJerk-energy()-Z',\n",
              " 'tBodyGyroJerk-iqr()-X',\n",
              " 'tBodyGyroJerk-iqr()-Y',\n",
              " 'tBodyGyroJerk-iqr()-Z',\n",
              " 'tBodyGyroJerk-entropy()-X',\n",
              " 'tBodyGyroJerk-entropy()-Y',\n",
              " 'tBodyGyroJerk-entropy()-Z',\n",
              " 'tBodyGyroJerk-arCoeff()-X,1',\n",
              " 'tBodyGyroJerk-arCoeff()-X,2',\n",
              " 'tBodyGyroJerk-arCoeff()-X,3',\n",
              " 'tBodyGyroJerk-arCoeff()-X,4',\n",
              " 'tBodyGyroJerk-arCoeff()-Y,1',\n",
              " 'tBodyGyroJerk-arCoeff()-Y,2',\n",
              " 'tBodyGyroJerk-arCoeff()-Y,3',\n",
              " 'tBodyGyroJerk-arCoeff()-Y,4',\n",
              " 'tBodyGyroJerk-arCoeff()-Z,1',\n",
              " 'tBodyGyroJerk-arCoeff()-Z,2',\n",
              " 'tBodyGyroJerk-arCoeff()-Z,3',\n",
              " 'tBodyGyroJerk-arCoeff()-Z,4',\n",
              " 'tBodyGyroJerk-correlation()-X,Y',\n",
              " 'tBodyGyroJerk-correlation()-X,Z',\n",
              " 'tBodyGyroJerk-correlation()-Y,Z',\n",
              " 'tBodyAccMag-mean()',\n",
              " 'tBodyAccMag-std()',\n",
              " 'tBodyAccMag-mad()',\n",
              " 'tBodyAccMag-max()',\n",
              " 'tBodyAccMag-min()',\n",
              " 'tBodyAccMag-sma()',\n",
              " 'tBodyAccMag-energy()',\n",
              " 'tBodyAccMag-iqr()',\n",
              " 'tBodyAccMag-entropy()',\n",
              " 'tBodyAccMag-arCoeff()1',\n",
              " 'tBodyAccMag-arCoeff()2',\n",
              " 'tBodyAccMag-arCoeff()3',\n",
              " 'tBodyAccMag-arCoeff()4',\n",
              " 'tGravityAccMag-mean()',\n",
              " 'tGravityAccMag-std()',\n",
              " 'tGravityAccMag-mad()',\n",
              " 'tGravityAccMag-max()',\n",
              " 'tGravityAccMag-min()',\n",
              " 'tGravityAccMag-sma()',\n",
              " 'tGravityAccMag-energy()',\n",
              " 'tGravityAccMag-iqr()',\n",
              " 'tGravityAccMag-entropy()',\n",
              " 'tGravityAccMag-arCoeff()1',\n",
              " 'tGravityAccMag-arCoeff()2',\n",
              " 'tGravityAccMag-arCoeff()3',\n",
              " 'tGravityAccMag-arCoeff()4',\n",
              " 'tBodyAccJerkMag-mean()',\n",
              " 'tBodyAccJerkMag-std()',\n",
              " 'tBodyAccJerkMag-mad()',\n",
              " 'tBodyAccJerkMag-max()',\n",
              " 'tBodyAccJerkMag-min()',\n",
              " 'tBodyAccJerkMag-sma()',\n",
              " 'tBodyAccJerkMag-energy()',\n",
              " 'tBodyAccJerkMag-iqr()',\n",
              " 'tBodyAccJerkMag-entropy()',\n",
              " 'tBodyAccJerkMag-arCoeff()1',\n",
              " 'tBodyAccJerkMag-arCoeff()2',\n",
              " 'tBodyAccJerkMag-arCoeff()3',\n",
              " 'tBodyAccJerkMag-arCoeff()4',\n",
              " 'tBodyGyroMag-mean()',\n",
              " 'tBodyGyroMag-std()',\n",
              " 'tBodyGyroMag-mad()',\n",
              " 'tBodyGyroMag-max()',\n",
              " 'tBodyGyroMag-min()',\n",
              " 'tBodyGyroMag-sma()',\n",
              " 'tBodyGyroMag-energy()',\n",
              " 'tBodyGyroMag-iqr()',\n",
              " 'tBodyGyroMag-entropy()',\n",
              " 'tBodyGyroMag-arCoeff()1',\n",
              " 'tBodyGyroMag-arCoeff()2',\n",
              " 'tBodyGyroMag-arCoeff()3',\n",
              " 'tBodyGyroMag-arCoeff()4',\n",
              " 'tBodyGyroJerkMag-mean()',\n",
              " 'tBodyGyroJerkMag-std()',\n",
              " 'tBodyGyroJerkMag-mad()',\n",
              " 'tBodyGyroJerkMag-max()',\n",
              " 'tBodyGyroJerkMag-min()',\n",
              " 'tBodyGyroJerkMag-sma()',\n",
              " 'tBodyGyroJerkMag-energy()',\n",
              " 'tBodyGyroJerkMag-iqr()',\n",
              " 'tBodyGyroJerkMag-entropy()',\n",
              " 'tBodyGyroJerkMag-arCoeff()1',\n",
              " 'tBodyGyroJerkMag-arCoeff()2',\n",
              " 'tBodyGyroJerkMag-arCoeff()3',\n",
              " 'tBodyGyroJerkMag-arCoeff()4',\n",
              " 'fBodyAcc-mean()-X',\n",
              " 'fBodyAcc-mean()-Y',\n",
              " 'fBodyAcc-mean()-Z',\n",
              " 'fBodyAcc-std()-X',\n",
              " 'fBodyAcc-std()-Y',\n",
              " 'fBodyAcc-std()-Z',\n",
              " 'fBodyAcc-mad()-X',\n",
              " 'fBodyAcc-mad()-Y',\n",
              " 'fBodyAcc-mad()-Z',\n",
              " 'fBodyAcc-max()-X',\n",
              " 'fBodyAcc-max()-Y',\n",
              " 'fBodyAcc-max()-Z',\n",
              " 'fBodyAcc-min()-X',\n",
              " 'fBodyAcc-min()-Y',\n",
              " 'fBodyAcc-min()-Z',\n",
              " 'fBodyAcc-sma()',\n",
              " 'fBodyAcc-energy()-X',\n",
              " 'fBodyAcc-energy()-Y',\n",
              " 'fBodyAcc-energy()-Z',\n",
              " 'fBodyAcc-iqr()-X',\n",
              " 'fBodyAcc-iqr()-Y',\n",
              " 'fBodyAcc-iqr()-Z',\n",
              " 'fBodyAcc-entropy()-X',\n",
              " 'fBodyAcc-entropy()-Y',\n",
              " 'fBodyAcc-entropy()-Z',\n",
              " 'fBodyAcc-maxInds-X',\n",
              " 'fBodyAcc-maxInds-Y',\n",
              " 'fBodyAcc-maxInds-Z',\n",
              " 'fBodyAcc-meanFreq()-X',\n",
              " 'fBodyAcc-meanFreq()-Y',\n",
              " 'fBodyAcc-meanFreq()-Z',\n",
              " 'fBodyAcc-skewness()-X',\n",
              " 'fBodyAcc-kurtosis()-X',\n",
              " 'fBodyAcc-skewness()-Y',\n",
              " 'fBodyAcc-kurtosis()-Y',\n",
              " 'fBodyAcc-skewness()-Z',\n",
              " 'fBodyAcc-kurtosis()-Z',\n",
              " 'fBodyAcc-bandsEnergy()-1,8',\n",
              " 'fBodyAcc-bandsEnergy()-9,16',\n",
              " 'fBodyAcc-bandsEnergy()-17,24',\n",
              " 'fBodyAcc-bandsEnergy()-25,32',\n",
              " 'fBodyAcc-bandsEnergy()-33,40',\n",
              " 'fBodyAcc-bandsEnergy()-41,48',\n",
              " 'fBodyAcc-bandsEnergy()-49,56',\n",
              " 'fBodyAcc-bandsEnergy()-57,64',\n",
              " 'fBodyAcc-bandsEnergy()-1,16',\n",
              " 'fBodyAcc-bandsEnergy()-17,32',\n",
              " 'fBodyAcc-bandsEnergy()-33,48',\n",
              " 'fBodyAcc-bandsEnergy()-49,64',\n",
              " 'fBodyAcc-bandsEnergy()-1,24',\n",
              " 'fBodyAcc-bandsEnergy()-25,48',\n",
              " 'fBodyAcc-bandsEnergy()-1,8.1',\n",
              " 'fBodyAcc-bandsEnergy()-9,16.1',\n",
              " 'fBodyAcc-bandsEnergy()-17,24.1',\n",
              " 'fBodyAcc-bandsEnergy()-25,32.1',\n",
              " 'fBodyAcc-bandsEnergy()-33,40.1',\n",
              " 'fBodyAcc-bandsEnergy()-41,48.1',\n",
              " 'fBodyAcc-bandsEnergy()-49,56.1',\n",
              " 'fBodyAcc-bandsEnergy()-57,64.1',\n",
              " 'fBodyAcc-bandsEnergy()-1,16.1',\n",
              " 'fBodyAcc-bandsEnergy()-17,32.1',\n",
              " 'fBodyAcc-bandsEnergy()-33,48.1',\n",
              " 'fBodyAcc-bandsEnergy()-49,64.1',\n",
              " 'fBodyAcc-bandsEnergy()-1,24.1',\n",
              " 'fBodyAcc-bandsEnergy()-25,48.1',\n",
              " 'fBodyAcc-bandsEnergy()-1,8.2',\n",
              " 'fBodyAcc-bandsEnergy()-9,16.2',\n",
              " 'fBodyAcc-bandsEnergy()-17,24.2',\n",
              " 'fBodyAcc-bandsEnergy()-25,32.2',\n",
              " 'fBodyAcc-bandsEnergy()-33,40.2',\n",
              " 'fBodyAcc-bandsEnergy()-41,48.2',\n",
              " 'fBodyAcc-bandsEnergy()-49,56.2',\n",
              " 'fBodyAcc-bandsEnergy()-57,64.2',\n",
              " 'fBodyAcc-bandsEnergy()-1,16.2',\n",
              " 'fBodyAcc-bandsEnergy()-17,32.2',\n",
              " 'fBodyAcc-bandsEnergy()-33,48.2',\n",
              " 'fBodyAcc-bandsEnergy()-49,64.2',\n",
              " 'fBodyAcc-bandsEnergy()-1,24.2',\n",
              " 'fBodyAcc-bandsEnergy()-25,48.2',\n",
              " 'fBodyAccJerk-mean()-X',\n",
              " 'fBodyAccJerk-mean()-Y',\n",
              " 'fBodyAccJerk-mean()-Z',\n",
              " 'fBodyAccJerk-std()-X',\n",
              " 'fBodyAccJerk-std()-Y',\n",
              " 'fBodyAccJerk-std()-Z',\n",
              " 'fBodyAccJerk-mad()-X',\n",
              " 'fBodyAccJerk-mad()-Y',\n",
              " 'fBodyAccJerk-mad()-Z',\n",
              " 'fBodyAccJerk-max()-X',\n",
              " 'fBodyAccJerk-max()-Y',\n",
              " 'fBodyAccJerk-max()-Z',\n",
              " 'fBodyAccJerk-min()-X',\n",
              " 'fBodyAccJerk-min()-Y',\n",
              " 'fBodyAccJerk-min()-Z',\n",
              " 'fBodyAccJerk-sma()',\n",
              " 'fBodyAccJerk-energy()-X',\n",
              " 'fBodyAccJerk-energy()-Y',\n",
              " 'fBodyAccJerk-energy()-Z',\n",
              " 'fBodyAccJerk-iqr()-X',\n",
              " 'fBodyAccJerk-iqr()-Y',\n",
              " 'fBodyAccJerk-iqr()-Z',\n",
              " 'fBodyAccJerk-entropy()-X',\n",
              " 'fBodyAccJerk-entropy()-Y',\n",
              " 'fBodyAccJerk-entropy()-Z',\n",
              " 'fBodyAccJerk-maxInds-X',\n",
              " 'fBodyAccJerk-maxInds-Y',\n",
              " 'fBodyAccJerk-maxInds-Z',\n",
              " 'fBodyAccJerk-meanFreq()-X',\n",
              " 'fBodyAccJerk-meanFreq()-Y',\n",
              " 'fBodyAccJerk-meanFreq()-Z',\n",
              " 'fBodyAccJerk-skewness()-X',\n",
              " 'fBodyAccJerk-kurtosis()-X',\n",
              " 'fBodyAccJerk-skewness()-Y',\n",
              " 'fBodyAccJerk-kurtosis()-Y',\n",
              " 'fBodyAccJerk-skewness()-Z',\n",
              " 'fBodyAccJerk-kurtosis()-Z',\n",
              " 'fBodyAccJerk-bandsEnergy()-1,8',\n",
              " 'fBodyAccJerk-bandsEnergy()-9,16',\n",
              " 'fBodyAccJerk-bandsEnergy()-17,24',\n",
              " 'fBodyAccJerk-bandsEnergy()-25,32',\n",
              " 'fBodyAccJerk-bandsEnergy()-33,40',\n",
              " 'fBodyAccJerk-bandsEnergy()-41,48',\n",
              " 'fBodyAccJerk-bandsEnergy()-49,56',\n",
              " 'fBodyAccJerk-bandsEnergy()-57,64',\n",
              " 'fBodyAccJerk-bandsEnergy()-1,16',\n",
              " 'fBodyAccJerk-bandsEnergy()-17,32',\n",
              " 'fBodyAccJerk-bandsEnergy()-33,48',\n",
              " 'fBodyAccJerk-bandsEnergy()-49,64',\n",
              " 'fBodyAccJerk-bandsEnergy()-1,24',\n",
              " 'fBodyAccJerk-bandsEnergy()-25,48',\n",
              " 'fBodyAccJerk-bandsEnergy()-1,8.1',\n",
              " 'fBodyAccJerk-bandsEnergy()-9,16.1',\n",
              " 'fBodyAccJerk-bandsEnergy()-17,24.1',\n",
              " 'fBodyAccJerk-bandsEnergy()-25,32.1',\n",
              " 'fBodyAccJerk-bandsEnergy()-33,40.1',\n",
              " 'fBodyAccJerk-bandsEnergy()-41,48.1',\n",
              " 'fBodyAccJerk-bandsEnergy()-49,56.1',\n",
              " 'fBodyAccJerk-bandsEnergy()-57,64.1',\n",
              " 'fBodyAccJerk-bandsEnergy()-1,16.1',\n",
              " 'fBodyAccJerk-bandsEnergy()-17,32.1',\n",
              " 'fBodyAccJerk-bandsEnergy()-33,48.1',\n",
              " 'fBodyAccJerk-bandsEnergy()-49,64.1',\n",
              " 'fBodyAccJerk-bandsEnergy()-1,24.1',\n",
              " 'fBodyAccJerk-bandsEnergy()-25,48.1',\n",
              " 'fBodyAccJerk-bandsEnergy()-1,8.2',\n",
              " 'fBodyAccJerk-bandsEnergy()-9,16.2',\n",
              " 'fBodyAccJerk-bandsEnergy()-17,24.2',\n",
              " 'fBodyAccJerk-bandsEnergy()-25,32.2',\n",
              " 'fBodyAccJerk-bandsEnergy()-33,40.2',\n",
              " 'fBodyAccJerk-bandsEnergy()-41,48.2',\n",
              " 'fBodyAccJerk-bandsEnergy()-49,56.2',\n",
              " 'fBodyAccJerk-bandsEnergy()-57,64.2',\n",
              " 'fBodyAccJerk-bandsEnergy()-1,16.2',\n",
              " 'fBodyAccJerk-bandsEnergy()-17,32.2',\n",
              " 'fBodyAccJerk-bandsEnergy()-33,48.2',\n",
              " 'fBodyAccJerk-bandsEnergy()-49,64.2',\n",
              " 'fBodyAccJerk-bandsEnergy()-1,24.2',\n",
              " 'fBodyAccJerk-bandsEnergy()-25,48.2',\n",
              " 'fBodyGyro-mean()-X',\n",
              " 'fBodyGyro-mean()-Y',\n",
              " 'fBodyGyro-mean()-Z',\n",
              " 'fBodyGyro-std()-X',\n",
              " 'fBodyGyro-std()-Y',\n",
              " 'fBodyGyro-std()-Z',\n",
              " 'fBodyGyro-mad()-X',\n",
              " 'fBodyGyro-mad()-Y',\n",
              " 'fBodyGyro-mad()-Z',\n",
              " 'fBodyGyro-max()-X',\n",
              " 'fBodyGyro-max()-Y',\n",
              " 'fBodyGyro-max()-Z',\n",
              " 'fBodyGyro-min()-X',\n",
              " 'fBodyGyro-min()-Y',\n",
              " 'fBodyGyro-min()-Z',\n",
              " 'fBodyGyro-sma()',\n",
              " 'fBodyGyro-energy()-X',\n",
              " 'fBodyGyro-energy()-Y',\n",
              " 'fBodyGyro-energy()-Z',\n",
              " 'fBodyGyro-iqr()-X',\n",
              " 'fBodyGyro-iqr()-Y',\n",
              " 'fBodyGyro-iqr()-Z',\n",
              " 'fBodyGyro-entropy()-X',\n",
              " 'fBodyGyro-entropy()-Y',\n",
              " 'fBodyGyro-entropy()-Z',\n",
              " 'fBodyGyro-maxInds-X',\n",
              " 'fBodyGyro-maxInds-Y',\n",
              " 'fBodyGyro-maxInds-Z',\n",
              " 'fBodyGyro-meanFreq()-X',\n",
              " 'fBodyGyro-meanFreq()-Y',\n",
              " 'fBodyGyro-meanFreq()-Z',\n",
              " 'fBodyGyro-skewness()-X',\n",
              " 'fBodyGyro-kurtosis()-X',\n",
              " 'fBodyGyro-skewness()-Y',\n",
              " 'fBodyGyro-kurtosis()-Y',\n",
              " 'fBodyGyro-skewness()-Z',\n",
              " 'fBodyGyro-kurtosis()-Z',\n",
              " 'fBodyGyro-bandsEnergy()-1,8',\n",
              " 'fBodyGyro-bandsEnergy()-9,16',\n",
              " 'fBodyGyro-bandsEnergy()-17,24',\n",
              " 'fBodyGyro-bandsEnergy()-25,32',\n",
              " 'fBodyGyro-bandsEnergy()-33,40',\n",
              " 'fBodyGyro-bandsEnergy()-41,48',\n",
              " 'fBodyGyro-bandsEnergy()-49,56',\n",
              " 'fBodyGyro-bandsEnergy()-57,64',\n",
              " 'fBodyGyro-bandsEnergy()-1,16',\n",
              " 'fBodyGyro-bandsEnergy()-17,32',\n",
              " 'fBodyGyro-bandsEnergy()-33,48',\n",
              " 'fBodyGyro-bandsEnergy()-49,64',\n",
              " 'fBodyGyro-bandsEnergy()-1,24',\n",
              " 'fBodyGyro-bandsEnergy()-25,48',\n",
              " 'fBodyGyro-bandsEnergy()-1,8.1',\n",
              " 'fBodyGyro-bandsEnergy()-9,16.1',\n",
              " 'fBodyGyro-bandsEnergy()-17,24.1',\n",
              " 'fBodyGyro-bandsEnergy()-25,32.1',\n",
              " 'fBodyGyro-bandsEnergy()-33,40.1',\n",
              " 'fBodyGyro-bandsEnergy()-41,48.1',\n",
              " 'fBodyGyro-bandsEnergy()-49,56.1',\n",
              " 'fBodyGyro-bandsEnergy()-57,64.1',\n",
              " 'fBodyGyro-bandsEnergy()-1,16.1',\n",
              " 'fBodyGyro-bandsEnergy()-17,32.1',\n",
              " 'fBodyGyro-bandsEnergy()-33,48.1',\n",
              " 'fBodyGyro-bandsEnergy()-49,64.1',\n",
              " 'fBodyGyro-bandsEnergy()-1,24.1',\n",
              " 'fBodyGyro-bandsEnergy()-25,48.1',\n",
              " 'fBodyGyro-bandsEnergy()-1,8.2',\n",
              " 'fBodyGyro-bandsEnergy()-9,16.2',\n",
              " 'fBodyGyro-bandsEnergy()-17,24.2',\n",
              " 'fBodyGyro-bandsEnergy()-25,32.2',\n",
              " 'fBodyGyro-bandsEnergy()-33,40.2',\n",
              " 'fBodyGyro-bandsEnergy()-41,48.2',\n",
              " 'fBodyGyro-bandsEnergy()-49,56.2',\n",
              " 'fBodyGyro-bandsEnergy()-57,64.2',\n",
              " 'fBodyGyro-bandsEnergy()-1,16.2',\n",
              " 'fBodyGyro-bandsEnergy()-17,32.2',\n",
              " 'fBodyGyro-bandsEnergy()-33,48.2',\n",
              " 'fBodyGyro-bandsEnergy()-49,64.2',\n",
              " 'fBodyGyro-bandsEnergy()-1,24.2',\n",
              " 'fBodyGyro-bandsEnergy()-25,48.2',\n",
              " 'fBodyAccMag-mean()',\n",
              " 'fBodyAccMag-std()',\n",
              " 'fBodyAccMag-mad()',\n",
              " 'fBodyAccMag-max()',\n",
              " 'fBodyAccMag-min()',\n",
              " 'fBodyAccMag-sma()',\n",
              " 'fBodyAccMag-energy()',\n",
              " 'fBodyAccMag-iqr()',\n",
              " 'fBodyAccMag-entropy()',\n",
              " 'fBodyAccMag-maxInds',\n",
              " 'fBodyAccMag-meanFreq()',\n",
              " 'fBodyAccMag-skewness()',\n",
              " 'fBodyAccMag-kurtosis()',\n",
              " 'fBodyBodyAccJerkMag-mean()',\n",
              " 'fBodyBodyAccJerkMag-std()',\n",
              " 'fBodyBodyAccJerkMag-mad()',\n",
              " 'fBodyBodyAccJerkMag-max()',\n",
              " 'fBodyBodyAccJerkMag-min()',\n",
              " 'fBodyBodyAccJerkMag-sma()',\n",
              " 'fBodyBodyAccJerkMag-energy()',\n",
              " 'fBodyBodyAccJerkMag-iqr()',\n",
              " 'fBodyBodyAccJerkMag-entropy()',\n",
              " 'fBodyBodyAccJerkMag-maxInds',\n",
              " 'fBodyBodyAccJerkMag-meanFreq()',\n",
              " 'fBodyBodyAccJerkMag-skewness()',\n",
              " 'fBodyBodyAccJerkMag-kurtosis()',\n",
              " 'fBodyBodyGyroMag-mean()',\n",
              " 'fBodyBodyGyroMag-std()',\n",
              " 'fBodyBodyGyroMag-mad()',\n",
              " 'fBodyBodyGyroMag-max()',\n",
              " 'fBodyBodyGyroMag-min()',\n",
              " 'fBodyBodyGyroMag-sma()',\n",
              " 'fBodyBodyGyroMag-energy()',\n",
              " 'fBodyBodyGyroMag-iqr()',\n",
              " 'fBodyBodyGyroMag-entropy()',\n",
              " 'fBodyBodyGyroMag-maxInds',\n",
              " 'fBodyBodyGyroMag-meanFreq()',\n",
              " 'fBodyBodyGyroMag-skewness()',\n",
              " 'fBodyBodyGyroMag-kurtosis()',\n",
              " 'fBodyBodyGyroJerkMag-mean()',\n",
              " 'fBodyBodyGyroJerkMag-std()',\n",
              " 'fBodyBodyGyroJerkMag-mad()',\n",
              " 'fBodyBodyGyroJerkMag-max()',\n",
              " 'fBodyBodyGyroJerkMag-min()',\n",
              " 'fBodyBodyGyroJerkMag-sma()',\n",
              " 'fBodyBodyGyroJerkMag-energy()',\n",
              " 'fBodyBodyGyroJerkMag-iqr()',\n",
              " 'fBodyBodyGyroJerkMag-entropy()',\n",
              " 'fBodyBodyGyroJerkMag-maxInds',\n",
              " 'fBodyBodyGyroJerkMag-meanFreq()',\n",
              " 'fBodyBodyGyroJerkMag-skewness()',\n",
              " 'fBodyBodyGyroJerkMag-kurtosis()',\n",
              " 'angle(tBodyAccMean,gravity)',\n",
              " 'angle(tBodyAccJerkMean),gravityMean)',\n",
              " 'angle(tBodyGyroMean,gravityMean)',\n",
              " 'angle(tBodyGyroJerkMean,gravityMean)',\n",
              " 'angle(X,gravityMean)',\n",
              " 'angle(Y,gravityMean)',\n",
              " 'angle(Z,gravityMean)',\n",
              " 'Activity']"
            ]
          },
          "metadata": {},
          "execution_count": 17
        }
      ],
      "source": [
        "#전체 데이터의 모든 변수 확인\n",
        "train.columns.tolist()"
      ]
    },
    {
      "cell_type": "markdown",
      "metadata": {
        "id": "L4vnMOyNzt3x"
      },
      "source": [
        "## **2. 데이터 전처리**\n",
        "\n",
        "* 가변수화, 데이터 분할, NaN 확인 및 조치, 스케일링 등 필요한 전처리를 수행한다.\n"
      ]
    },
    {
      "cell_type": "markdown",
      "metadata": {
        "id": "I_9sGxvxzt3y"
      },
      "source": [
        "### (1) 데이터 분할1 : x, y"
      ]
    },
    {
      "cell_type": "markdown",
      "metadata": {
        "id": "1TqlYFz-zt3z"
      },
      "source": [
        "* 세부 요구사항\n",
        "    - x, y로 분할합니다."
      ]
    },
    {
      "cell_type": "code",
      "execution_count": null,
      "metadata": {
        "id": "EAm84rxdzt30",
        "colab": {
          "base_uri": "https://localhost:8080/",
          "height": 458
        },
        "outputId": "109ef919-fd5a-44dc-85fb-adc3bdd3acc5"
      },
      "outputs": [
        {
          "output_type": "execute_result",
          "data": {
            "text/plain": [
              "0                 STANDING\n",
              "1                   LAYING\n",
              "2                 STANDING\n",
              "3                  WALKING\n",
              "4       WALKING_DOWNSTAIRS\n",
              "               ...        \n",
              "5876               SITTING\n",
              "5877      WALKING_UPSTAIRS\n",
              "5878                LAYING\n",
              "5879      WALKING_UPSTAIRS\n",
              "5880               SITTING\n",
              "Name: Activity, Length: 5881, dtype: object"
            ],
            "text/html": [
              "<div>\n",
              "<style scoped>\n",
              "    .dataframe tbody tr th:only-of-type {\n",
              "        vertical-align: middle;\n",
              "    }\n",
              "\n",
              "    .dataframe tbody tr th {\n",
              "        vertical-align: top;\n",
              "    }\n",
              "\n",
              "    .dataframe thead th {\n",
              "        text-align: right;\n",
              "    }\n",
              "</style>\n",
              "<table border=\"1\" class=\"dataframe\">\n",
              "  <thead>\n",
              "    <tr style=\"text-align: right;\">\n",
              "      <th></th>\n",
              "      <th>Activity</th>\n",
              "    </tr>\n",
              "  </thead>\n",
              "  <tbody>\n",
              "    <tr>\n",
              "      <th>0</th>\n",
              "      <td>STANDING</td>\n",
              "    </tr>\n",
              "    <tr>\n",
              "      <th>1</th>\n",
              "      <td>LAYING</td>\n",
              "    </tr>\n",
              "    <tr>\n",
              "      <th>2</th>\n",
              "      <td>STANDING</td>\n",
              "    </tr>\n",
              "    <tr>\n",
              "      <th>3</th>\n",
              "      <td>WALKING</td>\n",
              "    </tr>\n",
              "    <tr>\n",
              "      <th>4</th>\n",
              "      <td>WALKING_DOWNSTAIRS</td>\n",
              "    </tr>\n",
              "    <tr>\n",
              "      <th>...</th>\n",
              "      <td>...</td>\n",
              "    </tr>\n",
              "    <tr>\n",
              "      <th>5876</th>\n",
              "      <td>SITTING</td>\n",
              "    </tr>\n",
              "    <tr>\n",
              "      <th>5877</th>\n",
              "      <td>WALKING_UPSTAIRS</td>\n",
              "    </tr>\n",
              "    <tr>\n",
              "      <th>5878</th>\n",
              "      <td>LAYING</td>\n",
              "    </tr>\n",
              "    <tr>\n",
              "      <th>5879</th>\n",
              "      <td>WALKING_UPSTAIRS</td>\n",
              "    </tr>\n",
              "    <tr>\n",
              "      <th>5880</th>\n",
              "      <td>SITTING</td>\n",
              "    </tr>\n",
              "  </tbody>\n",
              "</table>\n",
              "<p>5881 rows × 1 columns</p>\n",
              "</div><br><label><b>dtype:</b> object</label>"
            ]
          },
          "metadata": {},
          "execution_count": 29
        }
      ],
      "source": [
        "# 데이터 분할을 합니다.\n",
        "X = train.drop(columns=['Activity'])\n",
        "y = train['Activity']\n",
        "y"
      ]
    },
    {
      "cell_type": "markdown",
      "metadata": {
        "id": "kH0LsKFizt30"
      },
      "source": [
        "### (2) 스케일링\n"
      ]
    },
    {
      "cell_type": "markdown",
      "metadata": {
        "id": "9EKjPKYjzt31"
      },
      "source": [
        "* 세부 요구사항\n",
        "    - 스케일링을 필요로 하는 알고리즘 사용을 위해서 코드 수행\n",
        "    - min-max 방식 혹은 standard 방식 중 한가지 사용."
      ]
    },
    {
      "cell_type": "code",
      "execution_count": null,
      "metadata": {
        "id": "zkEtWdkUzt31"
      },
      "outputs": [],
      "source": [
        "#스케일링 방식을 선택해서 스케일링을 진행합니다.\n",
        "scaler = StandardScaler()\n",
        "X_scaled = scaler.fit_transform(X)\n",
        "\n",
        "# DataFrame으로 다시 변환 (컬럼명 유지)\n",
        "X_scaled = pd.DataFrame(X_scaled, columns=X.columns)"
      ]
    },
    {
      "cell_type": "markdown",
      "metadata": {
        "id": "erf1kwLNL_BG"
      },
      "source": [
        "### (3) Y 전처리\n",
        "* integer encoding : LabelEncoder\n",
        "* (필요시) one-hot encoding"
      ]
    },
    {
      "cell_type": "code",
      "execution_count": null,
      "metadata": {
        "id": "V9ZjiqZxL9vu"
      },
      "outputs": [],
      "source": [
        "# 정수 인코딩 변환(LabelEncoder)\n",
        "le = LabelEncoder()\n",
        "y_encoded = le.fit_transform(y)"
      ]
    },
    {
      "cell_type": "code",
      "source": [
        "y_onehot = to_categorical(y_encoded)"
      ],
      "metadata": {
        "id": "c3pi4mFZzqAG"
      },
      "execution_count": null,
      "outputs": []
    },
    {
      "cell_type": "markdown",
      "metadata": {
        "id": "KvFgLaegzt34"
      },
      "source": [
        "### (4) 데이터분할2 : train, validation"
      ]
    },
    {
      "cell_type": "markdown",
      "metadata": {
        "id": "eaMzPqRmzt34"
      },
      "source": [
        "* 세부 요구사항\n",
        "    - train : val = 8 : 2 혹은 7 : 3\n",
        "    - random_state 옵션을 사용하여 다른 모델과 비교를 위해 성능이 재현되도록 합니다."
      ]
    },
    {
      "cell_type": "code",
      "execution_count": null,
      "metadata": {
        "id": "0UiQn0pmzt35"
      },
      "outputs": [],
      "source": [
        "#데이터 분할 진행(train:val = 8:2 혹은 7:3 권장)\n",
        "X_train, X_val, y_train, y_val = train_test_split(\n",
        "    X_scaled,\n",
        "    y_onehot,\n",
        "    test_size=0.2,\n",
        "    random_state=42,\n",
        "    stratify=y_encoded\n",
        ")"
      ]
    },
    {
      "cell_type": "markdown",
      "metadata": {
        "id": "QqIj25L-zt35"
      },
      "source": [
        "## **3. 기본 모델링**\n",
        "\n"
      ]
    },
    {
      "cell_type": "markdown",
      "metadata": {
        "id": "PsIDduJnzt36"
      },
      "source": [
        "* 세부 요구사항\n",
        "    - 모델1 : Base line 모델\n",
        "        * Hidden Layer 없이 모델 생성\n",
        "    - 모델2 : 복잡한 모델 생성\n",
        "        * 최소 5개 이상의 은닉층을 추가한 모델\n",
        "    - 모델3 ~ n : 튜닝 모델\n",
        "        * 학습률, epoch 등 조정\n",
        "        * 모델2에 과적합을 방지하기 위한 규제 기법 추가\n",
        "        * Accuracy 최대화 시키는 모델 생성하기\n",
        "    - (옵션) 각 모델은 최소 5번 반복수행해서 얻은 성능의 평균값을 기록"
      ]
    },
    {
      "cell_type": "markdown",
      "metadata": {
        "id": "WnvECv0azt36"
      },
      "source": [
        "### (1) 모델1 : Hidden Layer 없이 모델 생성"
      ]
    },
    {
      "cell_type": "code",
      "execution_count": null,
      "metadata": {
        "id": "Knj7SzObz8_2",
        "colab": {
          "base_uri": "https://localhost:8080/"
        },
        "outputId": "c3579345-32a5-47a2-8d03-d549af789e39"
      },
      "outputs": [
        {
          "output_type": "stream",
          "name": "stderr",
          "text": [
            "/usr/local/lib/python3.11/dist-packages/keras/src/layers/core/dense.py:87: UserWarning: Do not pass an `input_shape`/`input_dim` argument to a layer. When using Sequential models, prefer using an `Input(shape)` object as the first layer in the model instead.\n",
            "  super().__init__(activity_regularizer=activity_regularizer, **kwargs)\n"
          ]
        }
      ],
      "source": [
        "# 클래스 수\n",
        "n_classes = y_train.shape[1]\n",
        "\n",
        "# 모델 설계\n",
        "model1 = Sequential()\n",
        "model1.add(Dense(n_classes, activation='softmax', input_shape=(X_train.shape[1],)))"
      ]
    },
    {
      "cell_type": "code",
      "execution_count": null,
      "metadata": {
        "id": "r4B2GA36z88O"
      },
      "outputs": [],
      "source": [
        "# 컴파일 및 학습\n",
        "model1.compile(\n",
        "    optimizer=Adam(learning_rate=0.001),\n",
        "    loss='categorical_crossentropy',\n",
        "    metrics=['accuracy']\n",
        ")"
      ]
    },
    {
      "cell_type": "code",
      "source": [
        "# 모델 학습\n",
        "history1 = model1.fit(\n",
        "    X_train, y_train,\n",
        "    validation_data=(X_val, y_val),\n",
        "    epochs=30,\n",
        "    batch_size=32,\n",
        "    verbose=1\n",
        ")"
      ],
      "metadata": {
        "colab": {
          "base_uri": "https://localhost:8080/"
        },
        "collapsed": true,
        "id": "pT2TK9CI08cq",
        "outputId": "c2e011e3-760e-4478-9a04-202c7a385b1d"
      },
      "execution_count": null,
      "outputs": [
        {
          "output_type": "stream",
          "name": "stdout",
          "text": [
            "Epoch 1/30\n",
            "\u001b[1m147/147\u001b[0m \u001b[32m━━━━━━━━━━━━━━━━━━━━\u001b[0m\u001b[37m\u001b[0m \u001b[1m2s\u001b[0m 6ms/step - accuracy: 0.6299 - loss: 0.8811 - val_accuracy: 0.9074 - val_loss: 0.2826\n",
            "Epoch 2/30\n",
            "\u001b[1m147/147\u001b[0m \u001b[32m━━━━━━━━━━━━━━━━━━━━\u001b[0m\u001b[37m\u001b[0m \u001b[1m1s\u001b[0m 4ms/step - accuracy: 0.9213 - loss: 0.2424 - val_accuracy: 0.9431 - val_loss: 0.1950\n",
            "Epoch 3/30\n",
            "\u001b[1m147/147\u001b[0m \u001b[32m━━━━━━━━━━━━━━━━━━━━\u001b[0m\u001b[37m\u001b[0m \u001b[1m1s\u001b[0m 3ms/step - accuracy: 0.9486 - loss: 0.1627 - val_accuracy: 0.9558 - val_loss: 0.1513\n",
            "Epoch 4/30\n",
            "\u001b[1m147/147\u001b[0m \u001b[32m━━━━━━━━━━━━━━━━━━━━\u001b[0m\u001b[37m\u001b[0m \u001b[1m1s\u001b[0m 4ms/step - accuracy: 0.9625 - loss: 0.1303 - val_accuracy: 0.9618 - val_loss: 0.1288\n",
            "Epoch 5/30\n",
            "\u001b[1m147/147\u001b[0m \u001b[32m━━━━━━━━━━━━━━━━━━━━\u001b[0m\u001b[37m\u001b[0m \u001b[1m1s\u001b[0m 4ms/step - accuracy: 0.9715 - loss: 0.1050 - val_accuracy: 0.9592 - val_loss: 0.1256\n",
            "Epoch 6/30\n",
            "\u001b[1m147/147\u001b[0m \u001b[32m━━━━━━━━━━━━━━━━━━━━\u001b[0m\u001b[37m\u001b[0m \u001b[1m1s\u001b[0m 4ms/step - accuracy: 0.9731 - loss: 0.0905 - val_accuracy: 0.9660 - val_loss: 0.1095\n",
            "Epoch 7/30\n",
            "\u001b[1m147/147\u001b[0m \u001b[32m━━━━━━━━━━━━━━━━━━━━\u001b[0m\u001b[37m\u001b[0m \u001b[1m1s\u001b[0m 4ms/step - accuracy: 0.9733 - loss: 0.0893 - val_accuracy: 0.9703 - val_loss: 0.0952\n",
            "Epoch 8/30\n",
            "\u001b[1m147/147\u001b[0m \u001b[32m━━━━━━━━━━━━━━━━━━━━\u001b[0m\u001b[37m\u001b[0m \u001b[1m1s\u001b[0m 4ms/step - accuracy: 0.9789 - loss: 0.0783 - val_accuracy: 0.9762 - val_loss: 0.0875\n",
            "Epoch 9/30\n",
            "\u001b[1m147/147\u001b[0m \u001b[32m━━━━━━━━━━━━━━━━━━━━\u001b[0m\u001b[37m\u001b[0m \u001b[1m1s\u001b[0m 4ms/step - accuracy: 0.9792 - loss: 0.0664 - val_accuracy: 0.9762 - val_loss: 0.0825\n",
            "Epoch 10/30\n",
            "\u001b[1m147/147\u001b[0m \u001b[32m━━━━━━━━━━━━━━━━━━━━\u001b[0m\u001b[37m\u001b[0m \u001b[1m1s\u001b[0m 4ms/step - accuracy: 0.9793 - loss: 0.0673 - val_accuracy: 0.9711 - val_loss: 0.0895\n",
            "Epoch 11/30\n",
            "\u001b[1m147/147\u001b[0m \u001b[32m━━━━━━━━━━━━━━━━━━━━\u001b[0m\u001b[37m\u001b[0m \u001b[1m1s\u001b[0m 3ms/step - accuracy: 0.9816 - loss: 0.0656 - val_accuracy: 0.9745 - val_loss: 0.0777\n",
            "Epoch 12/30\n",
            "\u001b[1m147/147\u001b[0m \u001b[32m━━━━━━━━━━━━━━━━━━━━\u001b[0m\u001b[37m\u001b[0m \u001b[1m1s\u001b[0m 3ms/step - accuracy: 0.9827 - loss: 0.0611 - val_accuracy: 0.9839 - val_loss: 0.0721\n",
            "Epoch 13/30\n",
            "\u001b[1m147/147\u001b[0m \u001b[32m━━━━━━━━━━━━━━━━━━━━\u001b[0m\u001b[37m\u001b[0m \u001b[1m1s\u001b[0m 3ms/step - accuracy: 0.9817 - loss: 0.0591 - val_accuracy: 0.9788 - val_loss: 0.0719\n",
            "Epoch 14/30\n",
            "\u001b[1m147/147\u001b[0m \u001b[32m━━━━━━━━━━━━━━━━━━━━\u001b[0m\u001b[37m\u001b[0m \u001b[1m1s\u001b[0m 4ms/step - accuracy: 0.9848 - loss: 0.0554 - val_accuracy: 0.9839 - val_loss: 0.0678\n",
            "Epoch 15/30\n",
            "\u001b[1m147/147\u001b[0m \u001b[32m━━━━━━━━━━━━━━━━━━━━\u001b[0m\u001b[37m\u001b[0m \u001b[1m1s\u001b[0m 7ms/step - accuracy: 0.9853 - loss: 0.0513 - val_accuracy: 0.9847 - val_loss: 0.0641\n",
            "Epoch 16/30\n",
            "\u001b[1m147/147\u001b[0m \u001b[32m━━━━━━━━━━━━━━━━━━━━\u001b[0m\u001b[37m\u001b[0m \u001b[1m1s\u001b[0m 7ms/step - accuracy: 0.9850 - loss: 0.0521 - val_accuracy: 0.9839 - val_loss: 0.0627\n",
            "Epoch 17/30\n",
            "\u001b[1m147/147\u001b[0m \u001b[32m━━━━━━━━━━━━━━━━━━━━\u001b[0m\u001b[37m\u001b[0m \u001b[1m1s\u001b[0m 6ms/step - accuracy: 0.9860 - loss: 0.0457 - val_accuracy: 0.9805 - val_loss: 0.0642\n",
            "Epoch 18/30\n",
            "\u001b[1m147/147\u001b[0m \u001b[32m━━━━━━━━━━━━━━━━━━━━\u001b[0m\u001b[37m\u001b[0m \u001b[1m1s\u001b[0m 5ms/step - accuracy: 0.9834 - loss: 0.0494 - val_accuracy: 0.9813 - val_loss: 0.0630\n",
            "Epoch 19/30\n",
            "\u001b[1m147/147\u001b[0m \u001b[32m━━━━━━━━━━━━━━━━━━━━\u001b[0m\u001b[37m\u001b[0m \u001b[1m1s\u001b[0m 4ms/step - accuracy: 0.9894 - loss: 0.0439 - val_accuracy: 0.9830 - val_loss: 0.0634\n",
            "Epoch 20/30\n",
            "\u001b[1m147/147\u001b[0m \u001b[32m━━━━━━━━━━━━━━━━━━━━\u001b[0m\u001b[37m\u001b[0m \u001b[1m1s\u001b[0m 4ms/step - accuracy: 0.9841 - loss: 0.0423 - val_accuracy: 0.9856 - val_loss: 0.0577\n",
            "Epoch 21/30\n",
            "\u001b[1m147/147\u001b[0m \u001b[32m━━━━━━━━━━━━━━━━━━━━\u001b[0m\u001b[37m\u001b[0m \u001b[1m1s\u001b[0m 4ms/step - accuracy: 0.9896 - loss: 0.0404 - val_accuracy: 0.9856 - val_loss: 0.0569\n",
            "Epoch 22/30\n",
            "\u001b[1m147/147\u001b[0m \u001b[32m━━━━━━━━━━━━━━━━━━━━\u001b[0m\u001b[37m\u001b[0m \u001b[1m1s\u001b[0m 4ms/step - accuracy: 0.9907 - loss: 0.0354 - val_accuracy: 0.9839 - val_loss: 0.0586\n",
            "Epoch 23/30\n",
            "\u001b[1m147/147\u001b[0m \u001b[32m━━━━━━━━━━━━━━━━━━━━\u001b[0m\u001b[37m\u001b[0m \u001b[1m1s\u001b[0m 3ms/step - accuracy: 0.9856 - loss: 0.0419 - val_accuracy: 0.9830 - val_loss: 0.0571\n",
            "Epoch 24/30\n",
            "\u001b[1m147/147\u001b[0m \u001b[32m━━━━━━━━━━━━━━━━━━━━\u001b[0m\u001b[37m\u001b[0m \u001b[1m1s\u001b[0m 4ms/step - accuracy: 0.9869 - loss: 0.0379 - val_accuracy: 0.9856 - val_loss: 0.0568\n",
            "Epoch 25/30\n",
            "\u001b[1m147/147\u001b[0m \u001b[32m━━━━━━━━━━━━━━━━━━━━\u001b[0m\u001b[37m\u001b[0m \u001b[1m1s\u001b[0m 4ms/step - accuracy: 0.9865 - loss: 0.0432 - val_accuracy: 0.9847 - val_loss: 0.0545\n",
            "Epoch 26/30\n",
            "\u001b[1m147/147\u001b[0m \u001b[32m━━━━━━━━━━━━━━━━━━━━\u001b[0m\u001b[37m\u001b[0m \u001b[1m1s\u001b[0m 4ms/step - accuracy: 0.9889 - loss: 0.0363 - val_accuracy: 0.9839 - val_loss: 0.0544\n",
            "Epoch 27/30\n",
            "\u001b[1m147/147\u001b[0m \u001b[32m━━━━━━━━━━━━━━━━━━━━\u001b[0m\u001b[37m\u001b[0m \u001b[1m1s\u001b[0m 4ms/step - accuracy: 0.9866 - loss: 0.0383 - val_accuracy: 0.9822 - val_loss: 0.0563\n",
            "Epoch 28/30\n",
            "\u001b[1m147/147\u001b[0m \u001b[32m━━━━━━━━━━━━━━━━━━━━\u001b[0m\u001b[37m\u001b[0m \u001b[1m1s\u001b[0m 7ms/step - accuracy: 0.9893 - loss: 0.0351 - val_accuracy: 0.9830 - val_loss: 0.0532\n",
            "Epoch 29/30\n",
            "\u001b[1m147/147\u001b[0m \u001b[32m━━━━━━━━━━━━━━━━━━━━\u001b[0m\u001b[37m\u001b[0m \u001b[1m1s\u001b[0m 7ms/step - accuracy: 0.9889 - loss: 0.0374 - val_accuracy: 0.9839 - val_loss: 0.0570\n",
            "Epoch 30/30\n",
            "\u001b[1m147/147\u001b[0m \u001b[32m━━━━━━━━━━━━━━━━━━━━\u001b[0m\u001b[37m\u001b[0m \u001b[1m1s\u001b[0m 4ms/step - accuracy: 0.9886 - loss: 0.0363 - val_accuracy: 0.9856 - val_loss: 0.0536\n"
          ]
        }
      ]
    },
    {
      "cell_type": "code",
      "execution_count": null,
      "metadata": {
        "id": "NwhuwDe2z85Y",
        "colab": {
          "base_uri": "https://localhost:8080/",
          "height": 542
        },
        "outputId": "0d228eee-620c-41ee-a5c0-f7204ff4c2dc"
      },
      "outputs": [
        {
          "output_type": "display_data",
          "data": {
            "text/plain": [
              "<Figure size 1000x600 with 1 Axes>"
            ],
            "image/png": "[encoded data removed]"
          },
          "metadata": {}
        }
      ],
      "source": [
        "# 학습곡선\n",
        "dl_history_plot(history1.history)"
      ]
    },
    {
      "cell_type": "code",
      "execution_count": null,
      "metadata": {
        "id": "pYPpnSz9z82R",
        "colab": {
          "base_uri": "https://localhost:8080/"
        },
        "outputId": "29387ca7-686d-4fc5-88ba-174f3d1ccb7a"
      },
      "outputs": [
        {
          "output_type": "stream",
          "name": "stdout",
          "text": [
            "\u001b[1m37/37\u001b[0m \u001b[32m━━━━━━━━━━━━━━━━━━━━\u001b[0m\u001b[37m\u001b[0m \u001b[1m0s\u001b[0m 4ms/step\n"
          ]
        }
      ],
      "source": [
        "# 모델 예측 확률값\n",
        "y_pred_proba = model1.predict(X_val)\n",
        "\n",
        "# 확률 → 클래스 인덱스로 변환\n",
        "y_pred = np.argmax(y_pred_proba, axis=1)\n",
        "y_true = np.argmax(y_val, axis=1)  # 원핫 → 정답 인덱스"
      ]
    },
    {
      "cell_type": "code",
      "source": [
        "# 정확도\n",
        "acc = accuracy_score(y_true, y_pred)\n",
        "print(\"Validation Accuracy:\", acc)\n",
        "print(classification_report(y_true, y_pred, target_names=le.classes_))"
      ],
      "metadata": {
        "colab": {
          "base_uri": "https://localhost:8080/"
        },
        "id": "FhbUyvtQ1v_0",
        "outputId": "9e1c4627-0854-4f5d-9ab1-fc35f29124b3"
      },
      "execution_count": null,
      "outputs": [
        {
          "output_type": "stream",
          "name": "stdout",
          "text": [
            "Validation Accuracy: 0.9855564995751912\n",
            "                    precision    recall  f1-score   support\n",
            "\n",
            "            LAYING       1.00      1.00      1.00       223\n",
            "           SITTING       0.95      0.97      0.96       206\n",
            "          STANDING       0.98      0.95      0.97       218\n",
            "           WALKING       1.00      1.00      1.00       200\n",
            "WALKING_DOWNSTAIRS       0.99      1.00      1.00       158\n",
            "  WALKING_UPSTAIRS       0.99      0.99      0.99       172\n",
            "\n",
            "          accuracy                           0.99      1177\n",
            "         macro avg       0.99      0.99      0.99      1177\n",
            "      weighted avg       0.99      0.99      0.99      1177\n",
            "\n"
          ]
        }
      ]
    },
    {
      "cell_type": "code",
      "execution_count": null,
      "metadata": {
        "colab": {
          "base_uri": "https://localhost:8080/"
        },
        "id": "s43IN7ffqgJk",
        "outputId": "70af151d-e3cf-48aa-bdfc-e358c653628b"
      },
      "outputs": [
        {
          "output_type": "stream",
          "name": "stdout",
          "text": [
            "모델1 반복 학습 1/5\n",
            "\u001b[1m37/37\u001b[0m \u001b[32m━━━━━━━━━━━━━━━━━━━━\u001b[0m\u001b[37m\u001b[0m \u001b[1m0s\u001b[0m 2ms/step\n",
            "반복 1 정확도: 0.9830\n",
            "모델1 반복 학습 2/5\n",
            "\u001b[1m37/37\u001b[0m \u001b[32m━━━━━━━━━━━━━━━━━━━━\u001b[0m\u001b[37m\u001b[0m \u001b[1m0s\u001b[0m 2ms/step\n",
            "반복 2 정확도: 0.9813\n",
            "모델1 반복 학습 3/5\n",
            "\u001b[1m37/37\u001b[0m \u001b[32m━━━━━━━━━━━━━━━━━━━━\u001b[0m\u001b[37m\u001b[0m \u001b[1m0s\u001b[0m 2ms/step\n",
            "반복 3 정확도: 0.9839\n",
            "모델1 반복 학습 4/5\n",
            "\u001b[1m37/37\u001b[0m \u001b[32m━━━━━━━━━━━━━━━━━━━━\u001b[0m\u001b[37m\u001b[0m \u001b[1m0s\u001b[0m 2ms/step\n",
            "반복 4 정확도: 0.9822\n",
            "모델1 반복 학습 5/5\n",
            "\u001b[1m37/37\u001b[0m \u001b[32m━━━━━━━━━━━━━━━━━━━━\u001b[0m\u001b[37m\u001b[0m \u001b[1m0s\u001b[0m 2ms/step\n",
            "반복 5 정확도: 0.9847\n",
            "\n",
            "모델1 성능 요약\n",
            "평균 정확도: 0.9830076465590485\n",
            "정확도 표준편차: 0.001201540834641538\n"
          ]
        }
      ],
      "source": [
        "#(옵션) 모델1번을 최소 5번 반복수행해서 얻은 성능의 평균값을 기록해보자!\n",
        "val_acc = []\n",
        "\n",
        "for i in range(5):\n",
        "    print(f\"모델1 반복 학습 {i+1}/5\")\n",
        "\n",
        "    # 모델 정의\n",
        "    model = tf.keras.Sequential([\n",
        "        tf.keras.layers.Input(shape=(X_train.shape[1],)),\n",
        "        tf.keras.layers.Dense(6, activation='softmax')\n",
        "    ])\n",
        "\n",
        "    # 컴파일\n",
        "    model.compile(optimizer='adam',\n",
        "                  loss='categorical_crossentropy',\n",
        "                  metrics=['accuracy'])\n",
        "\n",
        "    # 학습\n",
        "    history = model.fit(X_train, y_train,\n",
        "                        validation_data=(X_val, y_val),\n",
        "                        epochs=20,\n",
        "                        verbose=0)\n",
        "\n",
        "    # 예측 및 정확도 계산\n",
        "    y_pred = np.argmax(model.predict(X_val), axis=1)\n",
        "    y_true = np.argmax(y_val, axis=1)\n",
        "    acc = accuracy_score(y_true, y_pred)\n",
        "    val_acc.append(acc)\n",
        "\n",
        "    print(f\"반복 {i+1} 정확도: {acc:.4f}\")\n",
        "\n",
        "# 평균 및 표준편차 출력\n",
        "print(\"\\n모델1 성능 요약\")\n",
        "print(\"평균 정확도:\", np.mean(val_acc))\n",
        "print(\"정확도 표준편차:\", np.std(val_acc))\n"
      ]
    },
    {
      "cell_type": "markdown",
      "metadata": {
        "id": "howmy2pdOUwh"
      },
      "source": [
        "### (2) 모델2 : 최소 5개 이상의 은닉층을 추가한 모델"
      ]
    },
    {
      "cell_type": "code",
      "execution_count": null,
      "metadata": {
        "id": "4RbzxM6fz9ji",
        "colab": {
          "base_uri": "https://localhost:8080/"
        },
        "outputId": "9f5d7be4-e041-4db8-ddd4-fad799703ff1"
      },
      "outputs": [
        {
          "output_type": "stream",
          "name": "stderr",
          "text": [
            "/usr/local/lib/python3.11/dist-packages/keras/src/layers/core/dense.py:87: UserWarning: Do not pass an `input_shape`/`input_dim` argument to a layer. When using Sequential models, prefer using an `Input(shape)` object as the first layer in the model instead.\n",
            "  super().__init__(activity_regularizer=activity_regularizer, **kwargs)\n"
          ]
        }
      ],
      "source": [
        "# 모델 설계\n",
        "n_classes = y_train.shape[1]\n",
        "\n",
        "model2 = Sequential([\n",
        "    Dense(128, activation='relu', input_shape=(X_train.shape[1],)),\n",
        "    Dense(128, activation='relu'),\n",
        "    Dense(64, activation='relu'),\n",
        "    Dense(64, activation='relu'),\n",
        "    Dense(32, activation='relu'),\n",
        "    Dense(n_classes, activation='softmax')\n",
        "])"
      ]
    },
    {
      "cell_type": "code",
      "execution_count": null,
      "metadata": {
        "id": "9nm0jxxVz9ji",
        "colab": {
          "base_uri": "https://localhost:8080/"
        },
        "outputId": "3c2d9e95-c95c-4362-c286-cee0b97789f5"
      },
      "outputs": [
        {
          "output_type": "stream",
          "name": "stdout",
          "text": [
            "Epoch 1/30\n",
            "\u001b[1m147/147\u001b[0m \u001b[32m━━━━━━━━━━━━━━━━━━━━\u001b[0m\u001b[37m\u001b[0m \u001b[1m4s\u001b[0m 6ms/step - accuracy: 0.7510 - loss: 0.6562 - val_accuracy: 0.9482 - val_loss: 0.1338\n",
            "Epoch 2/30\n",
            "\u001b[1m147/147\u001b[0m \u001b[32m━━━━━━━━━━━━━━━━━━━━\u001b[0m\u001b[37m\u001b[0m \u001b[1m1s\u001b[0m 4ms/step - accuracy: 0.9534 - loss: 0.1196 - val_accuracy: 0.9414 - val_loss: 0.1300\n",
            "Epoch 3/30\n",
            "\u001b[1m147/147\u001b[0m \u001b[32m━━━━━━━━━━━━━━━━━━━━\u001b[0m\u001b[37m\u001b[0m \u001b[1m1s\u001b[0m 4ms/step - accuracy: 0.9694 - loss: 0.0835 - val_accuracy: 0.9805 - val_loss: 0.0674\n",
            "Epoch 4/30\n",
            "\u001b[1m147/147\u001b[0m \u001b[32m━━━━━━━━━━━━━━━━━━━━\u001b[0m\u001b[37m\u001b[0m \u001b[1m1s\u001b[0m 4ms/step - accuracy: 0.9787 - loss: 0.0524 - val_accuracy: 0.9601 - val_loss: 0.0946\n",
            "Epoch 5/30\n",
            "\u001b[1m147/147\u001b[0m \u001b[32m━━━━━━━━━━━━━━━━━━━━\u001b[0m\u001b[37m\u001b[0m \u001b[1m2s\u001b[0m 7ms/step - accuracy: 0.9702 - loss: 0.0762 - val_accuracy: 0.9822 - val_loss: 0.0506\n",
            "Epoch 6/30\n",
            "\u001b[1m147/147\u001b[0m \u001b[32m━━━━━━━━━━━━━━━━━━━━\u001b[0m\u001b[37m\u001b[0m \u001b[1m1s\u001b[0m 7ms/step - accuracy: 0.9861 - loss: 0.0372 - val_accuracy: 0.9745 - val_loss: 0.0730\n",
            "Epoch 7/30\n",
            "\u001b[1m147/147\u001b[0m \u001b[32m━━━━━━━━━━━━━━━━━━━━\u001b[0m\u001b[37m\u001b[0m \u001b[1m1s\u001b[0m 4ms/step - accuracy: 0.9775 - loss: 0.0641 - val_accuracy: 0.9737 - val_loss: 0.0879\n",
            "Epoch 8/30\n",
            "\u001b[1m147/147\u001b[0m \u001b[32m━━━━━━━━━━━━━━━━━━━━\u001b[0m\u001b[37m\u001b[0m \u001b[1m1s\u001b[0m 4ms/step - accuracy: 0.9737 - loss: 0.1152 - val_accuracy: 0.9788 - val_loss: 0.0717\n",
            "Epoch 9/30\n",
            "\u001b[1m147/147\u001b[0m \u001b[32m━━━━━━━━━━━━━━━━━━━━\u001b[0m\u001b[37m\u001b[0m \u001b[1m1s\u001b[0m 4ms/step - accuracy: 0.9891 - loss: 0.0310 - val_accuracy: 0.9652 - val_loss: 0.1031\n",
            "Epoch 10/30\n",
            "\u001b[1m147/147\u001b[0m \u001b[32m━━━━━━━━━━━━━━━━━━━━\u001b[0m\u001b[37m\u001b[0m \u001b[1m1s\u001b[0m 4ms/step - accuracy: 0.9921 - loss: 0.0246 - val_accuracy: 0.9745 - val_loss: 0.0812\n",
            "Epoch 11/30\n",
            "\u001b[1m147/147\u001b[0m \u001b[32m━━━━━━━━━━━━━━━━━━━━\u001b[0m\u001b[37m\u001b[0m \u001b[1m1s\u001b[0m 4ms/step - accuracy: 0.9911 - loss: 0.0209 - val_accuracy: 0.9771 - val_loss: 0.0701\n",
            "Epoch 12/30\n",
            "\u001b[1m147/147\u001b[0m \u001b[32m━━━━━━━━━━━━━━━━━━━━\u001b[0m\u001b[37m\u001b[0m \u001b[1m1s\u001b[0m 4ms/step - accuracy: 0.9900 - loss: 0.0260 - val_accuracy: 0.9788 - val_loss: 0.0714\n",
            "Epoch 13/30\n",
            "\u001b[1m147/147\u001b[0m \u001b[32m━━━━━━━━━━━━━━━━━━━━\u001b[0m\u001b[37m\u001b[0m \u001b[1m1s\u001b[0m 4ms/step - accuracy: 0.9938 - loss: 0.0175 - val_accuracy: 0.9788 - val_loss: 0.0755\n",
            "Epoch 14/30\n",
            "\u001b[1m147/147\u001b[0m \u001b[32m━━━━━━━━━━━━━━━━━━━━\u001b[0m\u001b[37m\u001b[0m \u001b[1m1s\u001b[0m 4ms/step - accuracy: 0.9959 - loss: 0.0146 - val_accuracy: 0.9788 - val_loss: 0.0815\n",
            "Epoch 15/30\n",
            "\u001b[1m147/147\u001b[0m \u001b[32m━━━━━━━━━━━━━━━━━━━━\u001b[0m\u001b[37m\u001b[0m \u001b[1m1s\u001b[0m 4ms/step - accuracy: 0.9942 - loss: 0.0182 - val_accuracy: 0.9660 - val_loss: 0.1241\n",
            "Epoch 16/30\n",
            "\u001b[1m147/147\u001b[0m \u001b[32m━━━━━━━━━━━━━━━━━━━━\u001b[0m\u001b[37m\u001b[0m \u001b[1m1s\u001b[0m 4ms/step - accuracy: 0.9918 - loss: 0.0295 - val_accuracy: 0.9796 - val_loss: 0.0808\n",
            "Epoch 17/30\n",
            "\u001b[1m147/147\u001b[0m \u001b[32m━━━━━━━━━━━━━━━━━━━━\u001b[0m\u001b[37m\u001b[0m \u001b[1m1s\u001b[0m 4ms/step - accuracy: 0.9967 - loss: 0.0089 - val_accuracy: 0.9830 - val_loss: 0.0651\n",
            "Epoch 18/30\n",
            "\u001b[1m147/147\u001b[0m \u001b[32m━━━━━━━━━━━━━━━━━━━━\u001b[0m\u001b[37m\u001b[0m \u001b[1m1s\u001b[0m 4ms/step - accuracy: 0.9957 - loss: 0.0093 - val_accuracy: 0.9788 - val_loss: 0.1057\n",
            "Epoch 19/30\n",
            "\u001b[1m147/147\u001b[0m \u001b[32m━━━━━━━━━━━━━━━━━━━━\u001b[0m\u001b[37m\u001b[0m \u001b[1m1s\u001b[0m 4ms/step - accuracy: 0.9897 - loss: 0.0339 - val_accuracy: 0.9703 - val_loss: 0.1059\n",
            "Epoch 20/30\n",
            "\u001b[1m147/147\u001b[0m \u001b[32m━━━━━━━━━━━━━━━━━━━━\u001b[0m\u001b[37m\u001b[0m \u001b[1m1s\u001b[0m 5ms/step - accuracy: 0.9821 - loss: 0.0567 - val_accuracy: 0.9847 - val_loss: 0.0635\n",
            "Epoch 21/30\n",
            "\u001b[1m147/147\u001b[0m \u001b[32m━━━━━━━━━━━━━━━━━━━━\u001b[0m\u001b[37m\u001b[0m \u001b[1m1s\u001b[0m 6ms/step - accuracy: 0.9958 - loss: 0.0105 - val_accuracy: 0.9796 - val_loss: 0.0748\n",
            "Epoch 22/30\n",
            "\u001b[1m147/147\u001b[0m \u001b[32m━━━━━━━━━━━━━━━━━━━━\u001b[0m\u001b[37m\u001b[0m \u001b[1m1s\u001b[0m 7ms/step - accuracy: 0.9945 - loss: 0.0177 - val_accuracy: 0.9771 - val_loss: 0.0542\n",
            "Epoch 23/30\n",
            "\u001b[1m147/147\u001b[0m \u001b[32m━━━━━━━━━━━━━━━━━━━━\u001b[0m\u001b[37m\u001b[0m \u001b[1m1s\u001b[0m 6ms/step - accuracy: 0.9942 - loss: 0.0146 - val_accuracy: 0.9779 - val_loss: 0.0964\n",
            "Epoch 24/30\n",
            "\u001b[1m147/147\u001b[0m \u001b[32m━━━━━━━━━━━━━━━━━━━━\u001b[0m\u001b[37m\u001b[0m \u001b[1m1s\u001b[0m 4ms/step - accuracy: 0.9976 - loss: 0.0064 - val_accuracy: 0.9796 - val_loss: 0.0627\n",
            "Epoch 25/30\n",
            "\u001b[1m147/147\u001b[0m \u001b[32m━━━━━━━━━━━━━━━━━━━━\u001b[0m\u001b[37m\u001b[0m \u001b[1m1s\u001b[0m 4ms/step - accuracy: 1.0000 - loss: 0.0017 - val_accuracy: 0.9830 - val_loss: 0.0710\n",
            "Epoch 26/30\n",
            "\u001b[1m147/147\u001b[0m \u001b[32m━━━━━━━━━━━━━━━━━━━━\u001b[0m\u001b[37m\u001b[0m \u001b[1m1s\u001b[0m 4ms/step - accuracy: 1.0000 - loss: 1.4387e-04 - val_accuracy: 0.9839 - val_loss: 0.0786\n",
            "Epoch 27/30\n",
            "\u001b[1m147/147\u001b[0m \u001b[32m━━━━━━━━━━━━━━━━━━━━\u001b[0m\u001b[37m\u001b[0m \u001b[1m1s\u001b[0m 4ms/step - accuracy: 1.0000 - loss: 7.5338e-05 - val_accuracy: 0.9839 - val_loss: 0.0795\n",
            "Epoch 28/30\n",
            "\u001b[1m147/147\u001b[0m \u001b[32m━━━━━━━━━━━━━━━━━━━━\u001b[0m\u001b[37m\u001b[0m \u001b[1m1s\u001b[0m 4ms/step - accuracy: 1.0000 - loss: 4.5135e-05 - val_accuracy: 0.9839 - val_loss: 0.0834\n",
            "Epoch 29/30\n",
            "\u001b[1m147/147\u001b[0m \u001b[32m━━━━━━━━━━━━━━━━━━━━\u001b[0m\u001b[37m\u001b[0m \u001b[1m1s\u001b[0m 4ms/step - accuracy: 1.0000 - loss: 3.4215e-05 - val_accuracy: 0.9839 - val_loss: 0.0866\n",
            "Epoch 30/30\n",
            "\u001b[1m147/147\u001b[0m \u001b[32m━━━━━━━━━━━━━━━━━━━━\u001b[0m\u001b[37m\u001b[0m \u001b[1m1s\u001b[0m 4ms/step - accuracy: 1.0000 - loss: 2.6890e-05 - val_accuracy: 0.9839 - val_loss: 0.0883\n"
          ]
        }
      ],
      "source": [
        "# 모델 컴파일\n",
        "model2.compile(\n",
        "    optimizer=Adam(learning_rate=0.001),\n",
        "    loss='categorical_crossentropy',\n",
        "    metrics=['accuracy']\n",
        ")\n",
        "\n",
        "# 모델 학습\n",
        "history2 = model2.fit(\n",
        "    X_train, y_train,\n",
        "    validation_data=(X_val, y_val),\n",
        "    epochs=30,\n",
        "    batch_size=32,\n",
        "    verbose=1\n",
        ")"
      ]
    },
    {
      "cell_type": "code",
      "execution_count": null,
      "metadata": {
        "id": "OKOXibRCz9jj",
        "colab": {
          "base_uri": "https://localhost:8080/",
          "height": 542
        },
        "outputId": "c2d0dd9e-650c-4186-ada4-85c89447708d"
      },
      "outputs": [
        {
          "output_type": "display_data",
          "data": {
            "text/plain": [
              "<Figure size 1000x600 with 1 Axes>"
            ],
            "image/png": "[encoded data removed]"
          },
          "metadata": {}
        }
      ],
      "source": [
        "# 학습곡선\n",
        "dl_history_plot(history2.history)"
      ]
    },
    {
      "cell_type": "code",
      "execution_count": null,
      "metadata": {
        "id": "LGXSnT6bz9jj",
        "colab": {
          "base_uri": "https://localhost:8080/"
        },
        "outputId": "6ae23f24-067a-4fd4-bb53-cee6d2ea6304"
      },
      "outputs": [
        {
          "output_type": "stream",
          "name": "stdout",
          "text": [
            "\u001b[1m37/37\u001b[0m \u001b[32m━━━━━━━━━━━━━━━━━━━━\u001b[0m\u001b[37m\u001b[0m \u001b[1m0s\u001b[0m 3ms/step\n",
            "Validation Accuracy: 0.983857264231096\n",
            "                    precision    recall  f1-score   support\n",
            "\n",
            "            LAYING       1.00      1.00      1.00       223\n",
            "           SITTING       0.96      0.95      0.96       206\n",
            "          STANDING       0.96      0.96      0.96       218\n",
            "           WALKING       1.00      1.00      1.00       200\n",
            "WALKING_DOWNSTAIRS       1.00      1.00      1.00       158\n",
            "  WALKING_UPSTAIRS       0.99      0.99      0.99       172\n",
            "\n",
            "          accuracy                           0.98      1177\n",
            "         macro avg       0.98      0.98      0.98      1177\n",
            "      weighted avg       0.98      0.98      0.98      1177\n",
            "\n"
          ]
        }
      ],
      "source": [
        "# 예측\n",
        "y_pred_proba = model2.predict(X_val)\n",
        "y_pred = np.argmax(y_pred_proba, axis=1)\n",
        "\n",
        "# 실제 정답\n",
        "y_true = np.argmax(y_val, axis=1)\n",
        "\n",
        "# 정확도\n",
        "acc = accuracy_score(y_true, y_pred)\n",
        "print(\"Validation Accuracy:\", acc)\n",
        "\n",
        "print(classification_report(y_true, y_pred, target_names=le.classes_))"
      ]
    },
    {
      "cell_type": "markdown",
      "metadata": {
        "id": "lId5dvDwQGEi"
      },
      "source": [
        "### (3) 모델3 : 학습률, epoch 등 조정"
      ]
    },
    {
      "cell_type": "code",
      "execution_count": null,
      "metadata": {
        "id": "Zba9A_jRz-6E",
        "colab": {
          "base_uri": "https://localhost:8080/"
        },
        "outputId": "54a18742-7c05-435f-e0d2-f309735cbb62"
      },
      "outputs": [
        {
          "output_type": "stream",
          "name": "stderr",
          "text": [
            "/usr/local/lib/python3.11/dist-packages/keras/src/layers/core/dense.py:87: UserWarning: Do not pass an `input_shape`/`input_dim` argument to a layer. When using Sequential models, prefer using an `Input(shape)` object as the first layer in the model instead.\n",
            "  super().__init__(activity_regularizer=activity_regularizer, **kwargs)\n"
          ]
        }
      ],
      "source": [
        "# 모델 설계\n",
        "n_classes = y_train.shape[1]\n",
        "\n",
        "model3 = Sequential([\n",
        "    Dense(128, activation='relu', input_shape=(X_train.shape[1],)),\n",
        "    Dense(128, activation='relu'),\n",
        "    Dense(64, activation='relu'),\n",
        "    Dense(64, activation='relu'),\n",
        "    Dense(32, activation='relu'),\n",
        "    Dense(n_classes, activation='softmax')\n",
        "])"
      ]
    },
    {
      "cell_type": "code",
      "execution_count": null,
      "metadata": {
        "id": "GJsLIziOz-6F",
        "colab": {
          "base_uri": "https://localhost:8080/"
        },
        "outputId": "6d0578b3-8f3b-493f-d7fc-f2bfd35fb28c"
      },
      "outputs": [
        {
          "output_type": "stream",
          "name": "stdout",
          "text": [
            "Epoch 1/50\n",
            "\u001b[1m74/74\u001b[0m \u001b[32m━━━━━━━━━━━━━━━━━━━━\u001b[0m\u001b[37m\u001b[0m \u001b[1m2s\u001b[0m 9ms/step - accuracy: 0.5677 - loss: 1.1407 - val_accuracy: 0.9210 - val_loss: 0.2164\n",
            "Epoch 2/50\n",
            "\u001b[1m74/74\u001b[0m \u001b[32m━━━━━━━━━━━━━━━━━━━━\u001b[0m\u001b[37m\u001b[0m \u001b[1m0s\u001b[0m 5ms/step - accuracy: 0.9442 - loss: 0.1666 - val_accuracy: 0.9601 - val_loss: 0.1142\n",
            "Epoch 3/50\n",
            "\u001b[1m74/74\u001b[0m \u001b[32m━━━━━━━━━━━━━━━━━━━━\u001b[0m\u001b[37m\u001b[0m \u001b[1m1s\u001b[0m 6ms/step - accuracy: 0.9686 - loss: 0.0878 - val_accuracy: 0.9541 - val_loss: 0.1291\n",
            "Epoch 4/50\n",
            "\u001b[1m74/74\u001b[0m \u001b[32m━━━━━━━━━━━━━━━━━━━━\u001b[0m\u001b[37m\u001b[0m \u001b[1m0s\u001b[0m 5ms/step - accuracy: 0.9655 - loss: 0.0907 - val_accuracy: 0.9720 - val_loss: 0.0836\n",
            "Epoch 5/50\n",
            "\u001b[1m74/74\u001b[0m \u001b[32m━━━━━━━━━━━━━━━━━━━━\u001b[0m\u001b[37m\u001b[0m \u001b[1m1s\u001b[0m 9ms/step - accuracy: 0.9811 - loss: 0.0502 - val_accuracy: 0.9703 - val_loss: 0.0751\n",
            "Epoch 6/50\n",
            "\u001b[1m74/74\u001b[0m \u001b[32m━━━━━━━━━━━━━━━━━━━━\u001b[0m\u001b[37m\u001b[0m \u001b[1m1s\u001b[0m 9ms/step - accuracy: 0.9802 - loss: 0.0493 - val_accuracy: 0.9839 - val_loss: 0.0536\n",
            "Epoch 7/50\n",
            "\u001b[1m74/74\u001b[0m \u001b[32m━━━━━━━━━━━━━━━━━━━━\u001b[0m\u001b[37m\u001b[0m \u001b[1m1s\u001b[0m 9ms/step - accuracy: 0.9800 - loss: 0.0563 - val_accuracy: 0.9720 - val_loss: 0.0686\n",
            "Epoch 8/50\n",
            "\u001b[1m74/74\u001b[0m \u001b[32m━━━━━━━━━━━━━━━━━━━━\u001b[0m\u001b[37m\u001b[0m \u001b[1m1s\u001b[0m 5ms/step - accuracy: 0.9824 - loss: 0.0410 - val_accuracy: 0.9822 - val_loss: 0.0515\n",
            "Epoch 9/50\n",
            "\u001b[1m74/74\u001b[0m \u001b[32m━━━━━━━━━━━━━━━━━━━━\u001b[0m\u001b[37m\u001b[0m \u001b[1m1s\u001b[0m 5ms/step - accuracy: 0.9906 - loss: 0.0272 - val_accuracy: 0.9805 - val_loss: 0.0546\n",
            "Epoch 10/50\n",
            "\u001b[1m74/74\u001b[0m \u001b[32m━━━━━━━━━━━━━━━━━━━━\u001b[0m\u001b[37m\u001b[0m \u001b[1m1s\u001b[0m 5ms/step - accuracy: 0.9894 - loss: 0.0263 - val_accuracy: 0.9830 - val_loss: 0.0493\n",
            "Epoch 11/50\n",
            "\u001b[1m74/74\u001b[0m \u001b[32m━━━━━━━━━━━━━━━━━━━━\u001b[0m\u001b[37m\u001b[0m \u001b[1m1s\u001b[0m 5ms/step - accuracy: 0.9900 - loss: 0.0258 - val_accuracy: 0.9745 - val_loss: 0.0683\n",
            "Epoch 12/50\n",
            "\u001b[1m74/74\u001b[0m \u001b[32m━━━━━━━━━━━━━━━━━━━━\u001b[0m\u001b[37m\u001b[0m \u001b[1m1s\u001b[0m 5ms/step - accuracy: 0.9897 - loss: 0.0259 - val_accuracy: 0.9839 - val_loss: 0.0499\n",
            "Epoch 13/50\n",
            "\u001b[1m74/74\u001b[0m \u001b[32m━━━━━━━━━━━━━━━━━━━━\u001b[0m\u001b[37m\u001b[0m \u001b[1m1s\u001b[0m 5ms/step - accuracy: 0.9960 - loss: 0.0195 - val_accuracy: 0.9788 - val_loss: 0.0669\n",
            "Epoch 14/50\n",
            "\u001b[1m74/74\u001b[0m \u001b[32m━━━━━━━━━━━━━━━━━━━━\u001b[0m\u001b[37m\u001b[0m \u001b[1m0s\u001b[0m 5ms/step - accuracy: 0.9911 - loss: 0.0232 - val_accuracy: 0.9839 - val_loss: 0.0467\n",
            "Epoch 15/50\n",
            "\u001b[1m74/74\u001b[0m \u001b[32m━━━━━━━━━━━━━━━━━━━━\u001b[0m\u001b[37m\u001b[0m \u001b[1m1s\u001b[0m 5ms/step - accuracy: 0.9982 - loss: 0.0072 - val_accuracy: 0.9847 - val_loss: 0.0518\n",
            "Epoch 16/50\n",
            "\u001b[1m74/74\u001b[0m \u001b[32m━━━━━━━━━━━━━━━━━━━━\u001b[0m\u001b[37m\u001b[0m \u001b[1m1s\u001b[0m 5ms/step - accuracy: 0.9933 - loss: 0.0170 - val_accuracy: 0.9796 - val_loss: 0.0639\n",
            "Epoch 17/50\n",
            "\u001b[1m74/74\u001b[0m \u001b[32m━━━━━━━━━━━━━━━━━━━━\u001b[0m\u001b[37m\u001b[0m \u001b[1m1s\u001b[0m 10ms/step - accuracy: 0.9985 - loss: 0.0063 - val_accuracy: 0.9856 - val_loss: 0.0527\n",
            "Epoch 18/50\n",
            "\u001b[1m74/74\u001b[0m \u001b[32m━━━━━━━━━━━━━━━━━━━━\u001b[0m\u001b[37m\u001b[0m \u001b[1m1s\u001b[0m 8ms/step - accuracy: 0.9987 - loss: 0.0061 - val_accuracy: 0.9788 - val_loss: 0.0694\n",
            "Epoch 19/50\n",
            "\u001b[1m74/74\u001b[0m \u001b[32m━━━━━━━━━━━━━━━━━━━━\u001b[0m\u001b[37m\u001b[0m \u001b[1m1s\u001b[0m 5ms/step - accuracy: 0.9962 - loss: 0.0096 - val_accuracy: 0.9839 - val_loss: 0.0552\n",
            "18번째 epoch에서 종료\n",
            "best: 14번째 epoch\n"
          ]
        }
      ],
      "source": [
        "# 컴파일 (학습률 조정)\n",
        "model3.compile(\n",
        "    optimizer=Adam(learning_rate=0.0005),\n",
        "    loss='categorical_crossentropy',\n",
        "    metrics=['accuracy']\n",
        ")\n",
        "\n",
        "# EarlyStopping 설정\n",
        "early_stop = EarlyStopping(\n",
        "    monitor='val_loss',\n",
        "    patience=5,\n",
        "    restore_best_weights=True\n",
        ")\n",
        "\n",
        "# 학습\n",
        "history3 = model3.fit(\n",
        "    X_train, y_train,\n",
        "    validation_data=(X_val, y_val),\n",
        "    epochs=50,\n",
        "    batch_size=64,\n",
        "    callbacks=[early_stop],\n",
        "    verbose=1\n",
        ")\n",
        "# 학습 후 종료된 epoch 수\n",
        "stopped_epoch = early_stop.stopped_epoch\n",
        "best_epoch = np.argmin(history3.history['val_loss']) + 1\n",
        "\n",
        "print(f\"{stopped_epoch}번째 epoch에서 종료\")\n",
        "print(f\"best: {best_epoch}번째 epoch\")"
      ]
    },
    {
      "cell_type": "code",
      "execution_count": null,
      "metadata": {
        "id": "gwXb2CnFz-6G",
        "colab": {
          "base_uri": "https://localhost:8080/",
          "height": 542
        },
        "outputId": "3349335e-5be5-4b0d-d28e-eacc44768b63"
      },
      "outputs": [
        {
          "output_type": "display_data",
          "data": {
            "text/plain": [
              "<Figure size 1000x600 with 1 Axes>"
            ],
            "image/png": "[encoded data removed]"
          },
          "metadata": {}
        }
      ],
      "source": [
        "# 학습곡선\n",
        "dl_history_plot(history3.history)"
      ]
    },
    {
      "cell_type": "code",
      "execution_count": null,
      "metadata": {
        "id": "5AoGDqnvz-6G",
        "colab": {
          "base_uri": "https://localhost:8080/"
        },
        "outputId": "87a311fc-de21-4c47-c1f5-d04449c14c14"
      },
      "outputs": [
        {
          "output_type": "stream",
          "name": "stdout",
          "text": [
            "\u001b[1m37/37\u001b[0m \u001b[32m━━━━━━━━━━━━━━━━━━━━\u001b[0m\u001b[37m\u001b[0m \u001b[1m0s\u001b[0m 3ms/step\n",
            "Validation Accuracy: 0.983857264231096\n",
            "                    precision    recall  f1-score   support\n",
            "\n",
            "            LAYING       1.00      1.00      1.00       223\n",
            "           SITTING       0.97      0.95      0.96       206\n",
            "          STANDING       0.96      0.97      0.97       218\n",
            "           WALKING       1.00      0.99      1.00       200\n",
            "WALKING_DOWNSTAIRS       0.99      1.00      1.00       158\n",
            "  WALKING_UPSTAIRS       0.99      1.00      1.00       172\n",
            "\n",
            "          accuracy                           0.98      1177\n",
            "         macro avg       0.98      0.98      0.98      1177\n",
            "      weighted avg       0.98      0.98      0.98      1177\n",
            "\n"
          ]
        }
      ],
      "source": [
        "# 예측\n",
        "y_pred_proba = model3.predict(X_val)\n",
        "y_pred = np.argmax(y_pred_proba, axis=1)\n",
        "\n",
        "# 실제 정답\n",
        "y_true = np.argmax(y_val, axis=1)\n",
        "\n",
        "# 정확도\n",
        "acc = accuracy_score(y_true, y_pred)\n",
        "print(\"Validation Accuracy:\", acc)\n",
        "\n",
        "print(classification_report(y_true, y_pred, target_names=le.classes_))"
      ]
    },
    {
      "cell_type": "markdown",
      "metadata": {
        "id": "kSjKuMEbv1vK"
      },
      "source": [
        "### (4) 모델4 :  학습률, epoch 등 조정"
      ]
    },
    {
      "cell_type": "code",
      "execution_count": null,
      "metadata": {
        "id": "0DnEt4SR0AH7",
        "colab": {
          "base_uri": "https://localhost:8080/"
        },
        "outputId": "cc937562-a129-4523-893c-cf916cb72194"
      },
      "outputs": [
        {
          "output_type": "stream",
          "name": "stderr",
          "text": [
            "/usr/local/lib/python3.11/dist-packages/keras/src/layers/core/dense.py:87: UserWarning: Do not pass an `input_shape`/`input_dim` argument to a layer. When using Sequential models, prefer using an `Input(shape)` object as the first layer in the model instead.\n",
            "  super().__init__(activity_regularizer=activity_regularizer, **kwargs)\n"
          ]
        }
      ],
      "source": [
        "# 모델 설계 (dropout 추가)\n",
        "n_classes = y_train.shape[1]\n",
        "\n",
        "model4 = Sequential([\n",
        "    Dense(128, activation='relu', input_shape=(X_train.shape[1],)),\n",
        "    Dropout(0.3),\n",
        "    Dense(64, activation='relu'),\n",
        "    Dropout(0.3),\n",
        "    Dense(32, activation='relu'),\n",
        "    Dense(n_classes, activation='softmax')\n",
        "])"
      ]
    },
    {
      "cell_type": "code",
      "execution_count": null,
      "metadata": {
        "id": "JKW9t5-b0AH8",
        "colab": {
          "base_uri": "https://localhost:8080/"
        },
        "outputId": "48de04c8-9ddb-4826-a258-682f9050dbd6"
      },
      "outputs": [
        {
          "output_type": "stream",
          "name": "stdout",
          "text": [
            "Epoch 1/30\n",
            "\u001b[1m147/147\u001b[0m \u001b[32m━━━━━━━━━━━━━━━━━━━━\u001b[0m\u001b[37m\u001b[0m \u001b[1m3s\u001b[0m 8ms/step - accuracy: 0.4527 - loss: 1.3149 - val_accuracy: 0.8267 - val_loss: 0.4200\n",
            "Epoch 2/30\n",
            "\u001b[1m147/147\u001b[0m \u001b[32m━━━━━━━━━━━━━━━━━━━━\u001b[0m\u001b[37m\u001b[0m \u001b[1m1s\u001b[0m 7ms/step - accuracy: 0.7879 - loss: 0.5311 - val_accuracy: 0.9176 - val_loss: 0.2357\n",
            "Epoch 3/30\n",
            "\u001b[1m147/147\u001b[0m \u001b[32m━━━━━━━━━━━━━━━━━━━━\u001b[0m\u001b[37m\u001b[0m \u001b[1m1s\u001b[0m 5ms/step - accuracy: 0.8797 - loss: 0.3168 - val_accuracy: 0.9261 - val_loss: 0.1871\n",
            "Epoch 4/30\n",
            "\u001b[1m147/147\u001b[0m \u001b[32m━━━━━━━━━━━━━━━━━━━━\u001b[0m\u001b[37m\u001b[0m \u001b[1m1s\u001b[0m 4ms/step - accuracy: 0.9102 - loss: 0.2397 - val_accuracy: 0.9465 - val_loss: 0.1359\n",
            "Epoch 5/30\n",
            "\u001b[1m147/147\u001b[0m \u001b[32m━━━━━━━━━━━━━━━━━━━━\u001b[0m\u001b[37m\u001b[0m \u001b[1m1s\u001b[0m 4ms/step - accuracy: 0.9272 - loss: 0.1948 - val_accuracy: 0.9601 - val_loss: 0.1073\n",
            "Epoch 6/30\n",
            "\u001b[1m147/147\u001b[0m \u001b[32m━━━━━━━━━━━━━━━━━━━━\u001b[0m\u001b[37m\u001b[0m \u001b[1m1s\u001b[0m 4ms/step - accuracy: 0.9394 - loss: 0.1566 - val_accuracy: 0.9626 - val_loss: 0.0999\n",
            "Epoch 7/30\n",
            "\u001b[1m147/147\u001b[0m \u001b[32m━━━━━━━━━━━━━━━━━━━━\u001b[0m\u001b[37m\u001b[0m \u001b[1m1s\u001b[0m 4ms/step - accuracy: 0.9574 - loss: 0.1263 - val_accuracy: 0.9703 - val_loss: 0.0860\n",
            "Epoch 8/30\n",
            "\u001b[1m147/147\u001b[0m \u001b[32m━━━━━━━━━━━━━━━━━━━━\u001b[0m\u001b[37m\u001b[0m \u001b[1m1s\u001b[0m 4ms/step - accuracy: 0.9599 - loss: 0.1081 - val_accuracy: 0.9737 - val_loss: 0.0768\n",
            "Epoch 9/30\n",
            "\u001b[1m147/147\u001b[0m \u001b[32m━━━━━━━━━━━━━━━━━━━━\u001b[0m\u001b[37m\u001b[0m \u001b[1m1s\u001b[0m 4ms/step - accuracy: 0.9611 - loss: 0.1034 - val_accuracy: 0.9737 - val_loss: 0.0752\n",
            "Epoch 10/30\n",
            "\u001b[1m147/147\u001b[0m \u001b[32m━━━━━━━━━━━━━━━━━━━━\u001b[0m\u001b[37m\u001b[0m \u001b[1m1s\u001b[0m 4ms/step - accuracy: 0.9664 - loss: 0.0901 - val_accuracy: 0.9796 - val_loss: 0.0673\n",
            "Epoch 11/30\n",
            "\u001b[1m147/147\u001b[0m \u001b[32m━━━━━━━━━━━━━━━━━━━━\u001b[0m\u001b[37m\u001b[0m \u001b[1m1s\u001b[0m 4ms/step - accuracy: 0.9696 - loss: 0.0817 - val_accuracy: 0.9745 - val_loss: 0.0676\n",
            "Epoch 12/30\n",
            "\u001b[1m147/147\u001b[0m \u001b[32m━━━━━━━━━━━━━━━━━━━━\u001b[0m\u001b[37m\u001b[0m \u001b[1m1s\u001b[0m 4ms/step - accuracy: 0.9717 - loss: 0.0751 - val_accuracy: 0.9779 - val_loss: 0.0634\n",
            "Epoch 13/30\n",
            "\u001b[1m147/147\u001b[0m \u001b[32m━━━━━━━━━━━━━━━━━━━━\u001b[0m\u001b[37m\u001b[0m \u001b[1m1s\u001b[0m 4ms/step - accuracy: 0.9637 - loss: 0.0879 - val_accuracy: 0.9771 - val_loss: 0.0680\n",
            "Epoch 14/30\n",
            "\u001b[1m147/147\u001b[0m \u001b[32m━━━━━━━━━━━━━━━━━━━━\u001b[0m\u001b[37m\u001b[0m \u001b[1m1s\u001b[0m 4ms/step - accuracy: 0.9688 - loss: 0.0825 - val_accuracy: 0.9813 - val_loss: 0.0634\n",
            "Epoch 15/30\n",
            "\u001b[1m147/147\u001b[0m \u001b[32m━━━━━━━━━━━━━━━━━━━━\u001b[0m\u001b[37m\u001b[0m \u001b[1m1s\u001b[0m 4ms/step - accuracy: 0.9740 - loss: 0.0656 - val_accuracy: 0.9839 - val_loss: 0.0529\n",
            "Epoch 16/30\n",
            "\u001b[1m147/147\u001b[0m \u001b[32m━━━━━━━━━━━━━━━━━━━━\u001b[0m\u001b[37m\u001b[0m \u001b[1m1s\u001b[0m 6ms/step - accuracy: 0.9800 - loss: 0.0569 - val_accuracy: 0.9813 - val_loss: 0.0582\n",
            "Epoch 17/30\n",
            "\u001b[1m147/147\u001b[0m \u001b[32m━━━━━━━━━━━━━━━━━━━━\u001b[0m\u001b[37m\u001b[0m \u001b[1m1s\u001b[0m 6ms/step - accuracy: 0.9721 - loss: 0.0703 - val_accuracy: 0.9822 - val_loss: 0.0585\n",
            "Epoch 18/30\n",
            "\u001b[1m147/147\u001b[0m \u001b[32m━━━━━━━━━━━━━━━━━━━━\u001b[0m\u001b[37m\u001b[0m \u001b[1m1s\u001b[0m 6ms/step - accuracy: 0.9799 - loss: 0.0494 - val_accuracy: 0.9864 - val_loss: 0.0519\n",
            "Epoch 19/30\n",
            "\u001b[1m147/147\u001b[0m \u001b[32m━━━━━━━━━━━━━━━━━━━━\u001b[0m\u001b[37m\u001b[0m \u001b[1m1s\u001b[0m 4ms/step - accuracy: 0.9806 - loss: 0.0539 - val_accuracy: 0.9856 - val_loss: 0.0502\n",
            "Epoch 20/30\n",
            "\u001b[1m147/147\u001b[0m \u001b[32m━━━━━━━━━━━━━━━━━━━━\u001b[0m\u001b[37m\u001b[0m \u001b[1m1s\u001b[0m 4ms/step - accuracy: 0.9771 - loss: 0.0555 - val_accuracy: 0.9873 - val_loss: 0.0451\n",
            "Epoch 21/30\n",
            "\u001b[1m147/147\u001b[0m \u001b[32m━━━━━━━━━━━━━━━━━━━━\u001b[0m\u001b[37m\u001b[0m \u001b[1m1s\u001b[0m 4ms/step - accuracy: 0.9835 - loss: 0.0488 - val_accuracy: 0.9830 - val_loss: 0.0494\n",
            "Epoch 22/30\n",
            "\u001b[1m147/147\u001b[0m \u001b[32m━━━━━━━━━━━━━━━━━━━━\u001b[0m\u001b[37m\u001b[0m \u001b[1m1s\u001b[0m 4ms/step - accuracy: 0.9817 - loss: 0.0511 - val_accuracy: 0.9873 - val_loss: 0.0465\n",
            "Epoch 23/30\n",
            "\u001b[1m147/147\u001b[0m \u001b[32m━━━━━━━━━━━━━━━━━━━━\u001b[0m\u001b[37m\u001b[0m \u001b[1m1s\u001b[0m 4ms/step - accuracy: 0.9841 - loss: 0.0468 - val_accuracy: 0.9873 - val_loss: 0.0461\n",
            "Epoch 24/30\n",
            "\u001b[1m147/147\u001b[0m \u001b[32m━━━━━━━━━━━━━━━━━━━━\u001b[0m\u001b[37m\u001b[0m \u001b[1m1s\u001b[0m 4ms/step - accuracy: 0.9865 - loss: 0.0350 - val_accuracy: 0.9822 - val_loss: 0.0552\n",
            "Epoch 25/30\n",
            "\u001b[1m147/147\u001b[0m \u001b[32m━━━━━━━━━━━━━━━━━━━━\u001b[0m\u001b[37m\u001b[0m \u001b[1m1s\u001b[0m 4ms/step - accuracy: 0.9865 - loss: 0.0398 - val_accuracy: 0.9856 - val_loss: 0.0513\n",
            "Epoch 26/30\n",
            "\u001b[1m147/147\u001b[0m \u001b[32m━━━━━━━━━━━━━━━━━━━━\u001b[0m\u001b[37m\u001b[0m \u001b[1m1s\u001b[0m 4ms/step - accuracy: 0.9804 - loss: 0.0430 - val_accuracy: 0.9864 - val_loss: 0.0483\n",
            "Epoch 27/30\n",
            "\u001b[1m147/147\u001b[0m \u001b[32m━━━━━━━━━━━━━━━━━━━━\u001b[0m\u001b[37m\u001b[0m \u001b[1m1s\u001b[0m 4ms/step - accuracy: 0.9894 - loss: 0.0309 - val_accuracy: 0.9839 - val_loss: 0.0436\n",
            "Epoch 28/30\n",
            "\u001b[1m147/147\u001b[0m \u001b[32m━━━━━━━━━━━━━━━━━━━━\u001b[0m\u001b[37m\u001b[0m \u001b[1m1s\u001b[0m 4ms/step - accuracy: 0.9896 - loss: 0.0297 - val_accuracy: 0.9856 - val_loss: 0.0493\n",
            "Epoch 29/30\n",
            "\u001b[1m147/147\u001b[0m \u001b[32m━━━━━━━━━━━━━━━━━━━━\u001b[0m\u001b[37m\u001b[0m \u001b[1m1s\u001b[0m 4ms/step - accuracy: 0.9877 - loss: 0.0311 - val_accuracy: 0.9873 - val_loss: 0.0445\n",
            "Epoch 30/30\n",
            "\u001b[1m147/147\u001b[0m \u001b[32m━━━━━━━━━━━━━━━━━━━━\u001b[0m\u001b[37m\u001b[0m \u001b[1m1s\u001b[0m 4ms/step - accuracy: 0.9868 - loss: 0.0323 - val_accuracy: 0.9847 - val_loss: 0.0506\n"
          ]
        }
      ],
      "source": [
        "# 컴파일 (학습률)\n",
        "model4.compile(\n",
        "    optimizer=Adam(learning_rate=0.0003),\n",
        "    loss='categorical_crossentropy',\n",
        "    metrics=['accuracy']\n",
        ")\n",
        "# 학습\n",
        "history4 = model4.fit(\n",
        "    X_train, y_train,\n",
        "    validation_data=(X_val, y_val),\n",
        "    epochs=30,\n",
        "    batch_size=32,\n",
        "    verbose=1\n",
        ")"
      ]
    },
    {
      "cell_type": "code",
      "execution_count": null,
      "metadata": {
        "id": "5LviYQi-0AH9",
        "colab": {
          "base_uri": "https://localhost:8080/",
          "height": 542
        },
        "outputId": "bd9e1eeb-ad9e-412a-f666-3efa455e6372"
      },
      "outputs": [
        {
          "output_type": "display_data",
          "data": {
            "text/plain": [
              "<Figure size 1000x600 with 1 Axes>"
            ],
            "image/png": "[encoded data removed]"
          },
          "metadata": {}
        }
      ],
      "source": [
        "# 학습곡선\n",
        "dl_history_plot(history4.history)"
      ]
    },
    {
      "cell_type": "code",
      "execution_count": null,
      "metadata": {
        "id": "D91OxYLW0AH9",
        "colab": {
          "base_uri": "https://localhost:8080/"
        },
        "outputId": "7b427066-d263-48b4-c24b-5c14b13605dd"
      },
      "outputs": [
        {
          "output_type": "stream",
          "name": "stdout",
          "text": [
            "\u001b[1m37/37\u001b[0m \u001b[32m━━━━━━━━━━━━━━━━━━━━\u001b[0m\u001b[37m\u001b[0m \u001b[1m0s\u001b[0m 3ms/step\n",
            "Validation Accuracy: 0.9847068819031436\n",
            "                    precision    recall  f1-score   support\n",
            "\n",
            "            LAYING       1.00      1.00      1.00       223\n",
            "           SITTING       0.95      0.97      0.96       206\n",
            "          STANDING       0.98      0.95      0.97       218\n",
            "           WALKING       1.00      1.00      1.00       200\n",
            "WALKING_DOWNSTAIRS       0.99      1.00      0.99       158\n",
            "  WALKING_UPSTAIRS       0.99      0.99      0.99       172\n",
            "\n",
            "          accuracy                           0.98      1177\n",
            "         macro avg       0.99      0.99      0.99      1177\n",
            "      weighted avg       0.98      0.98      0.98      1177\n",
            "\n"
          ]
        }
      ],
      "source": [
        "# 예측\n",
        "y_pred_proba = model4.predict(X_val)\n",
        "y_pred = np.argmax(y_pred_proba, axis=1)\n",
        "\n",
        "# 실제 정답\n",
        "y_true = np.argmax(y_val, axis=1)\n",
        "\n",
        "# 정확도\n",
        "acc = accuracy_score(y_true, y_pred)\n",
        "print(\"Validation Accuracy:\", acc)\n",
        "\n",
        "print(classification_report(y_true, y_pred, target_names=le.classes_))"
      ]
    },
    {
      "cell_type": "markdown",
      "metadata": {
        "id": "_OTuXbgHzt4H"
      },
      "source": [
        "## 4.성능비교"
      ]
    },
    {
      "cell_type": "markdown",
      "metadata": {
        "id": "2TjwzbyYzt4I"
      },
      "source": [
        "* 세부 요구사항\n",
        "    - test 데이터에 대한 전처리\n",
        "    - 각 모델에 대해서 test 데이터로 성능 측정"
      ]
    },
    {
      "cell_type": "code",
      "execution_count": null,
      "metadata": {
        "id": "3Y10D1FsiNEt"
      },
      "outputs": [],
      "source": [
        "#전체 데이터 불러오기(test)\n",
        "test = pd.read_csv(path + 'data01_test.csv')\n",
        "\n",
        "# subject 삭제\n",
        "test.drop(columns=['subject'], inplace=True)"
      ]
    },
    {
      "cell_type": "code",
      "source": [
        "# x, y 분할\n",
        "X_test = test.drop(columns=['Activity'])\n",
        "y_test = test['Activity']\n",
        "\n",
        "# x : 스케일링 적용\n",
        "X_test_scaled = scaler.transform(X_test)\n",
        "X_test_scaled = pd.DataFrame(X_test_scaled, columns=X_test.columns)\n",
        "\n",
        "# y : 정수인코딩 적용\n",
        "y_test_encoded = le.transform(y_test)\n",
        "\n",
        "# 원핫인코딩\n",
        "y_test_onehot = tf.keras.utils.to_categorical(y_test_encoded)"
      ],
      "metadata": {
        "id": "zL3OlTZy9CH2"
      },
      "execution_count": null,
      "outputs": []
    },
    {
      "cell_type": "code",
      "execution_count": null,
      "metadata": {
        "id": "ciIQPNqriNBe",
        "colab": {
          "base_uri": "https://localhost:8080/"
        },
        "outputId": "b4dd33f6-c647-4b52-ccfc-a625891e2113"
      },
      "outputs": [
        {
          "output_type": "stream",
          "name": "stdout",
          "text": [
            "\u001b[1m46/46\u001b[0m \u001b[32m━━━━━━━━━━━━━━━━━━━━\u001b[0m\u001b[37m\u001b[0m \u001b[1m0s\u001b[0m 3ms/step\n",
            "Test Accuracy: 0.9714479945615228\n",
            "                    precision    recall  f1-score   support\n",
            "\n",
            "            LAYING       1.00      1.00      1.00       292\n",
            "           SITTING       0.90      0.95      0.93       254\n",
            "          STANDING       0.96      0.91      0.93       287\n",
            "           WALKING       1.00      0.99      0.99       228\n",
            "WALKING_DOWNSTAIRS       0.99      1.00      1.00       195\n",
            "  WALKING_UPSTAIRS       1.00      1.00      1.00       215\n",
            "\n",
            "          accuracy                           0.97      1471\n",
            "         macro avg       0.97      0.97      0.97      1471\n",
            "      weighted avg       0.97      0.97      0.97      1471\n",
            "\n"
          ]
        }
      ],
      "source": [
        "# 예측\n",
        "y_test_pred_proba = model4.predict(X_test_scaled)\n",
        "y_test_pred = np.argmax(y_test_pred_proba, axis=1)\n",
        "y_test_true = np.argmax(y_test_onehot, axis=1)\n",
        "\n",
        "# 평가\n",
        "acc4 = accuracy_score(y_test_true, y_test_pred)\n",
        "print(\"Test Accuracy:\", acc4)\n",
        "\n",
        "print(classification_report(y_test_true, y_test_pred, target_names=le.classes_))"
      ]
    },
    {
      "cell_type": "code",
      "source": [
        "# 예측 및 정답 변환 함수\n",
        "def get_test_accuracy(model, X_test_scaled, y_test_onehot):\n",
        "    y_pred_proba = model.predict(X_test_scaled)\n",
        "    y_pred = np.argmax(y_pred_proba, axis=1)\n",
        "    y_true = np.argmax(y_test_onehot, axis=1)\n",
        "    return accuracy_score(y_true, y_pred)"
      ],
      "metadata": {
        "id": "IfLF76XD9x99"
      },
      "execution_count": null,
      "outputs": []
    },
    {
      "cell_type": "code",
      "source": [
        "acc1 = get_test_accuracy(model1, X_test_scaled, y_test_onehot)\n",
        "acc2 = get_test_accuracy(model2, X_test_scaled, y_test_onehot)\n",
        "acc3 = get_test_accuracy(model3, X_test_scaled, y_test_onehot)"
      ],
      "metadata": {
        "colab": {
          "base_uri": "https://localhost:8080/"
        },
        "id": "RvfHFmlY9x7C",
        "outputId": "04d9598d-3668-4e63-9222-ae08d8604424"
      },
      "execution_count": null,
      "outputs": [
        {
          "output_type": "stream",
          "name": "stdout",
          "text": [
            "\u001b[1m46/46\u001b[0m \u001b[32m━━━━━━━━━━━━━━━━━━━━\u001b[0m\u001b[37m\u001b[0m \u001b[1m0s\u001b[0m 5ms/step\n",
            "\u001b[1m46/46\u001b[0m \u001b[32m━━━━━━━━━━━━━━━━━━━━\u001b[0m\u001b[37m\u001b[0m \u001b[1m0s\u001b[0m 3ms/step\n",
            "\u001b[1m46/46\u001b[0m \u001b[32m━━━━━━━━━━━━━━━━━━━━\u001b[0m\u001b[37m\u001b[0m \u001b[1m0s\u001b[0m 5ms/step\n"
          ]
        }
      ]
    },
    {
      "cell_type": "code",
      "source": [
        "model_scores = {\n",
        "    'Model 1 ': acc1,\n",
        "    'Model 2 ': acc2,\n",
        "    'Model 3 ': acc3,\n",
        "    'Model 4 ': acc4\n",
        "}\n",
        "\n",
        "score_df = pd.DataFrame(model_scores, index=['Accuracy']).T\n",
        "score_df = score_df.sort_values(by='Accuracy', ascending=False)\n",
        "\n",
        "for name, row in score_df.iterrows():\n",
        "    print(f\"✅ {name} 정확도: {row['Accuracy']:.4f}\")"
      ],
      "metadata": {
        "colab": {
          "base_uri": "https://localhost:8080/"
        },
        "id": "2c-Q6ld69x34",
        "outputId": "bfcb199f-ec1d-4c04-99ae-c956d40212ed"
      },
      "execution_count": null,
      "outputs": [
        {
          "output_type": "stream",
          "name": "stdout",
          "text": [
            "✅ Model 2  정확도: 0.9816\n",
            "✅ Model 3  정확도: 0.9776\n",
            "✅ Model 4  정확도: 0.9714\n",
            "✅ Model 1  정확도: 0.9708\n"
          ]
        }
      ]
    },
    {
      "cell_type": "markdown",
      "metadata": {
        "id": "AsLE02YMqgJk"
      },
      "source": [
        "#### 고생하셨습니다! 이제 단계적 모델링을 해봅시다."
      ]
    }
  ],
  "metadata": {
    "colab": {
      "provenance": [],
      "include_colab_link": true
    },
    "kernelspec": {
      "display_name": "Python 3",
      "name": "python3"
    },
    "language_info": {
      "name": "python"
    }
  },
  "nbformat": 4,
  "nbformat_minor": 0
}