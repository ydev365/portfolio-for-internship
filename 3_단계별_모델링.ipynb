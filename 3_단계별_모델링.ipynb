{
  "cells": [
    {
      "cell_type": "markdown",
      "metadata": {
        "id": "view-in-github",
        "colab_type": "text"
      },
      "source": [
        "<a href=\"https://colab.research.google.com/github/ydev365/portfolio-for-internship/blob/main/3_%EB%8B%A8%EA%B3%84%EB%B3%84_%EB%AA%A8%EB%8D%B8%EB%A7%81.ipynb\" target=\"_parent\"><img src=\"https://colab.research.google.com/assets/colab-badge.svg\" alt=\"Open In Colab\"/></a>"
      ]
    },
    {
      "cell_type": "markdown",
      "metadata": {
        "id": "NbI_RoQ9AP5r"
      },
      "source": [
        "#**스마트폰 센서 데이터 기반 모션 분류**\n",
        "# 단계3 : 단계별 모델링\n"
      ]
    },
    {
      "cell_type": "markdown",
      "metadata": {
        "id": "JmtZXcVs0IXm"
      },
      "source": [
        "## 0.미션4"
      ]
    },
    {
      "cell_type": "markdown",
      "metadata": {
        "id": "1Q7N3tIf0IXn"
      },
      "source": [
        "* 단계별로 나눠서 모델링을 수행하고자 합니다.  \n",
        "* 단계 구분 예시\n",
        "    * 단계1 : 정적(0), 동적(1) 행동 분류 모델 생성\n",
        "    * 단계2 : 세부 동작에 대한 분류모델 생성\n",
        "        * 단계1 모델에서 0으로 예측 -> 정적 행동 3가지 분류 모델링\n",
        "        * 단계1 모델에서 1으로 예측 -> 동적 행동 3가지 분류 모델링\n",
        "* (선택) 모델 통합\n",
        "    * 두 단계 모델을 통합하고, 새로운 데이터에 대해서 최종 예측결과와 성능평가가 나오도록 함수로 만들기\n",
        "* 성능 비교\n",
        "    * 기본 모델링의 성능과 비교\n",
        "    * 성능 가이드\n",
        "        * Accuracy : 0.97 ~ 0.99\n",
        "* (선택) 파이프라인 구성\n",
        "    * test 데이터를 입력하여, 전처리 및 예측결과가 나오도록 함수 구성"
      ]
    },
    {
      "cell_type": "markdown",
      "metadata": {
        "id": "rgiFiMnzd3Jn"
      },
      "source": [
        "## 1.환경설정"
      ]
    },
    {
      "cell_type": "markdown",
      "metadata": {
        "id": "0fDUoBYfd3Jx"
      },
      "source": [
        "* 세부 요구사항\n",
        "    - 경로 설정 : 구글콜랩\n",
        "        * 구글 드라이브 바로 밑에 project3 폴더를 만들고,\n",
        "        * 데이터 파일을 복사해 넣습니다.\n",
        "    - 기본적으로 필요한 라이브러리를 import 하도록 코드가 작성되어 있습니다.\n",
        "        * 필요하다고 판단되는 라이브러리를 추가하세요.\n"
      ]
    },
    {
      "cell_type": "markdown",
      "metadata": {
        "id": "EP6x0_Qrd3Jx"
      },
      "source": [
        "### (1) 경로 설정"
      ]
    },
    {
      "cell_type": "markdown",
      "metadata": {
        "id": "Nc5ajfyHd3Jx"
      },
      "source": [
        "* 구글 드라이브 연결"
      ]
    },
    {
      "cell_type": "code",
      "execution_count": null,
      "metadata": {
        "id": "Ic8ZeFKcd3Jx",
        "colab": {
          "base_uri": "https://localhost:8080/"
        },
        "outputId": "a8eb621b-a7d5-4a97-dcf3-0c14c803ae0d"
      },
      "outputs": [
        {
          "output_type": "stream",
          "name": "stdout",
          "text": [
            "Mounted at /content/drive\n"
          ]
        }
      ],
      "source": [
        "from google.colab import drive\n",
        "drive.mount('/content/drive')"
      ]
    },
    {
      "cell_type": "code",
      "execution_count": null,
      "metadata": {
        "id": "rR-drTHhd3Jx"
      },
      "outputs": [],
      "source": [
        "path = '/content/drive/MyDrive/AIVLE/AI_미니프로젝트 1차_실습자료/'"
      ]
    },
    {
      "cell_type": "markdown",
      "metadata": {
        "id": "Tqpjn1W3d3Jx"
      },
      "source": [
        "### (2) 라이브러리 불러오기"
      ]
    },
    {
      "cell_type": "markdown",
      "metadata": {
        "id": "-ZxRcPNqd3Jy"
      },
      "source": [
        "* 라이브러리 로딩\n",
        "  - pandas, numpy,matplotlib,seaborn, joblib, 모델링에 필요한 라이브러리를 로딩합니다."
      ]
    },
    {
      "cell_type": "code",
      "execution_count": null,
      "metadata": {
        "id": "___ks_QAd3Jy"
      },
      "outputs": [],
      "source": [
        "import pandas as pd\n",
        "import numpy as np\n",
        "import matplotlib.pyplot as plt\n",
        "import seaborn as sns\n",
        "\n",
        "import joblib\n",
        "\n",
        "from sklearn.model_selection import train_test_split\n",
        "from sklearn.preprocessing import MinMaxScaler, LabelEncoder\n",
        "from sklearn.metrics import *\n",
        "\n",
        "from keras.models import Sequential\n",
        "from keras.layers import Dense, Flatten, Dropout\n",
        "from keras.backend import clear_session\n",
        "from keras.optimizers import Adam"
      ]
    },
    {
      "cell_type": "code",
      "execution_count": null,
      "metadata": {
        "id": "3c4JgiEbNKfo"
      },
      "outputs": [],
      "source": [
        "# 학습곡선 함수\n",
        "def dl_history_plot(history):\n",
        "    plt.figure(figsize=(10,6))\n",
        "    plt.plot(history['loss'], label='train_err', marker = '.')\n",
        "    plt.plot(history['val_loss'], label='val_err', marker = '.')\n",
        "\n",
        "    plt.ylabel('Loss')\n",
        "    plt.xlabel('Epoch')\n",
        "    plt.legend()\n",
        "    plt.grid()\n",
        "    plt.show()"
      ]
    },
    {
      "cell_type": "markdown",
      "metadata": {
        "id": "bA-eHXdwBDCz"
      },
      "source": [
        "### (3) 데이터 불러오기"
      ]
    },
    {
      "cell_type": "markdown",
      "metadata": {
        "id": "tDueQoA3d3Jy"
      },
      "source": [
        "* 주어진 데이터셋\n",
        "    * data01_train.csv : 학습 및 검증용\n",
        "    * data01_test.csv : 테스트용\n",
        "    * feature.csv : feature 이름을 계층구조로 정리한 데이터\n",
        "\n",
        "* 세부 요구사항\n",
        "    * 칼럼 삭제 : data01_train.csv와 data01_test.csv 에서 'subject' 칼럼은 불필요하므로 삭제합니다."
      ]
    },
    {
      "cell_type": "markdown",
      "metadata": {
        "id": "fmgUEGOipvG5"
      },
      "source": [
        "#### 1) 데이터로딩"
      ]
    },
    {
      "cell_type": "code",
      "execution_count": null,
      "metadata": {
        "id": "HdZCcSs6qfRC",
        "colab": {
          "base_uri": "https://localhost:8080/"
        },
        "outputId": "4e18f3ad-0eeb-4179-d571-b3088aa8f512"
      },
      "outputs": [
        {
          "output_type": "stream",
          "name": "stdout",
          "text": [
            "Train Data Shape: (5881, 562)\n",
            "Test Data Shape: (1471, 562)\n",
            "Features Data Shape: (561, 4)\n"
          ]
        }
      ],
      "source": [
        "# 주어진 데이터 셋을 불러오세요.(3개)\n",
        "\n",
        "path = '/content/drive/MyDrive/AIVLE/AI_미니프로젝트 1차_실습자료/'\n",
        "data01_train = pd.read_csv(path + 'data01_train.csv')\n",
        "data01_test = pd.read_csv(path + 'data01_test.csv')\n",
        "features = pd.read_csv(path + 'features.csv')\n",
        "\n",
        "# 'subject' 칼럼 삭제\n",
        "data01_train.drop(columns=['subject'], inplace=True)\n",
        "data01_test.drop(columns=['subject'], inplace=True)\n",
        "\n",
        "# 결과 확인\n",
        "print(\"Train Data Shape:\", data01_train.shape)\n",
        "print(\"Test Data Shape:\", data01_test.shape)\n",
        "print(\"Features Data Shape:\", features.shape)"
      ]
    },
    {
      "cell_type": "markdown",
      "metadata": {
        "id": "aI7qJqz3pr3m"
      },
      "source": [
        "#### 2) 기본 정보 조회"
      ]
    },
    {
      "cell_type": "code",
      "execution_count": null,
      "metadata": {
        "id": "yFVSAGNhpr3m",
        "colab": {
          "base_uri": "https://localhost:8080/"
        },
        "outputId": "56460880-c38b-471b-f2d5-9ae6d1520f14"
      },
      "outputs": [
        {
          "output_type": "stream",
          "name": "stdout",
          "text": [
            "\n",
            "Train Data Shape: (5881, 562)\n",
            "Test Data Shape: (1471, 562)\n",
            "Features Data Shape: (561, 4)\n"
          ]
        }
      ],
      "source": [
        "#전체 데이터의 행,열 개수 확인\n",
        "print(\"\\nTrain Data Shape:\", data01_train.shape)\n",
        "print(\"Test Data Shape:\", data01_test.shape)\n",
        "print(\"Features Data Shape:\", features.shape)"
      ]
    },
    {
      "cell_type": "code",
      "execution_count": null,
      "metadata": {
        "id": "xJnnr8K-pr3m",
        "colab": {
          "base_uri": "https://localhost:8080/"
        },
        "outputId": "8387d89d-9787-46b5-c912-160a6f1a5869"
      },
      "outputs": [
        {
          "output_type": "stream",
          "name": "stdout",
          "text": [
            "\n",
            "Train Data Head:\n",
            "   tBodyAcc-mean()-X  tBodyAcc-mean()-Y  tBodyAcc-mean()-Z  tBodyAcc-std()-X  \\\n",
            "0           0.288508          -0.009196          -0.103362         -0.988986   \n",
            "1           0.265757          -0.016576          -0.098163         -0.989551   \n",
            "2           0.278709          -0.014511          -0.108717         -0.997720   \n",
            "3           0.289795          -0.035536          -0.150354         -0.231727   \n",
            "4           0.394807           0.034098           0.091229          0.088489   \n",
            "\n",
            "   tBodyAcc-std()-Y  tBodyAcc-std()-Z  tBodyAcc-mad()-X  tBodyAcc-mad()-Y  \\\n",
            "0         -0.962797         -0.967422         -0.989000         -0.962596   \n",
            "1         -0.994636         -0.987435         -0.990189         -0.993870   \n",
            "2         -0.981088         -0.994008         -0.997934         -0.982187   \n",
            "3         -0.006412         -0.338117         -0.273557          0.014245   \n",
            "4         -0.106636         -0.388502         -0.010469         -0.109680   \n",
            "\n",
            "   tBodyAcc-mad()-Z  tBodyAcc-max()-X  ...  fBodyBodyGyroJerkMag-skewness()  \\\n",
            "0         -0.965650         -0.929747  ...                        -0.487737   \n",
            "1         -0.987558         -0.937337  ...                        -0.237820   \n",
            "2         -0.995017         -0.942584  ...                        -0.535287   \n",
            "3         -0.347916          0.008288  ...                        -0.004012   \n",
            "4         -0.346372          0.584131  ...                        -0.157832   \n",
            "\n",
            "   fBodyBodyGyroJerkMag-kurtosis()  angle(tBodyAccMean,gravity)  \\\n",
            "0                        -0.816696                    -0.042494   \n",
            "1                        -0.693515                    -0.062899   \n",
            "2                        -0.829311                     0.000265   \n",
            "3                        -0.408956                    -0.255125   \n",
            "4                        -0.563437                    -0.044344   \n",
            "\n",
            "   angle(tBodyAccJerkMean),gravityMean)  angle(tBodyGyroMean,gravityMean)  \\\n",
            "0                             -0.044218                          0.307873   \n",
            "1                              0.388459                         -0.765014   \n",
            "2                             -0.525022                         -0.891875   \n",
            "3                              0.612804                          0.747381   \n",
            "4                             -0.845268                         -0.974650   \n",
            "\n",
            "   angle(tBodyGyroJerkMean,gravityMean)  angle(X,gravityMean)  \\\n",
            "0                              0.072790             -0.601120   \n",
            "1                              0.771524              0.345205   \n",
            "2                              0.021528             -0.833564   \n",
            "3                             -0.072944             -0.695819   \n",
            "4                             -0.887846             -0.705029   \n",
            "\n",
            "   angle(Y,gravityMean)  angle(Z,gravityMean)            Activity  \n",
            "0              0.331298              0.165163            STANDING  \n",
            "1             -0.769186             -0.147944              LAYING  \n",
            "2              0.202434             -0.032755            STANDING  \n",
            "3              0.287154              0.111388             WALKING  \n",
            "4              0.264952              0.137758  WALKING_DOWNSTAIRS  \n",
            "\n",
            "[5 rows x 562 columns]\n",
            "\n",
            "Test Data Head:\n",
            "   tBodyAcc-mean()-X  tBodyAcc-mean()-Y  tBodyAcc-mean()-Z  tBodyAcc-std()-X  \\\n",
            "0           0.284379          -0.021981          -0.116683         -0.992490   \n",
            "1           0.277440          -0.028086          -0.118412         -0.996620   \n",
            "2           0.305833          -0.041023          -0.087303          0.006880   \n",
            "3           0.276053          -0.016487          -0.108381         -0.995379   \n",
            "4           0.271998           0.016904          -0.078856         -0.973468   \n",
            "\n",
            "   tBodyAcc-std()-Y  tBodyAcc-std()-Z  tBodyAcc-mad()-X  tBodyAcc-mad()-Y  \\\n",
            "0         -0.979640         -0.963321         -0.992563         -0.977304   \n",
            "1         -0.927676         -0.972294         -0.997346         -0.931405   \n",
            "2          0.182800         -0.237984          0.005642          0.028616   \n",
            "3         -0.983978         -0.975854         -0.995877         -0.985280   \n",
            "4         -0.702462         -0.869450         -0.979810         -0.711601   \n",
            "\n",
            "   tBodyAcc-mad()-Z  tBodyAcc-max()-X  ...  fBodyBodyGyroJerkMag-skewness()  \\\n",
            "0         -0.958142         -0.938850  ...                        -0.509523   \n",
            "1         -0.971788         -0.939837  ...                        -0.210792   \n",
            "2         -0.236474          0.016311  ...                         0.579587   \n",
            "3         -0.974907         -0.941425  ...                        -0.566291   \n",
            "4         -0.856807         -0.920760  ...                         0.447577   \n",
            "\n",
            "   fBodyBodyGyroJerkMag-kurtosis()  angle(tBodyAccMean,gravity)  \\\n",
            "0                        -0.850065                    -0.018043   \n",
            "1                        -0.613367                    -0.022456   \n",
            "2                         0.394388                    -0.362616   \n",
            "3                        -0.841455                     0.289548   \n",
            "4                         0.214219                     0.010111   \n",
            "\n",
            "   angle(tBodyAccJerkMean),gravityMean)  angle(tBodyGyroMean,gravityMean)  \\\n",
            "0                              0.092304                          0.074220   \n",
            "1                             -0.155414                          0.247498   \n",
            "2                              0.171069                          0.576349   \n",
            "3                              0.079801                         -0.020033   \n",
            "4                              0.114179                         -0.830776   \n",
            "\n",
            "   angle(tBodyGyroJerkMean,gravityMean)  angle(X,gravityMean)  \\\n",
            "0                             -0.714534             -0.671943   \n",
            "1                             -0.112257             -0.826816   \n",
            "2                             -0.688314             -0.743234   \n",
            "3                              0.291898             -0.639435   \n",
            "4                             -0.325098             -0.840817   \n",
            "\n",
            "   angle(Y,gravityMean)  angle(Z,gravityMean)  Activity  \n",
            "0             -0.018351             -0.185733   SITTING  \n",
            "1              0.184489             -0.068699  STANDING  \n",
            "2              0.272186              0.053101   WALKING  \n",
            "3             -0.111998             -0.123298   SITTING  \n",
            "4              0.116237             -0.096615  STANDING  \n",
            "\n",
            "[5 rows x 562 columns]\n",
            "\n",
            "Features Data Head:\n",
            "     sensor     agg axis       feature_name\n",
            "0  tBodyAcc  mean()    X  tBodyAcc-mean()-X\n",
            "1  tBodyAcc  mean()    Y  tBodyAcc-mean()-Y\n",
            "2  tBodyAcc  mean()    Z  tBodyAcc-mean()-Z\n",
            "3  tBodyAcc   std()    X   tBodyAcc-std()-X\n",
            "4  tBodyAcc   std()    Y   tBodyAcc-std()-Y\n"
          ]
        }
      ],
      "source": [
        "#전체 데이터의 상위 5개 행 확인\n",
        "print(\"\\nTrain Data Head:\")\n",
        "print(data01_train.head())\n",
        "\n",
        "print(\"\\nTest Data Head:\")\n",
        "print(data01_test.head())\n",
        "\n",
        "print(\"\\nFeatures Data Head:\")\n",
        "print(features.head())"
      ]
    },
    {
      "cell_type": "code",
      "execution_count": null,
      "metadata": {
        "id": "ajJ1qJkhpr3n",
        "colab": {
          "base_uri": "https://localhost:8080/"
        },
        "outputId": "df2d0c2d-29a4-468c-a7e4-590f902fd027"
      },
      "outputs": [
        {
          "output_type": "stream",
          "name": "stdout",
          "text": [
            "\n",
            "Train Data Description:\n",
            "       tBodyAcc-mean()-X  tBodyAcc-mean()-Y  tBodyAcc-mean()-Z  \\\n",
            "count        5881.000000        5881.000000        5881.000000   \n",
            "mean            0.274811          -0.017799          -0.109396   \n",
            "std             0.067614           0.039422           0.058373   \n",
            "min            -0.503823          -0.684893          -1.000000   \n",
            "25%             0.262919          -0.024877          -0.121051   \n",
            "50%             0.277154          -0.017221          -0.108781   \n",
            "75%             0.288526          -0.010920          -0.098163   \n",
            "max             1.000000           1.000000           1.000000   \n",
            "\n",
            "       tBodyAcc-std()-X  tBodyAcc-std()-Y  tBodyAcc-std()-Z  tBodyAcc-mad()-X  \\\n",
            "count       5881.000000       5881.000000       5881.000000       5881.000000   \n",
            "mean          -0.603138         -0.509815         -0.604058         -0.628151   \n",
            "std            0.448807          0.501815          0.417319          0.424345   \n",
            "min           -1.000000         -0.999844         -0.999667         -1.000000   \n",
            "25%           -0.992774         -0.977680         -0.980127         -0.993602   \n",
            "50%           -0.943933         -0.844575         -0.856352         -0.948501   \n",
            "75%           -0.242130         -0.034499         -0.262690         -0.291138   \n",
            "max            1.000000          0.916238          1.000000          1.000000   \n",
            "\n",
            "       tBodyAcc-mad()-Y  tBodyAcc-mad()-Z  tBodyAcc-max()-X  ...  \\\n",
            "count       5881.000000       5881.000000       5881.000000  ...   \n",
            "mean          -0.525944         -0.605374         -0.465490  ...   \n",
            "std            0.485115          0.413043          0.544995  ...   \n",
            "min           -0.999419         -1.000000         -1.000000  ...   \n",
            "25%           -0.977865         -0.980112         -0.936067  ...   \n",
            "50%           -0.849266         -0.849896         -0.878729  ...   \n",
            "75%           -0.068857         -0.268539         -0.013690  ...   \n",
            "max            0.967664          1.000000          1.000000  ...   \n",
            "\n",
            "       fBodyBodyGyroJerkMag-meanFreq()  fBodyBodyGyroJerkMag-skewness()  \\\n",
            "count                      5881.000000                      5881.000000   \n",
            "mean                          0.126955                        -0.305883   \n",
            "std                           0.249176                         0.322808   \n",
            "min                          -0.965725                        -0.979261   \n",
            "25%                          -0.021610                        -0.541969   \n",
            "50%                           0.133887                        -0.342923   \n",
            "75%                           0.288944                        -0.127371   \n",
            "max                           0.946700                         0.989538   \n",
            "\n",
            "       fBodyBodyGyroJerkMag-kurtosis()  angle(tBodyAccMean,gravity)  \\\n",
            "count                      5881.000000                  5881.000000   \n",
            "mean                         -0.623548                     0.008524   \n",
            "std                           0.310371                     0.339730   \n",
            "min                          -0.999765                    -0.976580   \n",
            "25%                          -0.845985                    -0.122361   \n",
            "50%                          -0.712677                     0.010278   \n",
            "75%                          -0.501158                     0.154985   \n",
            "max                           0.956845                     1.000000   \n",
            "\n",
            "       angle(tBodyAccJerkMean),gravityMean)  angle(tBodyGyroMean,gravityMean)  \\\n",
            "count                           5881.000000                       5881.000000   \n",
            "mean                              -0.001185                          0.009340   \n",
            "std                                0.447197                          0.608190   \n",
            "min                               -1.000000                         -1.000000   \n",
            "25%                               -0.294369                         -0.481718   \n",
            "50%                                0.005146                          0.011448   \n",
            "75%                                0.285030                          0.499857   \n",
            "max                                1.000000                          0.998702   \n",
            "\n",
            "       angle(tBodyGyroJerkMean,gravityMean)  angle(X,gravityMean)  \\\n",
            "count                           5881.000000           5881.000000   \n",
            "mean                              -0.007099             -0.491501   \n",
            "std                                0.476738              0.509069   \n",
            "min                               -1.000000             -1.000000   \n",
            "25%                               -0.373345             -0.811397   \n",
            "50%                               -0.000847             -0.709441   \n",
            "75%                                0.356236             -0.511330   \n",
            "max                                0.996078              0.977344   \n",
            "\n",
            "       angle(Y,gravityMean)  angle(Z,gravityMean)  \n",
            "count           5881.000000           5881.000000  \n",
            "mean               0.059299             -0.054594  \n",
            "std                0.297340              0.278479  \n",
            "min               -1.000000             -0.980143  \n",
            "25%               -0.018203             -0.141555  \n",
            "50%                0.182893              0.003951  \n",
            "75%                0.248435              0.111932  \n",
            "max                0.478157              1.000000  \n",
            "\n",
            "[8 rows x 561 columns]\n",
            "\n",
            "Test Data Description:\n",
            "       tBodyAcc-mean()-X  tBodyAcc-mean()-Y  tBodyAcc-mean()-Z  \\\n",
            "count        1471.000000        1471.000000        1471.000000   \n",
            "mean            0.273198          -0.017281          -0.108123   \n",
            "std             0.079989           0.045957           0.049082   \n",
            "min            -1.000000          -1.000000          -0.418354   \n",
            "25%             0.263787          -0.024792          -0.120733   \n",
            "50%             0.277322          -0.017187          -0.108124   \n",
            "75%             0.288058          -0.010238          -0.096606   \n",
            "max             0.631510           0.359587           0.543939   \n",
            "\n",
            "       tBodyAcc-std()-X  tBodyAcc-std()-Y  tBodyAcc-std()-Z  tBodyAcc-mad()-X  \\\n",
            "count       1471.000000       1471.000000       1471.000000       1471.000000   \n",
            "mean          -0.614634         -0.515427         -0.607533         -0.639950   \n",
            "std            0.448480          0.506094          0.424243          0.422994   \n",
            "min           -0.999717         -0.999873         -1.000000         -0.999867   \n",
            "25%           -0.992669         -0.979082         -0.981070         -0.993498   \n",
            "50%           -0.952426         -0.867309         -0.869890         -0.958705   \n",
            "75%           -0.245405         -0.030639         -0.260223         -0.297260   \n",
            "max            0.899922          0.782590          0.931308          0.950758   \n",
            "\n",
            "       tBodyAcc-mad()-Y  tBodyAcc-mad()-Z  tBodyAcc-max()-X  ...  \\\n",
            "count       1471.000000       1471.000000       1471.000000  ...   \n",
            "mean          -0.530760         -0.609256         -0.481055  ...   \n",
            "std            0.489381          0.418536          0.542756  ...   \n",
            "min           -1.000000         -0.999879         -0.948723  ...   \n",
            "25%           -0.979214         -0.980659         -0.936791  ...   \n",
            "50%           -0.873891         -0.863451         -0.890491  ...   \n",
            "75%           -0.058824         -0.256657         -0.030692  ...   \n",
            "max            0.602458          0.784041          0.821218  ...   \n",
            "\n",
            "       fBodyBodyGyroJerkMag-meanFreq()  fBodyBodyGyroJerkMag-skewness()  \\\n",
            "count                      1471.000000                      1471.000000   \n",
            "mean                          0.118651                        -0.311513   \n",
            "std                           0.258112                         0.313792   \n",
            "min                          -1.000000                        -0.995357   \n",
            "25%                          -0.035193                        -0.546342   \n",
            "50%                           0.135282                        -0.347433   \n",
            "75%                           0.289832                        -0.125796   \n",
            "max                           0.860512                         0.941113   \n",
            "\n",
            "       fBodyBodyGyroJerkMag-kurtosis()  angle(tBodyAccMean,gravity)  \\\n",
            "count                      1471.000000                  1471.000000   \n",
            "mean                         -0.632273                     0.009324   \n",
            "std                           0.296179                     0.324864   \n",
            "min                          -0.994664                    -0.937468   \n",
            "25%                          -0.844547                    -0.119166   \n",
            "50%                          -0.706699                     0.005049   \n",
            "75%                          -0.516910                     0.135698   \n",
            "max                           0.894210                     0.980889   \n",
            "\n",
            "       angle(tBodyAccJerkMean),gravityMean)  angle(tBodyGyroMean,gravityMean)  \\\n",
            "count                           1471.000000                       1471.000000   \n",
            "mean                               0.015666                          0.006272   \n",
            "std                                0.452616                          0.608954   \n",
            "min                               -0.990492                         -0.995222   \n",
            "25%                               -0.265533                         -0.485998   \n",
            "50%                                0.023421                         -0.005036   \n",
            "75%                                0.312690                          0.518184   \n",
            "max                                0.991899                          0.994366   \n",
            "\n",
            "       angle(tBodyGyroJerkMean,gravityMean)  angle(X,gravityMean)  \\\n",
            "count                           1471.000000           1471.000000   \n",
            "mean                              -0.001510             -0.481737   \n",
            "std                                0.483028              0.522714   \n",
            "min                               -0.969066             -0.999380   \n",
            "25%                               -0.380300             -0.814060   \n",
            "50%                                0.002408             -0.708911   \n",
            "75%                                0.374583             -0.486534   \n",
            "max                                0.979522              1.000000   \n",
            "\n",
            "       angle(Y,gravityMean)  angle(Z,gravityMean)  \n",
            "count           1471.000000           1471.000000  \n",
            "mean               0.055771             -0.064194  \n",
            "std                0.298124              0.281645  \n",
            "min               -0.995073             -1.000000  \n",
            "25%               -0.017413             -0.148445  \n",
            "50%                0.178814             -0.002243  \n",
            "75%                0.248126              0.096674  \n",
            "max                0.432496              0.992766  \n",
            "\n",
            "[8 rows x 561 columns]\n"
          ]
        }
      ],
      "source": [
        "#전체 데이터의 수치형 변수 분포 확인\n",
        "print(\"\\nTrain Data Description:\")\n",
        "print(data01_train.describe())\n",
        "\n",
        "print(\"\\nTest Data Description:\")\n",
        "print(data01_test.describe())"
      ]
    },
    {
      "cell_type": "code",
      "execution_count": null,
      "metadata": {
        "id": "Jn78I6JFpr3n",
        "colab": {
          "base_uri": "https://localhost:8080/"
        },
        "outputId": "def0399b-8399-4eb9-924c-655ef217f332"
      },
      "outputs": [
        {
          "output_type": "stream",
          "name": "stdout",
          "text": [
            "\n",
            "Train Data Columns:\n",
            "Index(['tBodyAcc-mean()-X', 'tBodyAcc-mean()-Y', 'tBodyAcc-mean()-Z',\n",
            "       'tBodyAcc-std()-X', 'tBodyAcc-std()-Y', 'tBodyAcc-std()-Z',\n",
            "       'tBodyAcc-mad()-X', 'tBodyAcc-mad()-Y', 'tBodyAcc-mad()-Z',\n",
            "       'tBodyAcc-max()-X',\n",
            "       ...\n",
            "       'fBodyBodyGyroJerkMag-skewness()', 'fBodyBodyGyroJerkMag-kurtosis()',\n",
            "       'angle(tBodyAccMean,gravity)', 'angle(tBodyAccJerkMean),gravityMean)',\n",
            "       'angle(tBodyGyroMean,gravityMean)',\n",
            "       'angle(tBodyGyroJerkMean,gravityMean)', 'angle(X,gravityMean)',\n",
            "       'angle(Y,gravityMean)', 'angle(Z,gravityMean)', 'Activity'],\n",
            "      dtype='object', length=562)\n",
            "\n",
            "Test Data Columns:\n",
            "Index(['tBodyAcc-mean()-X', 'tBodyAcc-mean()-Y', 'tBodyAcc-mean()-Z',\n",
            "       'tBodyAcc-std()-X', 'tBodyAcc-std()-Y', 'tBodyAcc-std()-Z',\n",
            "       'tBodyAcc-mad()-X', 'tBodyAcc-mad()-Y', 'tBodyAcc-mad()-Z',\n",
            "       'tBodyAcc-max()-X',\n",
            "       ...\n",
            "       'fBodyBodyGyroJerkMag-skewness()', 'fBodyBodyGyroJerkMag-kurtosis()',\n",
            "       'angle(tBodyAccMean,gravity)', 'angle(tBodyAccJerkMean),gravityMean)',\n",
            "       'angle(tBodyGyroMean,gravityMean)',\n",
            "       'angle(tBodyGyroJerkMean,gravityMean)', 'angle(X,gravityMean)',\n",
            "       'angle(Y,gravityMean)', 'angle(Z,gravityMean)', 'Activity'],\n",
            "      dtype='object', length=562)\n",
            "\n",
            "Features Data Columns:\n",
            "Index(['sensor', 'agg', 'axis', 'feature_name'], dtype='object')\n"
          ]
        }
      ],
      "source": [
        "#전체 데이터의 모든 변수 확인\n",
        "print(\"\\nTrain Data Columns:\")\n",
        "print(data01_train.columns)\n",
        "\n",
        "print(\"\\nTest Data Columns:\")\n",
        "print(data01_test.columns)\n",
        "\n",
        "print(\"\\nFeatures Data Columns:\")\n",
        "print(features.columns)"
      ]
    },
    {
      "cell_type": "markdown",
      "metadata": {
        "id": "O38e5xai7SIW"
      },
      "source": [
        "## 2.데이터 전처리"
      ]
    },
    {
      "cell_type": "markdown",
      "metadata": {
        "id": "5vKH3MU30d8H"
      },
      "source": [
        "* 세부 요구사항\n",
        "    - Label 추가 : 1단계 모델을 위한 레이블 추가\n",
        "    - train : val = 8 : 2 혹은 7 : 3\n",
        "    - random_state 옵션을 사용하여 다른 모델과 비교를 위해 성능이 재현되도록 합니다."
      ]
    },
    {
      "cell_type": "markdown",
      "metadata": {
        "id": "wHxeKHxze2uL"
      },
      "source": [
        "### (1) 1단계 모델링을 위한 레이블"
      ]
    },
    {
      "cell_type": "code",
      "execution_count": null,
      "metadata": {
        "id": "bT3ScKtUe76_",
        "colab": {
          "base_uri": "https://localhost:8080/"
        },
        "outputId": "01b79c93-1dae-4c12-f48c-5418f533ce61"
      },
      "outputs": [
        {
          "output_type": "stream",
          "name": "stdout",
          "text": [
            "             Activity  is_dynamic\n",
            "0            STANDING           0\n",
            "1              LAYING           0\n",
            "2            STANDING           0\n",
            "3             WALKING           1\n",
            "4  WALKING_DOWNSTAIRS           1\n"
          ]
        }
      ],
      "source": [
        "#Lable 추가(1단계 모델:정적(0), 동적(1) 행동 분류 모델 생성 )\n",
        "\n",
        "# 정적 행동과 동적 행동 정의\n",
        "static_actions = ['STANDING', 'SITTING', 'LAYING']\n",
        "dynamic_actions = ['WALKING', 'WALKING_UPSTAIRS', 'WALKING_DOWNSTAIRS']\n",
        "\n",
        "# is_dynamic 레이블 추가\n",
        "data01_train['is_dynamic'] = data01_train['Activity'].apply(lambda x: 1 if x in dynamic_actions else 0)\n",
        "data01_test['is_dynamic'] = data01_test['Activity'].apply(lambda x: 1 if x in dynamic_actions else 0)\n",
        "\n",
        "# 결과 확인\n",
        "print(data01_train[['Activity', 'is_dynamic']].head())"
      ]
    },
    {
      "cell_type": "markdown",
      "metadata": {
        "id": "uAsBmDupKQX8"
      },
      "source": [
        "### (2) x, y 분리"
      ]
    },
    {
      "cell_type": "code",
      "execution_count": null,
      "metadata": {
        "id": "JVOseiQLKMoq",
        "colab": {
          "base_uri": "https://localhost:8080/"
        },
        "outputId": "bfb758b2-052c-4393-83d0-39b1a2cdb0fa"
      },
      "outputs": [
        {
          "output_type": "stream",
          "name": "stdout",
          "text": [
            "Train Features Shape: (5881, 561)\n",
            "Train Target Shape: (5881,)\n",
            "Test Features Shape: (1471, 561)\n",
            "Test Target Shape: (1471,)\n"
          ]
        }
      ],
      "source": [
        "#x,y 분리하기\n",
        "\n",
        "X_train = data01_train.drop(columns=['Activity', 'is_dynamic'])\n",
        "y_train = data01_train['is_dynamic']\n",
        "\n",
        "X_test = data01_test.drop(columns=['Activity', 'is_dynamic'])\n",
        "y_test = data01_test['is_dynamic']\n",
        "\n",
        "# 결과 확인\n",
        "print(\"Train Features Shape:\", X_train.shape)\n",
        "print(\"Train Target Shape:\", y_train.shape)\n",
        "print(\"Test Features Shape:\", X_test.shape)\n",
        "print(\"Test Target Shape:\", y_test.shape)"
      ]
    },
    {
      "cell_type": "markdown",
      "metadata": {
        "id": "A8hxVzM3Agvw"
      },
      "source": [
        "### (3) 스케일링\n"
      ]
    },
    {
      "cell_type": "markdown",
      "metadata": {
        "id": "8OHAQJ9HJZP8"
      },
      "source": [
        "* 세부 요구사항\n",
        "    - 스케일링을 필요로 하는 알고리즘 사용을 위해서 코드 수행\n",
        "    - min-max 방식 혹은 standard 방식 중 한가지 사용."
      ]
    },
    {
      "cell_type": "code",
      "execution_count": null,
      "metadata": {
        "id": "egLANGC5BMmk",
        "colab": {
          "base_uri": "https://localhost:8080/"
        },
        "outputId": "df2911d7-b10e-4449-ee83-9e2128a2e748"
      },
      "outputs": [
        {
          "output_type": "stream",
          "name": "stdout",
          "text": [
            "Scaled Train Features Shape: (5881, 561)\n",
            "Scaled Test Features Shape: (1471, 561)\n"
          ]
        }
      ],
      "source": [
        "#스케일링 방식을 선택해서 스케일링을 진행합니다.\n",
        "from sklearn.preprocessing import StandardScaler\n",
        "scaler = StandardScaler()\n",
        "X_train_scaled = scaler.fit_transform(X_train)\n",
        "X_test_scaled = scaler.transform(X_test)\n",
        "\n",
        "# 결과 확인\n",
        "print(\"Scaled Train Features Shape:\", X_train_scaled.shape)\n",
        "print(\"Scaled Test Features Shape:\", X_test_scaled.shape)"
      ]
    },
    {
      "cell_type": "markdown",
      "metadata": {
        "id": "TH_rqRv6jA9V"
      },
      "source": [
        "### (4) 데이터 분할\n",
        "* train, val 분할"
      ]
    },
    {
      "cell_type": "code",
      "execution_count": null,
      "metadata": {
        "id": "EATFZQZpx5yR",
        "colab": {
          "base_uri": "https://localhost:8080/"
        },
        "outputId": "2ce65f7b-958e-4448-85b1-250f3544db23"
      },
      "outputs": [
        {
          "output_type": "stream",
          "name": "stdout",
          "text": [
            "Final Train Features Shape: (4704, 561)\n",
            "Validation Features Shape: (1177, 561)\n",
            "Final Train Target Shape: (4704,)\n",
            "Validation Target Shape: (1177,)\n"
          ]
        }
      ],
      "source": [
        "#데이터 분할 진행(train:val = 8:2 혹은 7:3 권장)\n",
        "from sklearn.model_selection import train_test_split\n",
        "\n",
        "# Train-validation 분할 (train:val = 8:2)\n",
        "X_train_final, X_val, y_train_final, y_val = train_test_split(X_train_scaled, y_train, test_size=0.2, random_state=42)\n",
        "\n",
        "# 결과 확인\n",
        "print(\"Final Train Features Shape:\", X_train_final.shape)\n",
        "print(\"Validation Features Shape:\", X_val.shape)\n",
        "print(\"Final Train Target Shape:\", y_train_final.shape)\n",
        "print(\"Validation Target Shape:\", y_val.shape)"
      ]
    },
    {
      "cell_type": "markdown",
      "metadata": {
        "id": "bue7ZTLABQzi"
      },
      "source": [
        "## **3.단계별 모델링**"
      ]
    },
    {
      "cell_type": "markdown",
      "metadata": {
        "id": "fCpsgFz40pJ3"
      },
      "source": [
        "### (1) 단계1"
      ]
    },
    {
      "cell_type": "markdown",
      "metadata": {
        "id": "JtwoYR2e0pJ3"
      },
      "source": [
        "* 세부 요구사항\n",
        "    * 적절한 단계로 구분한 후, 1단계를 분류하는 모델 생성\n",
        "        * 예시 : 정적 행동(Laying, Sitting, Standing)과 동적 행동(동적 : Walking, Walking-Up, Walking-Down)을 구분하는 모델 생성.\n",
        "    * 몇 가지 모델을 만들고 가장 성능이 좋은 모델을 선정하시오.(기본 모델링 참고)"
      ]
    },
    {
      "cell_type": "markdown",
      "metadata": {
        "id": "cWYtB_nUD6zu"
      },
      "source": [
        "#### 1) 모델1"
      ]
    },
    {
      "cell_type": "code",
      "execution_count": null,
      "metadata": {
        "id": "6lV2HRaPf4k8",
        "colab": {
          "base_uri": "https://localhost:8080/",
          "height": 397
        },
        "outputId": "01c3ea59-9351-49a4-a0b5-66804242162d"
      },
      "outputs": [
        {
          "output_type": "stream",
          "name": "stderr",
          "text": [
            "/usr/local/lib/python3.11/dist-packages/keras/src/layers/core/dense.py:87: UserWarning: Do not pass an `input_shape`/`input_dim` argument to a layer. When using Sequential models, prefer using an `Input(shape)` object as the first layer in the model instead.\n",
            "  super().__init__(activity_regularizer=activity_regularizer, **kwargs)\n"
          ]
        },
        {
          "output_type": "display_data",
          "data": {
            "text/plain": [
              "\u001b[1mModel: \"sequential\"\u001b[0m\n"
            ],
            "text/html": [
              "<pre style=\"white-space:pre;overflow-x:auto;line-height:normal;font-family:Menlo,'DejaVu Sans Mono',consolas,'Courier New',monospace\"><span style=\"font-weight: bold\">Model: \"sequential\"</span>\n",
              "</pre>\n"
            ]
          },
          "metadata": {}
        },
        {
          "output_type": "display_data",
          "data": {
            "text/plain": [
              "┏━━━━━━━━━━━━━━━━━━━━━━━━━━━━━━━━━┳━━━━━━━━━━━━━━━━━━━━━━━━┳━━━━━━━━━━━━━━━┓\n",
              "┃\u001b[1m \u001b[0m\u001b[1mLayer (type)                   \u001b[0m\u001b[1m \u001b[0m┃\u001b[1m \u001b[0m\u001b[1mOutput Shape          \u001b[0m\u001b[1m \u001b[0m┃\u001b[1m \u001b[0m\u001b[1m      Param #\u001b[0m\u001b[1m \u001b[0m┃\n",
              "┡━━━━━━━━━━━━━━━━━━━━━━━━━━━━━━━━━╇━━━━━━━━━━━━━━━━━━━━━━━━╇━━━━━━━━━━━━━━━┩\n",
              "│ dense (\u001b[38;5;33mDense\u001b[0m)                   │ (\u001b[38;5;45mNone\u001b[0m, \u001b[38;5;34m128\u001b[0m)            │        \u001b[38;5;34m71,936\u001b[0m │\n",
              "├─────────────────────────────────┼────────────────────────┼───────────────┤\n",
              "│ dropout (\u001b[38;5;33mDropout\u001b[0m)               │ (\u001b[38;5;45mNone\u001b[0m, \u001b[38;5;34m128\u001b[0m)            │             \u001b[38;5;34m0\u001b[0m │\n",
              "├─────────────────────────────────┼────────────────────────┼───────────────┤\n",
              "│ dense_1 (\u001b[38;5;33mDense\u001b[0m)                 │ (\u001b[38;5;45mNone\u001b[0m, \u001b[38;5;34m64\u001b[0m)             │         \u001b[38;5;34m8,256\u001b[0m │\n",
              "├─────────────────────────────────┼────────────────────────┼───────────────┤\n",
              "│ dense_2 (\u001b[38;5;33mDense\u001b[0m)                 │ (\u001b[38;5;45mNone\u001b[0m, \u001b[38;5;34m32\u001b[0m)             │         \u001b[38;5;34m2,080\u001b[0m │\n",
              "├─────────────────────────────────┼────────────────────────┼───────────────┤\n",
              "│ dense_3 (\u001b[38;5;33mDense\u001b[0m)                 │ (\u001b[38;5;45mNone\u001b[0m, \u001b[38;5;34m16\u001b[0m)             │           \u001b[38;5;34m528\u001b[0m │\n",
              "├─────────────────────────────────┼────────────────────────┼───────────────┤\n",
              "│ dense_4 (\u001b[38;5;33mDense\u001b[0m)                 │ (\u001b[38;5;45mNone\u001b[0m, \u001b[38;5;34m1\u001b[0m)              │            \u001b[38;5;34m17\u001b[0m │\n",
              "└─────────────────────────────────┴────────────────────────┴───────────────┘\n"
            ],
            "text/html": [
              "<pre style=\"white-space:pre;overflow-x:auto;line-height:normal;font-family:Menlo,'DejaVu Sans Mono',consolas,'Courier New',monospace\">┏━━━━━━━━━━━━━━━━━━━━━━━━━━━━━━━━━┳━━━━━━━━━━━━━━━━━━━━━━━━┳━━━━━━━━━━━━━━━┓\n",
              "┃<span style=\"font-weight: bold\"> Layer (type)                    </span>┃<span style=\"font-weight: bold\"> Output Shape           </span>┃<span style=\"font-weight: bold\">       Param # </span>┃\n",
              "┡━━━━━━━━━━━━━━━━━━━━━━━━━━━━━━━━━╇━━━━━━━━━━━━━━━━━━━━━━━━╇━━━━━━━━━━━━━━━┩\n",
              "│ dense (<span style=\"color: #0087ff; text-decoration-color: #0087ff\">Dense</span>)                   │ (<span style=\"color: #00d7ff; text-decoration-color: #00d7ff\">None</span>, <span style=\"color: #00af00; text-decoration-color: #00af00\">128</span>)            │        <span style=\"color: #00af00; text-decoration-color: #00af00\">71,936</span> │\n",
              "├─────────────────────────────────┼────────────────────────┼───────────────┤\n",
              "│ dropout (<span style=\"color: #0087ff; text-decoration-color: #0087ff\">Dropout</span>)               │ (<span style=\"color: #00d7ff; text-decoration-color: #00d7ff\">None</span>, <span style=\"color: #00af00; text-decoration-color: #00af00\">128</span>)            │             <span style=\"color: #00af00; text-decoration-color: #00af00\">0</span> │\n",
              "├─────────────────────────────────┼────────────────────────┼───────────────┤\n",
              "│ dense_1 (<span style=\"color: #0087ff; text-decoration-color: #0087ff\">Dense</span>)                 │ (<span style=\"color: #00d7ff; text-decoration-color: #00d7ff\">None</span>, <span style=\"color: #00af00; text-decoration-color: #00af00\">64</span>)             │         <span style=\"color: #00af00; text-decoration-color: #00af00\">8,256</span> │\n",
              "├─────────────────────────────────┼────────────────────────┼───────────────┤\n",
              "│ dense_2 (<span style=\"color: #0087ff; text-decoration-color: #0087ff\">Dense</span>)                 │ (<span style=\"color: #00d7ff; text-decoration-color: #00d7ff\">None</span>, <span style=\"color: #00af00; text-decoration-color: #00af00\">32</span>)             │         <span style=\"color: #00af00; text-decoration-color: #00af00\">2,080</span> │\n",
              "├─────────────────────────────────┼────────────────────────┼───────────────┤\n",
              "│ dense_3 (<span style=\"color: #0087ff; text-decoration-color: #0087ff\">Dense</span>)                 │ (<span style=\"color: #00d7ff; text-decoration-color: #00d7ff\">None</span>, <span style=\"color: #00af00; text-decoration-color: #00af00\">16</span>)             │           <span style=\"color: #00af00; text-decoration-color: #00af00\">528</span> │\n",
              "├─────────────────────────────────┼────────────────────────┼───────────────┤\n",
              "│ dense_4 (<span style=\"color: #0087ff; text-decoration-color: #0087ff\">Dense</span>)                 │ (<span style=\"color: #00d7ff; text-decoration-color: #00d7ff\">None</span>, <span style=\"color: #00af00; text-decoration-color: #00af00\">1</span>)              │            <span style=\"color: #00af00; text-decoration-color: #00af00\">17</span> │\n",
              "└─────────────────────────────────┴────────────────────────┴───────────────┘\n",
              "</pre>\n"
            ]
          },
          "metadata": {}
        },
        {
          "output_type": "display_data",
          "data": {
            "text/plain": [
              "\u001b[1m Total params: \u001b[0m\u001b[38;5;34m82,817\u001b[0m (323.50 KB)\n"
            ],
            "text/html": [
              "<pre style=\"white-space:pre;overflow-x:auto;line-height:normal;font-family:Menlo,'DejaVu Sans Mono',consolas,'Courier New',monospace\"><span style=\"font-weight: bold\"> Total params: </span><span style=\"color: #00af00; text-decoration-color: #00af00\">82,817</span> (323.50 KB)\n",
              "</pre>\n"
            ]
          },
          "metadata": {}
        },
        {
          "output_type": "display_data",
          "data": {
            "text/plain": [
              "\u001b[1m Trainable params: \u001b[0m\u001b[38;5;34m82,817\u001b[0m (323.50 KB)\n"
            ],
            "text/html": [
              "<pre style=\"white-space:pre;overflow-x:auto;line-height:normal;font-family:Menlo,'DejaVu Sans Mono',consolas,'Courier New',monospace\"><span style=\"font-weight: bold\"> Trainable params: </span><span style=\"color: #00af00; text-decoration-color: #00af00\">82,817</span> (323.50 KB)\n",
              "</pre>\n"
            ]
          },
          "metadata": {}
        },
        {
          "output_type": "display_data",
          "data": {
            "text/plain": [
              "\u001b[1m Non-trainable params: \u001b[0m\u001b[38;5;34m0\u001b[0m (0.00 B)\n"
            ],
            "text/html": [
              "<pre style=\"white-space:pre;overflow-x:auto;line-height:normal;font-family:Menlo,'DejaVu Sans Mono',consolas,'Courier New',monospace\"><span style=\"font-weight: bold\"> Non-trainable params: </span><span style=\"color: #00af00; text-decoration-color: #00af00\">0</span> (0.00 B)\n",
              "</pre>\n"
            ]
          },
          "metadata": {}
        },
        {
          "output_type": "stream",
          "name": "stdout",
          "text": [
            "None\n"
          ]
        }
      ],
      "source": [
        "# 모델 설계\n",
        "\n",
        "model1 = Sequential([\n",
        "    Dense(128, activation='relu', input_shape=(X_train_final.shape[1],)),\n",
        "    Dropout(0.3),\n",
        "    Dense(64, activation='relu'),\n",
        "    Dense(32, activation='relu'),   # 추가된 은닉층\n",
        "    Dense(16, activation='relu'),   # 추가된 은닉층\n",
        "    Dense(1, activation='sigmoid')\n",
        "])\n",
        "\n",
        "print(model1.summary())"
      ]
    },
    {
      "cell_type": "code",
      "source": [
        "# 컴파일 및 학습\n",
        "\n",
        "# 컴파일\n",
        "model1.compile(\n",
        "    optimizer=Adam(learning_rate=0.0005),\n",
        "    loss='binary_crossentropy',\n",
        "    metrics=['accuracy']\n",
        ")\n",
        "\n",
        "# 학습 (verbose=1로 설정하여 진행상황 출력)\n",
        "history1 = model1.fit(\n",
        "    X_train_final, y_train_final,\n",
        "    epochs=20,\n",
        "    batch_size=64,\n",
        "    validation_data=(X_val, y_val),\n",
        "    verbose=1\n",
        ")"
      ],
      "metadata": {
        "colab": {
          "base_uri": "https://localhost:8080/"
        },
        "id": "D90U0RkKGiLA",
        "outputId": "6867d88e-b2b2-4e79-d9b8-b142a496defd"
      },
      "execution_count": null,
      "outputs": [
        {
          "output_type": "stream",
          "name": "stdout",
          "text": [
            "Epoch 1/20\n",
            "\u001b[1m74/74\u001b[0m \u001b[32m━━━━━━━━━━━━━━━━━━━━\u001b[0m\u001b[37m\u001b[0m \u001b[1m3s\u001b[0m 8ms/step - accuracy: 0.9318 - loss: 0.1502 - val_accuracy: 0.9983 - val_loss: 0.0035\n",
            "Epoch 2/20\n",
            "\u001b[1m74/74\u001b[0m \u001b[32m━━━━━━━━━━━━━━━━━━━━\u001b[0m\u001b[37m\u001b[0m \u001b[1m0s\u001b[0m 6ms/step - accuracy: 0.9996 - loss: 0.0024 - val_accuracy: 0.9992 - val_loss: 0.0014\n",
            "Epoch 3/20\n",
            "\u001b[1m74/74\u001b[0m \u001b[32m━━━━━━━━━━━━━━━━━━━━\u001b[0m\u001b[37m\u001b[0m \u001b[1m0s\u001b[0m 5ms/step - accuracy: 1.0000 - loss: 8.1389e-04 - val_accuracy: 1.0000 - val_loss: 6.8916e-04\n",
            "Epoch 4/20\n",
            "\u001b[1m74/74\u001b[0m \u001b[32m━━━━━━━━━━━━━━━━━━━━\u001b[0m\u001b[37m\u001b[0m \u001b[1m1s\u001b[0m 6ms/step - accuracy: 1.0000 - loss: 4.5905e-04 - val_accuracy: 1.0000 - val_loss: 2.2534e-04\n",
            "Epoch 5/20\n",
            "\u001b[1m74/74\u001b[0m \u001b[32m━━━━━━━━━━━━━━━━━━━━\u001b[0m\u001b[37m\u001b[0m \u001b[1m0s\u001b[0m 6ms/step - accuracy: 1.0000 - loss: 1.8226e-04 - val_accuracy: 1.0000 - val_loss: 1.5426e-04\n",
            "Epoch 6/20\n",
            "\u001b[1m74/74\u001b[0m \u001b[32m━━━━━━━━━━━━━━━━━━━━\u001b[0m\u001b[37m\u001b[0m \u001b[1m1s\u001b[0m 7ms/step - accuracy: 1.0000 - loss: 1.7158e-04 - val_accuracy: 1.0000 - val_loss: 9.8783e-05\n",
            "Epoch 7/20\n",
            "\u001b[1m74/74\u001b[0m \u001b[32m━━━━━━━━━━━━━━━━━━━━\u001b[0m\u001b[37m\u001b[0m \u001b[1m0s\u001b[0m 6ms/step - accuracy: 1.0000 - loss: 3.1976e-04 - val_accuracy: 1.0000 - val_loss: 1.1573e-04\n",
            "Epoch 8/20\n",
            "\u001b[1m74/74\u001b[0m \u001b[32m━━━━━━━━━━━━━━━━━━━━\u001b[0m\u001b[37m\u001b[0m \u001b[1m1s\u001b[0m 9ms/step - accuracy: 1.0000 - loss: 7.1326e-05 - val_accuracy: 1.0000 - val_loss: 5.8059e-05\n",
            "Epoch 9/20\n",
            "\u001b[1m74/74\u001b[0m \u001b[32m━━━━━━━━━━━━━━━━━━━━\u001b[0m\u001b[37m\u001b[0m \u001b[1m1s\u001b[0m 9ms/step - accuracy: 1.0000 - loss: 4.8744e-05 - val_accuracy: 1.0000 - val_loss: 1.3904e-04\n",
            "Epoch 10/20\n",
            "\u001b[1m74/74\u001b[0m \u001b[32m━━━━━━━━━━━━━━━━━━━━\u001b[0m\u001b[37m\u001b[0m \u001b[1m1s\u001b[0m 9ms/step - accuracy: 1.0000 - loss: 5.1282e-05 - val_accuracy: 1.0000 - val_loss: 9.7979e-05\n",
            "Epoch 11/20\n",
            "\u001b[1m74/74\u001b[0m \u001b[32m━━━━━━━━━━━━━━━━━━━━\u001b[0m\u001b[37m\u001b[0m \u001b[1m1s\u001b[0m 5ms/step - accuracy: 1.0000 - loss: 2.7924e-05 - val_accuracy: 1.0000 - val_loss: 8.2420e-05\n",
            "Epoch 12/20\n",
            "\u001b[1m74/74\u001b[0m \u001b[32m━━━━━━━━━━━━━━━━━━━━\u001b[0m\u001b[37m\u001b[0m \u001b[1m1s\u001b[0m 5ms/step - accuracy: 1.0000 - loss: 3.9760e-05 - val_accuracy: 1.0000 - val_loss: 4.0662e-05\n",
            "Epoch 13/20\n",
            "\u001b[1m74/74\u001b[0m \u001b[32m━━━━━━━━━━━━━━━━━━━━\u001b[0m\u001b[37m\u001b[0m \u001b[1m0s\u001b[0m 5ms/step - accuracy: 1.0000 - loss: 5.2552e-05 - val_accuracy: 1.0000 - val_loss: 4.2251e-05\n",
            "Epoch 14/20\n",
            "\u001b[1m74/74\u001b[0m \u001b[32m━━━━━━━━━━━━━━━━━━━━\u001b[0m\u001b[37m\u001b[0m \u001b[1m0s\u001b[0m 5ms/step - accuracy: 1.0000 - loss: 2.0376e-05 - val_accuracy: 1.0000 - val_loss: 4.5437e-05\n",
            "Epoch 15/20\n",
            "\u001b[1m74/74\u001b[0m \u001b[32m━━━━━━━━━━━━━━━━━━━━\u001b[0m\u001b[37m\u001b[0m \u001b[1m0s\u001b[0m 5ms/step - accuracy: 1.0000 - loss: 1.6222e-05 - val_accuracy: 1.0000 - val_loss: 4.5775e-05\n",
            "Epoch 16/20\n",
            "\u001b[1m74/74\u001b[0m \u001b[32m━━━━━━━━━━━━━━━━━━━━\u001b[0m\u001b[37m\u001b[0m \u001b[1m1s\u001b[0m 5ms/step - accuracy: 1.0000 - loss: 1.0814e-05 - val_accuracy: 1.0000 - val_loss: 4.2389e-05\n",
            "Epoch 17/20\n",
            "\u001b[1m74/74\u001b[0m \u001b[32m━━━━━━━━━━━━━━━━━━━━\u001b[0m\u001b[37m\u001b[0m \u001b[1m0s\u001b[0m 5ms/step - accuracy: 1.0000 - loss: 2.4694e-05 - val_accuracy: 1.0000 - val_loss: 7.0850e-06\n",
            "Epoch 18/20\n",
            "\u001b[1m74/74\u001b[0m \u001b[32m━━━━━━━━━━━━━━━━━━━━\u001b[0m\u001b[37m\u001b[0m \u001b[1m0s\u001b[0m 5ms/step - accuracy: 1.0000 - loss: 2.9077e-05 - val_accuracy: 1.0000 - val_loss: 1.2524e-05\n",
            "Epoch 19/20\n",
            "\u001b[1m74/74\u001b[0m \u001b[32m━━━━━━━━━━━━━━━━━━━━\u001b[0m\u001b[37m\u001b[0m \u001b[1m0s\u001b[0m 5ms/step - accuracy: 1.0000 - loss: 5.6608e-06 - val_accuracy: 1.0000 - val_loss: 1.2219e-05\n",
            "Epoch 20/20\n",
            "\u001b[1m74/74\u001b[0m \u001b[32m━━━━━━━━━━━━━━━━━━━━\u001b[0m\u001b[37m\u001b[0m \u001b[1m1s\u001b[0m 5ms/step - accuracy: 1.0000 - loss: 4.1378e-06 - val_accuracy: 1.0000 - val_loss: 9.7025e-06\n"
          ]
        }
      ]
    },
    {
      "cell_type": "code",
      "execution_count": null,
      "metadata": {
        "id": "vmBi9eq40rnu",
        "colab": {
          "base_uri": "https://localhost:8080/",
          "height": 507
        },
        "outputId": "64a8a34d-4e94-4644-852d-c57c832aa500"
      },
      "outputs": [
        {
          "output_type": "display_data",
          "data": {
            "text/plain": [
              "<Figure size 1200x500 with 1 Axes>"
            ],
            "image/png": "[encoded data removed]"
          },
          "metadata": {}
        }
      ],
      "source": [
        "# 학습곡선\n",
        "plt.figure(figsize=(12, 5))\n",
        "plt.subplot(1, 2, 2)\n",
        "plt.plot(history1.history['loss'], label='Train Loss')\n",
        "plt.plot(history1.history['val_loss'], label='Validation Loss')\n",
        "plt.title('Model Loss')\n",
        "plt.xlabel('Epoch')\n",
        "plt.ylabel('Loss')\n",
        "plt.legend()\n",
        "plt.grid(True)\n",
        "plt.tight_layout()\n",
        "plt.show()"
      ]
    },
    {
      "cell_type": "code",
      "execution_count": null,
      "metadata": {
        "id": "WdJn2naz1Cti",
        "colab": {
          "base_uri": "https://localhost:8080/",
          "height": 882
        },
        "outputId": "94dfa5b9-fc9d-4c85-d723-3c1cd4a434ea"
      },
      "outputs": [
        {
          "output_type": "stream",
          "name": "stdout",
          "text": [
            "\n",
            "✅ Validation Loss: 0.0000\n",
            "✅ Validation Accuracy: 1.0000\n",
            "\u001b[1m46/46\u001b[0m \u001b[32m━━━━━━━━━━━━━━━━━━━━\u001b[0m\u001b[37m\u001b[0m \u001b[1m0s\u001b[0m 3ms/step\n",
            "\n",
            "✅ Test Accuracy: 1.0000\n",
            "\n",
            " Classification Report:\n",
            "              precision    recall  f1-score   support\n",
            "\n",
            "           0       1.00      1.00      1.00       833\n",
            "           1       1.00      1.00      1.00       638\n",
            "\n",
            "    accuracy                           1.00      1471\n",
            "   macro avg       1.00      1.00      1.00      1471\n",
            "weighted avg       1.00      1.00      1.00      1471\n",
            "\n"
          ]
        },
        {
          "output_type": "display_data",
          "data": {
            "text/plain": [
              "<Figure size 800x600 with 2 Axes>"
            ],
            "image/png": "[encoded data removed]"
          },
          "metadata": {}
        }
      ],
      "source": [
        "# 예측 및 평가\n",
        "\n",
        "val_loss, val_accuracy = model1.evaluate(X_val, y_val, verbose=0)\n",
        "print(f\"\\n✅ Validation Loss: {val_loss:.4f}\")\n",
        "print(f\"✅ Validation Accuracy: {val_accuracy:.4f}\")\n",
        "# 테스트 예측\n",
        "y_test_pred_prob = model1.predict(X_test_scaled)\n",
        "y_test_pred_classes = (y_test_pred_prob > 0.5).astype(\"int32\")\n",
        "\n",
        "# 정확도\n",
        "test_accuracy = accuracy_score(y_test, y_test_pred_classes)\n",
        "print(f\"\\n✅ Test Accuracy: {test_accuracy:.4f}\")\n",
        "\n",
        "# 분류 리포트\n",
        "print(\"\\n Classification Report:\")\n",
        "print(classification_report(y_test, y_test_pred_classes))\n",
        "# 혼동 행렬\n",
        "conf_matrix = confusion_matrix(y_test, y_test_pred_classes)\n",
        "plt.figure(figsize=(8, 6))\n",
        "sns.heatmap(conf_matrix, annot=True, fmt='d', cmap='BuPu',\n",
        "            xticklabels=['static', 'dynamic'],\n",
        "            yticklabels=['static', 'dynamic'])\n",
        "plt.title(\"Model - Confusion Matrix\")\n",
        "plt.xlabel(\"Predicted\")\n",
        "plt.ylabel(\"Actual\")\n",
        "plt.show()"
      ]
    },
    {
      "cell_type": "markdown",
      "metadata": {
        "id": "Xo6HcoOUh8I5"
      },
      "source": [
        "#### 2) 모델2"
      ]
    },
    {
      "cell_type": "code",
      "execution_count": null,
      "metadata": {
        "id": "rgQFTyrn0uLA",
        "colab": {
          "base_uri": "https://localhost:8080/",
          "height": 413
        },
        "outputId": "33b7deae-e7f2-4fb0-f5a8-c176ba4d28a7"
      },
      "outputs": [
        {
          "output_type": "stream",
          "name": "stderr",
          "text": [
            "/usr/local/lib/python3.11/dist-packages/keras/src/layers/core/dense.py:87: UserWarning: Do not pass an `input_shape`/`input_dim` argument to a layer. When using Sequential models, prefer using an `Input(shape)` object as the first layer in the model instead.\n",
            "  super().__init__(activity_regularizer=activity_regularizer, **kwargs)\n"
          ]
        },
        {
          "output_type": "display_data",
          "data": {
            "text/plain": [
              "\u001b[1mModel: \"sequential\"\u001b[0m\n"
            ],
            "text/html": [
              "<pre style=\"white-space:pre;overflow-x:auto;line-height:normal;font-family:Menlo,'DejaVu Sans Mono',consolas,'Courier New',monospace\"><span style=\"font-weight: bold\">Model: \"sequential\"</span>\n",
              "</pre>\n"
            ]
          },
          "metadata": {}
        },
        {
          "output_type": "display_data",
          "data": {
            "text/plain": [
              "┏━━━━━━━━━━━━━━━━━━━━━━━━━━━━━━━━━┳━━━━━━━━━━━━━━━━━━━━━━━━┳━━━━━━━━━━━━━━━┓\n",
              "┃\u001b[1m \u001b[0m\u001b[1mLayer (type)                   \u001b[0m\u001b[1m \u001b[0m┃\u001b[1m \u001b[0m\u001b[1mOutput Shape          \u001b[0m\u001b[1m \u001b[0m┃\u001b[1m \u001b[0m\u001b[1m      Param #\u001b[0m\u001b[1m \u001b[0m┃\n",
              "┡━━━━━━━━━━━━━━━━━━━━━━━━━━━━━━━━━╇━━━━━━━━━━━━━━━━━━━━━━━━╇━━━━━━━━━━━━━━━┩\n",
              "│ dense (\u001b[38;5;33mDense\u001b[0m)                   │ (\u001b[38;5;45mNone\u001b[0m, \u001b[38;5;34m128\u001b[0m)            │        \u001b[38;5;34m71,936\u001b[0m │\n",
              "├─────────────────────────────────┼────────────────────────┼───────────────┤\n",
              "│ dropout (\u001b[38;5;33mDropout\u001b[0m)               │ (\u001b[38;5;45mNone\u001b[0m, \u001b[38;5;34m128\u001b[0m)            │             \u001b[38;5;34m0\u001b[0m │\n",
              "├─────────────────────────────────┼────────────────────────┼───────────────┤\n",
              "│ dense_1 (\u001b[38;5;33mDense\u001b[0m)                 │ (\u001b[38;5;45mNone\u001b[0m, \u001b[38;5;34m64\u001b[0m)             │         \u001b[38;5;34m8,256\u001b[0m │\n",
              "├─────────────────────────────────┼────────────────────────┼───────────────┤\n",
              "│ dense_2 (\u001b[38;5;33mDense\u001b[0m)                 │ (\u001b[38;5;45mNone\u001b[0m, \u001b[38;5;34m32\u001b[0m)             │         \u001b[38;5;34m2,080\u001b[0m │\n",
              "├─────────────────────────────────┼────────────────────────┼───────────────┤\n",
              "│ dense_3 (\u001b[38;5;33mDense\u001b[0m)                 │ (\u001b[38;5;45mNone\u001b[0m, \u001b[38;5;34m16\u001b[0m)             │           \u001b[38;5;34m528\u001b[0m │\n",
              "├─────────────────────────────────┼────────────────────────┼───────────────┤\n",
              "│ dense_4 (\u001b[38;5;33mDense\u001b[0m)                 │ (\u001b[38;5;45mNone\u001b[0m, \u001b[38;5;34m1\u001b[0m)              │            \u001b[38;5;34m17\u001b[0m │\n",
              "└─────────────────────────────────┴────────────────────────┴───────────────┘\n"
            ],
            "text/html": [
              "<pre style=\"white-space:pre;overflow-x:auto;line-height:normal;font-family:Menlo,'DejaVu Sans Mono',consolas,'Courier New',monospace\">┏━━━━━━━━━━━━━━━━━━━━━━━━━━━━━━━━━┳━━━━━━━━━━━━━━━━━━━━━━━━┳━━━━━━━━━━━━━━━┓\n",
              "┃<span style=\"font-weight: bold\"> Layer (type)                    </span>┃<span style=\"font-weight: bold\"> Output Shape           </span>┃<span style=\"font-weight: bold\">       Param # </span>┃\n",
              "┡━━━━━━━━━━━━━━━━━━━━━━━━━━━━━━━━━╇━━━━━━━━━━━━━━━━━━━━━━━━╇━━━━━━━━━━━━━━━┩\n",
              "│ dense (<span style=\"color: #0087ff; text-decoration-color: #0087ff\">Dense</span>)                   │ (<span style=\"color: #00d7ff; text-decoration-color: #00d7ff\">None</span>, <span style=\"color: #00af00; text-decoration-color: #00af00\">128</span>)            │        <span style=\"color: #00af00; text-decoration-color: #00af00\">71,936</span> │\n",
              "├─────────────────────────────────┼────────────────────────┼───────────────┤\n",
              "│ dropout (<span style=\"color: #0087ff; text-decoration-color: #0087ff\">Dropout</span>)               │ (<span style=\"color: #00d7ff; text-decoration-color: #00d7ff\">None</span>, <span style=\"color: #00af00; text-decoration-color: #00af00\">128</span>)            │             <span style=\"color: #00af00; text-decoration-color: #00af00\">0</span> │\n",
              "├─────────────────────────────────┼────────────────────────┼───────────────┤\n",
              "│ dense_1 (<span style=\"color: #0087ff; text-decoration-color: #0087ff\">Dense</span>)                 │ (<span style=\"color: #00d7ff; text-decoration-color: #00d7ff\">None</span>, <span style=\"color: #00af00; text-decoration-color: #00af00\">64</span>)             │         <span style=\"color: #00af00; text-decoration-color: #00af00\">8,256</span> │\n",
              "├─────────────────────────────────┼────────────────────────┼───────────────┤\n",
              "│ dense_2 (<span style=\"color: #0087ff; text-decoration-color: #0087ff\">Dense</span>)                 │ (<span style=\"color: #00d7ff; text-decoration-color: #00d7ff\">None</span>, <span style=\"color: #00af00; text-decoration-color: #00af00\">32</span>)             │         <span style=\"color: #00af00; text-decoration-color: #00af00\">2,080</span> │\n",
              "├─────────────────────────────────┼────────────────────────┼───────────────┤\n",
              "│ dense_3 (<span style=\"color: #0087ff; text-decoration-color: #0087ff\">Dense</span>)                 │ (<span style=\"color: #00d7ff; text-decoration-color: #00d7ff\">None</span>, <span style=\"color: #00af00; text-decoration-color: #00af00\">16</span>)             │           <span style=\"color: #00af00; text-decoration-color: #00af00\">528</span> │\n",
              "├─────────────────────────────────┼────────────────────────┼───────────────┤\n",
              "│ dense_4 (<span style=\"color: #0087ff; text-decoration-color: #0087ff\">Dense</span>)                 │ (<span style=\"color: #00d7ff; text-decoration-color: #00d7ff\">None</span>, <span style=\"color: #00af00; text-decoration-color: #00af00\">1</span>)              │            <span style=\"color: #00af00; text-decoration-color: #00af00\">17</span> │\n",
              "└─────────────────────────────────┴────────────────────────┴───────────────┘\n",
              "</pre>\n"
            ]
          },
          "metadata": {}
        },
        {
          "output_type": "display_data",
          "data": {
            "text/plain": [
              "\u001b[1m Total params: \u001b[0m\u001b[38;5;34m248,453\u001b[0m (970.52 KB)\n"
            ],
            "text/html": [
              "<pre style=\"white-space:pre;overflow-x:auto;line-height:normal;font-family:Menlo,'DejaVu Sans Mono',consolas,'Courier New',monospace\"><span style=\"font-weight: bold\"> Total params: </span><span style=\"color: #00af00; text-decoration-color: #00af00\">248,453</span> (970.52 KB)\n",
              "</pre>\n"
            ]
          },
          "metadata": {}
        },
        {
          "output_type": "display_data",
          "data": {
            "text/plain": [
              "\u001b[1m Trainable params: \u001b[0m\u001b[38;5;34m82,817\u001b[0m (323.50 KB)\n"
            ],
            "text/html": [
              "<pre style=\"white-space:pre;overflow-x:auto;line-height:normal;font-family:Menlo,'DejaVu Sans Mono',consolas,'Courier New',monospace\"><span style=\"font-weight: bold\"> Trainable params: </span><span style=\"color: #00af00; text-decoration-color: #00af00\">82,817</span> (323.50 KB)\n",
              "</pre>\n"
            ]
          },
          "metadata": {}
        },
        {
          "output_type": "display_data",
          "data": {
            "text/plain": [
              "\u001b[1m Non-trainable params: \u001b[0m\u001b[38;5;34m0\u001b[0m (0.00 B)\n"
            ],
            "text/html": [
              "<pre style=\"white-space:pre;overflow-x:auto;line-height:normal;font-family:Menlo,'DejaVu Sans Mono',consolas,'Courier New',monospace\"><span style=\"font-weight: bold\"> Non-trainable params: </span><span style=\"color: #00af00; text-decoration-color: #00af00\">0</span> (0.00 B)\n",
              "</pre>\n"
            ]
          },
          "metadata": {}
        },
        {
          "output_type": "display_data",
          "data": {
            "text/plain": [
              "\u001b[1m Optimizer params: \u001b[0m\u001b[38;5;34m165,636\u001b[0m (647.02 KB)\n"
            ],
            "text/html": [
              "<pre style=\"white-space:pre;overflow-x:auto;line-height:normal;font-family:Menlo,'DejaVu Sans Mono',consolas,'Courier New',monospace\"><span style=\"font-weight: bold\"> Optimizer params: </span><span style=\"color: #00af00; text-decoration-color: #00af00\">165,636</span> (647.02 KB)\n",
              "</pre>\n"
            ]
          },
          "metadata": {}
        },
        {
          "output_type": "stream",
          "name": "stdout",
          "text": [
            "None\n"
          ]
        }
      ],
      "source": [
        "# 모델 설계\n",
        "model2 = Sequential([\n",
        "    Dense(256, activation='relu', input_shape=(X_train_final.shape[1],)),\n",
        "    Dropout(0.3),\n",
        "    Dense(128, activation='relu'),\n",
        "    Dropout(0.2),\n",
        "    Dense(64, activation='relu'),\n",
        "    Dense(1, activation='sigmoid')\n",
        "])\n",
        "\n",
        "print(model1.summary())"
      ]
    },
    {
      "cell_type": "code",
      "execution_count": null,
      "metadata": {
        "id": "Mjl9LNyQ0uIm",
        "colab": {
          "base_uri": "https://localhost:8080/"
        },
        "outputId": "7c35ad64-a87a-4a3b-8785-8bcc64d29e39"
      },
      "outputs": [
        {
          "output_type": "stream",
          "name": "stdout",
          "text": [
            "Epoch 1/20\n",
            "\u001b[1m74/74\u001b[0m \u001b[32m━━━━━━━━━━━━━━━━━━━━\u001b[0m\u001b[37m\u001b[0m \u001b[1m3s\u001b[0m 9ms/step - accuracy: 0.9518 - loss: 0.1161 - val_accuracy: 0.9992 - val_loss: 0.0012\n",
            "Epoch 2/20\n",
            "\u001b[1m74/74\u001b[0m \u001b[32m━━━━━━━━━━━━━━━━━━━━\u001b[0m\u001b[37m\u001b[0m \u001b[1m1s\u001b[0m 8ms/step - accuracy: 0.9999 - loss: 9.1998e-04 - val_accuracy: 0.9992 - val_loss: 0.0015\n",
            "Epoch 3/20\n",
            "\u001b[1m74/74\u001b[0m \u001b[32m━━━━━━━━━━━━━━━━━━━━\u001b[0m\u001b[37m\u001b[0m \u001b[1m2s\u001b[0m 22ms/step - accuracy: 1.0000 - loss: 4.4853e-04 - val_accuracy: 1.0000 - val_loss: 7.7174e-04\n",
            "Epoch 4/20\n",
            "\u001b[1m74/74\u001b[0m \u001b[32m━━━━━━━━━━━━━━━━━━━━\u001b[0m\u001b[37m\u001b[0m \u001b[1m2s\u001b[0m 26ms/step - accuracy: 1.0000 - loss: 3.2358e-04 - val_accuracy: 1.0000 - val_loss: 5.8267e-05\n",
            "Epoch 5/20\n",
            "\u001b[1m74/74\u001b[0m \u001b[32m━━━━━━━━━━━━━━━━━━━━\u001b[0m\u001b[37m\u001b[0m \u001b[1m1s\u001b[0m 15ms/step - accuracy: 1.0000 - loss: 1.8110e-04 - val_accuracy: 1.0000 - val_loss: 7.0217e-05\n",
            "Epoch 6/20\n",
            "\u001b[1m74/74\u001b[0m \u001b[32m━━━━━━━━━━━━━━━━━━━━\u001b[0m\u001b[37m\u001b[0m \u001b[1m1s\u001b[0m 17ms/step - accuracy: 1.0000 - loss: 3.9907e-05 - val_accuracy: 1.0000 - val_loss: 4.1486e-05\n",
            "Epoch 7/20\n",
            "\u001b[1m74/74\u001b[0m \u001b[32m━━━━━━━━━━━━━━━━━━━━\u001b[0m\u001b[37m\u001b[0m \u001b[1m3s\u001b[0m 17ms/step - accuracy: 1.0000 - loss: 1.1654e-04 - val_accuracy: 1.0000 - val_loss: 1.2008e-04\n",
            "Epoch 8/20\n",
            "\u001b[1m74/74\u001b[0m \u001b[32m━━━━━━━━━━━━━━━━━━━━\u001b[0m\u001b[37m\u001b[0m \u001b[1m1s\u001b[0m 18ms/step - accuracy: 1.0000 - loss: 4.4629e-05 - val_accuracy: 1.0000 - val_loss: 6.1988e-05\n",
            "Epoch 9/20\n",
            "\u001b[1m74/74\u001b[0m \u001b[32m━━━━━━━━━━━━━━━━━━━━\u001b[0m\u001b[37m\u001b[0m \u001b[1m1s\u001b[0m 14ms/step - accuracy: 1.0000 - loss: 4.2231e-05 - val_accuracy: 1.0000 - val_loss: 2.3894e-05\n",
            "Epoch 10/20\n",
            "\u001b[1m74/74\u001b[0m \u001b[32m━━━━━━━━━━━━━━━━━━━━\u001b[0m\u001b[37m\u001b[0m \u001b[1m1s\u001b[0m 16ms/step - accuracy: 1.0000 - loss: 3.5825e-05 - val_accuracy: 1.0000 - val_loss: 2.2333e-05\n",
            "Epoch 11/20\n",
            "\u001b[1m74/74\u001b[0m \u001b[32m━━━━━━━━━━━━━━━━━━━━\u001b[0m\u001b[37m\u001b[0m \u001b[1m2s\u001b[0m 25ms/step - accuracy: 1.0000 - loss: 1.3398e-05 - val_accuracy: 1.0000 - val_loss: 1.2898e-05\n",
            "Epoch 12/20\n",
            "\u001b[1m74/74\u001b[0m \u001b[32m━━━━━━━━━━━━━━━━━━━━\u001b[0m\u001b[37m\u001b[0m \u001b[1m2s\u001b[0m 23ms/step - accuracy: 1.0000 - loss: 1.0361e-05 - val_accuracy: 1.0000 - val_loss: 1.0227e-05\n",
            "Epoch 13/20\n",
            "\u001b[1m74/74\u001b[0m \u001b[32m━━━━━━━━━━━━━━━━━━━━\u001b[0m\u001b[37m\u001b[0m \u001b[1m2s\u001b[0m 19ms/step - accuracy: 1.0000 - loss: 1.0997e-05 - val_accuracy: 1.0000 - val_loss: 7.9312e-06\n",
            "Epoch 14/20\n",
            "\u001b[1m74/74\u001b[0m \u001b[32m━━━━━━━━━━━━━━━━━━━━\u001b[0m\u001b[37m\u001b[0m \u001b[1m2s\u001b[0m 9ms/step - accuracy: 1.0000 - loss: 6.2846e-06 - val_accuracy: 1.0000 - val_loss: 5.9044e-06\n",
            "Epoch 15/20\n",
            "\u001b[1m74/74\u001b[0m \u001b[32m━━━━━━━━━━━━━━━━━━━━\u001b[0m\u001b[37m\u001b[0m \u001b[1m1s\u001b[0m 7ms/step - accuracy: 1.0000 - loss: 3.0634e-05 - val_accuracy: 1.0000 - val_loss: 4.5297e-06\n",
            "Epoch 16/20\n",
            "\u001b[1m74/74\u001b[0m \u001b[32m━━━━━━━━━━━━━━━━━━━━\u001b[0m\u001b[37m\u001b[0m \u001b[1m1s\u001b[0m 7ms/step - accuracy: 1.0000 - loss: 9.2839e-06 - val_accuracy: 1.0000 - val_loss: 3.4528e-06\n",
            "Epoch 17/20\n",
            "\u001b[1m74/74\u001b[0m \u001b[32m━━━━━━━━━━━━━━━━━━━━\u001b[0m\u001b[37m\u001b[0m \u001b[1m1s\u001b[0m 7ms/step - accuracy: 1.0000 - loss: 6.1836e-06 - val_accuracy: 1.0000 - val_loss: 3.1223e-06\n",
            "Epoch 18/20\n",
            "\u001b[1m74/74\u001b[0m \u001b[32m━━━━━━━━━━━━━━━━━━━━\u001b[0m\u001b[37m\u001b[0m \u001b[1m1s\u001b[0m 8ms/step - accuracy: 1.0000 - loss: 4.3698e-06 - val_accuracy: 1.0000 - val_loss: 3.6176e-06\n",
            "Epoch 19/20\n",
            "\u001b[1m74/74\u001b[0m \u001b[32m━━━━━━━━━━━━━━━━━━━━\u001b[0m\u001b[37m\u001b[0m \u001b[1m1s\u001b[0m 7ms/step - accuracy: 1.0000 - loss: 6.5146e-06 - val_accuracy: 1.0000 - val_loss: 2.7093e-06\n",
            "Epoch 20/20\n",
            "\u001b[1m74/74\u001b[0m \u001b[32m━━━━━━━━━━━━━━━━━━━━\u001b[0m\u001b[37m\u001b[0m \u001b[1m1s\u001b[0m 7ms/step - accuracy: 1.0000 - loss: 2.9721e-06 - val_accuracy: 1.0000 - val_loss: 2.6109e-06\n"
          ]
        }
      ],
      "source": [
        "# 컴파일 및 학습\n",
        "model2.compile(\n",
        "    optimizer=Adam(learning_rate=0.0005),\n",
        "    loss='binary_crossentropy',\n",
        "    metrics=['accuracy']\n",
        ")\n",
        "\n",
        "# 학습 과정 표시하며 학습 진행\n",
        "history2 = model2.fit(\n",
        "    X_train_final, y_train_final,\n",
        "    epochs=20,\n",
        "    batch_size=64,\n",
        "    validation_data=(X_val, y_val),\n",
        "    verbose=1\n",
        ")"
      ]
    },
    {
      "cell_type": "code",
      "execution_count": null,
      "metadata": {
        "id": "zZ05bc900uFd",
        "colab": {
          "base_uri": "https://localhost:8080/",
          "height": 507
        },
        "outputId": "fabc1379-27e5-4259-a4cf-8075a3235e00"
      },
      "outputs": [
        {
          "output_type": "display_data",
          "data": {
            "text/plain": [
              "<Figure size 1200x500 with 1 Axes>"
            ],
            "image/png": "[encoded data removed]"
          },
          "metadata": {}
        }
      ],
      "source": [
        "# 학습곡선\n",
        "plt.figure(figsize=(12, 5))\n",
        "plt.subplot(1, 2, 2)\n",
        "plt.plot(history2.history['loss'], label='Train Loss')\n",
        "plt.plot(history2.history['val_loss'], label='Validation Loss')\n",
        "plt.title('Model Loss')\n",
        "plt.xlabel('Epoch')\n",
        "plt.ylabel('Loss')\n",
        "plt.legend()\n",
        "plt.grid(True)\n",
        "plt.tight_layout()\n",
        "plt.show()"
      ]
    },
    {
      "cell_type": "code",
      "execution_count": null,
      "metadata": {
        "id": "9C-TyJYf1Cti",
        "colab": {
          "base_uri": "https://localhost:8080/",
          "height": 882
        },
        "outputId": "7e596665-7287-4250-a310-d11fd912460d"
      },
      "outputs": [
        {
          "output_type": "stream",
          "name": "stdout",
          "text": [
            "\n",
            "✅ Validation Loss: 0.0000\n",
            "✅ Validation Accuracy: 1.0000\n",
            "\u001b[1m46/46\u001b[0m \u001b[32m━━━━━━━━━━━━━━━━━━━━\u001b[0m\u001b[37m\u001b[0m \u001b[1m0s\u001b[0m 3ms/step\n",
            "\n",
            "✅ Test Accuracy: 1.0000\n",
            "\n",
            " Classification Report:\n",
            "              precision    recall  f1-score   support\n",
            "\n",
            "           0       1.00      1.00      1.00       833\n",
            "           1       1.00      1.00      1.00       638\n",
            "\n",
            "    accuracy                           1.00      1471\n",
            "   macro avg       1.00      1.00      1.00      1471\n",
            "weighted avg       1.00      1.00      1.00      1471\n",
            "\n"
          ]
        },
        {
          "output_type": "display_data",
          "data": {
            "text/plain": [
              "<Figure size 800x600 with 2 Axes>"
            ],
            "image/png": "[encoded data removed]"
          },
          "metadata": {}
        }
      ],
      "source": [
        "# 예측 및 평가\n",
        "# 검증 데이터 평가\n",
        "val_loss, val_accuracy = model2.evaluate(X_val, y_val, verbose=0)\n",
        "print(f\"\\n✅ Validation Loss: {val_loss:.4f}\")\n",
        "print(f\"✅ Validation Accuracy: {val_accuracy:.4f}\")\n",
        "\n",
        "# 테스트 예측\n",
        "y_test_pred_prob = model2.predict(X_test_scaled)\n",
        "y_test_pred_classes = (y_test_pred_prob > 0.5).astype(\"int32\")\n",
        "\n",
        "# 정확도\n",
        "test_accuracy = accuracy_score(y_test, y_test_pred_classes)\n",
        "print(f\"\\n✅ Test Accuracy: {test_accuracy:.4f}\")\n",
        "\n",
        "# 분류 리포트\n",
        "print(\"\\n Classification Report:\")\n",
        "print(classification_report(y_test, y_test_pred_classes))\n",
        "\n",
        "# 혼동 행렬\n",
        "conf_matrix = confusion_matrix(y_test, y_test_pred_classes)\n",
        "plt.figure(figsize=(8, 6))\n",
        "sns.heatmap(conf_matrix, annot=True, fmt='d', cmap='Blues',\n",
        "            xticklabels=['static', 'dynamic'],\n",
        "            yticklabels=['static', 'dynamic'])\n",
        "plt.title(\"Model 2 - Confusion Matrix\")\n",
        "plt.xlabel(\"Predicted\")\n",
        "plt.ylabel(\"Actual\")\n",
        "plt.show()"
      ]
    },
    {
      "cell_type": "markdown",
      "metadata": {
        "id": "cK9A9XmW0pJ8"
      },
      "source": [
        "### (2) 단계2"
      ]
    },
    {
      "cell_type": "markdown",
      "metadata": {
        "id": "uPFEN7aniicS"
      },
      "source": [
        "#### 1) 단계2-1 : 정적 동작 세부 분류"
      ]
    },
    {
      "cell_type": "markdown",
      "metadata": {
        "id": "S8v3DgDX0pJ8"
      },
      "source": [
        "* 세부 요구사항\n",
        "    * 정적 행동(Laying, Sitting, Standing)인 데이터 추출\n",
        "    * Laying, Sitting, Standing 를 분류하는 모델을 생성\n",
        "    * 몇가지 모델을 만들고 가장 성능이 좋은 모델을 선정하시오."
      ]
    },
    {
      "cell_type": "code",
      "execution_count": null,
      "metadata": {
        "id": "ZUnIqQ3O0yrb",
        "colab": {
          "base_uri": "https://localhost:8080/"
        },
        "outputId": "098eed69-e963-429a-a8e3-1084ccf2111f"
      },
      "outputs": [
        {
          "output_type": "stream",
          "name": "stdout",
          "text": [
            " Static Data 추출 완료\n",
            "Train Set Shape: (3234, 563)\n",
            "Test Set Shape : (833, 563)\n",
            "----------------------------------------\n"
          ]
        }
      ],
      "source": [
        "# 정적 동작만 필터링 (is_dynamic == 0)\n",
        "static_data_train = data01_train[data01_train['is_dynamic'] == 0].copy()\n",
        "static_data_test = data01_test[data01_test['is_dynamic'] == 0].copy()\n",
        "\n",
        "print(\" Static Data 추출 완료\")\n",
        "print(f\"Train Set Shape: {static_data_train.shape}\")\n",
        "print(f\"Test Set Shape : {static_data_test.shape}\")\n",
        "print(\"-\" * 40)"
      ]
    },
    {
      "cell_type": "code",
      "source": [
        "# 대소문자 및 공백 정리\n",
        "static_data_train['Activity'] = static_data_train['Activity'].str.upper().str.strip()\n",
        "static_data_test['Activity'] = static_data_test['Activity'].str.upper().str.strip()\n",
        "\n",
        "# 필요한 클래스만 필터링\n",
        "target_static_labels = ['LAYING', 'SITTING', 'STANDING']\n",
        "static_data_train = static_data_train[static_data_train['Activity'].isin(target_static_labels)].copy()\n",
        "static_data_test = static_data_test[static_data_test['Activity'].isin(target_static_labels)].copy()\n",
        "\n",
        "print(\"  문자열 정리 + 클래스 필터링 완료\")\n",
        "print(\"Train Activity Classes:\", static_data_train['Activity'].unique())\n",
        "print(\"Test Activity Classes :\", static_data_test['Activity'].unique())\n",
        "print(\"-\" * 40)"
      ],
      "metadata": {
        "colab": {
          "base_uri": "https://localhost:8080/"
        },
        "id": "yHKa5A6XeOlB",
        "outputId": "75a5ce10-5906-490a-f708-336b0ec0eaab"
      },
      "execution_count": null,
      "outputs": [
        {
          "output_type": "stream",
          "name": "stdout",
          "text": [
            "  문자열 정리 + 클래스 필터링 완료\n",
            "Train Activity Classes: ['STANDING' 'LAYING' 'SITTING']\n",
            "Test Activity Classes : ['SITTING' 'STANDING' 'LAYING']\n",
            "----------------------------------------\n"
          ]
        }
      ]
    },
    {
      "cell_type": "code",
      "execution_count": null,
      "metadata": {
        "id": "PY2uBvF90ynr",
        "colab": {
          "base_uri": "https://localhost:8080/"
        },
        "outputId": "2c7bf50c-e1ba-444e-9c71-a63047ca3e85"
      },
      "outputs": [
        {
          "output_type": "stream",
          "name": "stdout",
          "text": [
            " 라벨 매핑 완료\n",
            "Activity\n",
            "0           1115\n",
            "1           1032\n",
            "2           1087\n",
            "Name: count, dtype: int64\n",
            "Activity\n",
            "0           292\n",
            "1           254\n",
            "2           287\n",
            "Name: count, dtype: int64\n",
            "----------------------------------------\n"
          ]
        }
      ],
      "source": [
        "# (tip) 인코딩 진행, map 활용해서 숫자레이블로 매핑핑\n",
        "static_mapping = {'LAYING': 0, 'SITTING': 1, 'STANDING': 2}\n",
        "static_data_train['Activity'] = static_data_train['Activity'].map(static_mapping)\n",
        "static_data_test['Activity'] = static_data_test['Activity'].map(static_mapping)\n",
        "\n",
        "# 결과 확인\n",
        "\n",
        "print(\" 라벨 매핑 완료\")\n",
        "print(static_data_train[['Activity']].value_counts().sort_index())\n",
        "print(static_data_test[['Activity']].value_counts().sort_index())\n",
        "print(\"-\" * 40)"
      ]
    },
    {
      "cell_type": "code",
      "execution_count": null,
      "metadata": {
        "id": "rUcp7mTm0ykX",
        "colab": {
          "base_uri": "https://localhost:8080/"
        },
        "outputId": "96f7f7e9-9c4b-4df5-f15a-d6f449a944a7"
      },
      "outputs": [
        {
          "output_type": "stream",
          "name": "stdout",
          "text": [
            "Feature 분리 및 정규화 완료\n",
            "X_train_static_scaled Shape: (3234, 561)\n",
            "y_train_static Shape       : (3234,)\n",
            "X_test_static_scaled Shape : (833, 561)\n",
            "y_test_static Shape        : (833,)\n",
            "----------------------------------------\n"
          ]
        },
        {
          "output_type": "stream",
          "name": "stderr",
          "text": [
            "/usr/local/lib/python3.11/dist-packages/keras/src/layers/core/dense.py:87: UserWarning: Do not pass an `input_shape`/`input_dim` argument to a layer. When using Sequential models, prefer using an `Input(shape)` object as the first layer in the model instead.\n",
            "  super().__init__(activity_regularizer=activity_regularizer, **kwargs)\n"
          ]
        }
      ],
      "source": [
        "# 모델 설계\n",
        "\n",
        "# X, y 분리\n",
        "X_train_static = static_data_train.drop(columns=['Activity', 'is_dynamic'])\n",
        "y_train_static = static_data_train['Activity']\n",
        "\n",
        "X_test_static = static_data_test.drop(columns=['Activity', 'is_dynamic'])\n",
        "y_test_static = static_data_test['Activity']\n",
        "\n",
        "# 정규화\n",
        "scaler_static = StandardScaler()\n",
        "X_train_static_scaled = scaler_static.fit_transform(X_train_static)\n",
        "X_test_static_scaled = scaler_static.transform(X_test_static)\n",
        "\n",
        "print(\"Feature 분리 및 정규화 완료\")\n",
        "print(f\"X_train_static_scaled Shape: {X_train_static_scaled.shape}\")\n",
        "print(f\"y_train_static Shape       : {y_train_static.shape}\")\n",
        "print(f\"X_test_static_scaled Shape : {X_test_static_scaled.shape}\")\n",
        "print(f\"y_test_static Shape        : {y_test_static.shape}\")\n",
        "print(\"-\" * 40)\n",
        "\n",
        "model_static = Sequential([\n",
        "    Dense(128, activation='relu', input_shape=(X_train_static_scaled.shape[1],)),\n",
        "    Dense(64, activation='relu'),\n",
        "    Dense(3, activation='softmax')  # 3개 클래스\n",
        "])"
      ]
    },
    {
      "cell_type": "code",
      "execution_count": null,
      "metadata": {
        "colab": {
          "base_uri": "https://localhost:8080/"
        },
        "id": "d5exHikDDwFe",
        "outputId": "ca678805-6dd8-497f-9be1-cdb2d4d12678"
      },
      "outputs": [
        {
          "output_type": "stream",
          "name": "stdout",
          "text": [
            "Epoch 1/20\n",
            "102/102 - 2s - 17ms/step - accuracy: 0.8652 - loss: 0.3422 - val_accuracy: 0.9256 - val_loss: 0.2305\n",
            "Epoch 2/20\n",
            "102/102 - 2s - 18ms/step - accuracy: 0.9549 - loss: 0.1318 - val_accuracy: 0.9628 - val_loss: 0.1232\n",
            "Epoch 3/20\n",
            "102/102 - 1s - 7ms/step - accuracy: 0.9811 - loss: 0.0577 - val_accuracy: 0.9628 - val_loss: 0.1157\n",
            "Epoch 4/20\n",
            "102/102 - 1s - 12ms/step - accuracy: 0.9833 - loss: 0.0453 - val_accuracy: 0.9700 - val_loss: 0.0884\n",
            "Epoch 5/20\n",
            "102/102 - 1s - 5ms/step - accuracy: 0.9892 - loss: 0.0382 - val_accuracy: 0.9628 - val_loss: 0.1385\n",
            "Epoch 6/20\n",
            "102/102 - 0s - 5ms/step - accuracy: 0.9898 - loss: 0.0488 - val_accuracy: 0.9664 - val_loss: 0.1239\n",
            "Epoch 7/20\n",
            "102/102 - 0s - 4ms/step - accuracy: 0.9904 - loss: 0.0631 - val_accuracy: 0.9760 - val_loss: 0.0935\n",
            "Epoch 8/20\n",
            "102/102 - 1s - 5ms/step - accuracy: 0.9978 - loss: 0.0103 - val_accuracy: 0.9700 - val_loss: 0.1098\n",
            "Epoch 9/20\n",
            "102/102 - 1s - 7ms/step - accuracy: 0.9978 - loss: 0.0099 - val_accuracy: 0.9784 - val_loss: 0.0810\n",
            "Epoch 10/20\n",
            "102/102 - 1s - 5ms/step - accuracy: 1.0000 - loss: 0.0028 - val_accuracy: 0.9772 - val_loss: 0.0843\n",
            "Epoch 11/20\n",
            "102/102 - 0s - 4ms/step - accuracy: 1.0000 - loss: 0.0019 - val_accuracy: 0.9772 - val_loss: 0.0854\n",
            "Epoch 12/20\n",
            "102/102 - 1s - 6ms/step - accuracy: 1.0000 - loss: 0.0015 - val_accuracy: 0.9808 - val_loss: 0.0851\n",
            "Epoch 13/20\n",
            "102/102 - 0s - 4ms/step - accuracy: 1.0000 - loss: 0.0012 - val_accuracy: 0.9784 - val_loss: 0.0880\n",
            "Epoch 14/20\n",
            "102/102 - 1s - 6ms/step - accuracy: 1.0000 - loss: 9.9022e-04 - val_accuracy: 0.9772 - val_loss: 0.0880\n",
            "Epoch 15/20\n",
            "102/102 - 0s - 4ms/step - accuracy: 1.0000 - loss: 8.4884e-04 - val_accuracy: 0.9760 - val_loss: 0.0888\n",
            "Epoch 16/20\n",
            "102/102 - 1s - 6ms/step - accuracy: 1.0000 - loss: 7.1588e-04 - val_accuracy: 0.9784 - val_loss: 0.0904\n",
            "Epoch 17/20\n",
            "102/102 - 1s - 6ms/step - accuracy: 1.0000 - loss: 6.0869e-04 - val_accuracy: 0.9772 - val_loss: 0.0922\n",
            "Epoch 18/20\n",
            "102/102 - 0s - 4ms/step - accuracy: 1.0000 - loss: 5.3725e-04 - val_accuracy: 0.9772 - val_loss: 0.0924\n",
            "Epoch 19/20\n",
            "102/102 - 0s - 4ms/step - accuracy: 1.0000 - loss: 4.5904e-04 - val_accuracy: 0.9784 - val_loss: 0.0940\n",
            "Epoch 20/20\n",
            "102/102 - 0s - 5ms/step - accuracy: 1.0000 - loss: 4.0178e-04 - val_accuracy: 0.9772 - val_loss: 0.0951\n"
          ]
        }
      ],
      "source": [
        "# 컴파일 및 학습\n",
        "\n",
        "model_static.compile(\n",
        "    optimizer=Adam(),\n",
        "    loss='sparse_categorical_crossentropy',\n",
        "    metrics=['accuracy']\n",
        ")\n",
        "\n",
        "history_static = model_static.fit(\n",
        "    X_train_static_scaled, y_train_static,\n",
        "    validation_data=(X_test_static_scaled, y_test_static),\n",
        "    epochs=20,\n",
        "    batch_size=32,\n",
        "    verbose=2\n",
        ")\n"
      ]
    },
    {
      "cell_type": "code",
      "execution_count": null,
      "metadata": {
        "colab": {
          "base_uri": "https://localhost:8080/",
          "height": 407
        },
        "id": "k2ygM9bGDwFe",
        "outputId": "5c6b0131-20da-4780-eb9b-ba02068f30d5"
      },
      "outputs": [
        {
          "output_type": "display_data",
          "data": {
            "text/plain": [
              "<Figure size 1200x400 with 2 Axes>"
            ],
            "image/png": "[encoded data removed]"
          },
          "metadata": {}
        }
      ],
      "source": [
        "# 학습곡선\n",
        "\n",
        "plt.figure(figsize=(12, 4))\n",
        "\n",
        "# Loss\n",
        "plt.subplot(1, 2, 1)\n",
        "plt.plot(history_static.history['loss'], label='Train Loss')\n",
        "plt.plot(history_static.history['val_loss'], label='Validation Loss')\n",
        "plt.title('Loss Curve')\n",
        "plt.xlabel('Epochs')\n",
        "plt.ylabel('Loss')\n",
        "plt.legend()\n",
        "\n",
        "# Accuracy\n",
        "plt.subplot(1, 2, 2)\n",
        "plt.plot(history_static.history['accuracy'], label='Train Accuracy')\n",
        "plt.plot(history_static.history['val_accuracy'], label='Validation Accuracy')\n",
        "plt.title('Accuracy Curve')\n",
        "plt.xlabel('Epochs')\n",
        "plt.ylabel('Accuracy')\n",
        "plt.legend()\n",
        "\n",
        "plt.tight_layout()\n",
        "plt.show()"
      ]
    },
    {
      "cell_type": "code",
      "execution_count": null,
      "metadata": {
        "colab": {
          "base_uri": "https://localhost:8080/"
        },
        "id": "iKg7t_8jDwFe",
        "outputId": "bda8a1e3-84f8-4e2a-d442-9127f0f86acf"
      },
      "outputs": [
        {
          "output_type": "stream",
          "name": "stdout",
          "text": [
            "\u001b[1m27/27\u001b[0m \u001b[32m━━━━━━━━━━━━━━━━━━━━\u001b[0m\u001b[37m\u001b[0m \u001b[1m0s\u001b[0m 3ms/step\n",
            "✅ Test Accuracy (MLP) - Static Actions: 0.9772\n"
          ]
        },
        {
          "output_type": "display_data",
          "data": {
            "text/plain": [
              "<Figure size 600x500 with 2 Axes>"
            ],
            "image/png": "[encoded data removed]"
          },
          "metadata": {}
        },
        {
          "output_type": "stream",
          "name": "stdout",
          "text": [
            "\n",
            "📄 Classification Report (Static Actions):\n",
            "              precision    recall  f1-score   support\n",
            "\n",
            "      LAYING       1.00      1.00      1.00       292\n",
            "     SITTING       0.96      0.96      0.96       254\n",
            "    STANDING       0.97      0.97      0.97       287\n",
            "\n",
            "    accuracy                           0.98       833\n",
            "   macro avg       0.98      0.98      0.98       833\n",
            "weighted avg       0.98      0.98      0.98       833\n",
            "\n"
          ]
        }
      ],
      "source": [
        "# 예측 및 평가\n",
        "y_pred_static = model_static.predict(X_test_static_scaled).argmax(axis=1)\n",
        "\n",
        "# 정확도\n",
        "acc_static = accuracy_score(y_test_static, y_pred_static)\n",
        "print(f\"✅ Test Accuracy (MLP) - Static Actions: {acc_static:.4f}\")\n",
        "\n",
        "# Confusion Matrix\n",
        "cm_static = confusion_matrix(y_test_static, y_pred_static)\n",
        "plt.figure(figsize=(6, 5))\n",
        "sns.heatmap(cm_static, annot=True, fmt='d', cmap='Greens',\n",
        "            xticklabels=static_mapping.keys(), yticklabels=static_mapping.keys())\n",
        "plt.title(\"Confusion Matrix (MLP - Static Actions)\")\n",
        "plt.xlabel(\"Predicted\")\n",
        "plt.ylabel(\"True\")\n",
        "plt.show()\n",
        "\n",
        "# Classification Report\n",
        "print(\"\\n📄 Classification Report (Static Actions):\")\n",
        "print(classification_report(y_test_static, y_pred_static, target_names=static_mapping.keys()))\n"
      ]
    },
    {
      "cell_type": "markdown",
      "metadata": {
        "id": "WFaqIRAy0pJ-"
      },
      "source": [
        "#### 2) 단계2-2 : 동적 동작 세부 분류"
      ]
    },
    {
      "cell_type": "markdown",
      "metadata": {
        "id": "dwGTMsJ60pJ-"
      },
      "source": [
        "* 세부 요구사항\n",
        "    * 동적 행동(Walking, Walking Upstairs, Walking Downstairs)인 데이터 추출\n",
        "    * Walking, Walking Upstairs, Walking Downstairs 를 분류하는 모델을 생성\n",
        "    * 몇가지 모델을 만들고 가장 성능이 좋은 모델을 선정하시오."
      ]
    },
    {
      "cell_type": "code",
      "execution_count": null,
      "metadata": {
        "id": "tfLclxZB00V9",
        "colab": {
          "base_uri": "https://localhost:8080/"
        },
        "outputId": "b34e4dc5-10b1-4254-b99f-689bb3ada199"
      },
      "outputs": [
        {
          "output_type": "stream",
          "name": "stdout",
          "text": [
            " Dynamic Data 추출 완료\n",
            "Train Set Shape: (2647, 563)\n",
            "Test Set Shape : (638, 563)\n",
            "----------------------------------------\n"
          ]
        }
      ],
      "source": [
        "# (tip) 동적 행동(1)인 데이터 추출\n",
        "\n",
        "\n",
        "dynamic_data_train = data01_train[data01_train['is_dynamic'] == 1].copy()\n",
        "dynamic_data_test = data01_test[data01_test['is_dynamic'] == 1].copy()\n",
        "\n",
        "print(\" Dynamic Data 추출 완료\")\n",
        "print(f\"Train Set Shape: {dynamic_data_train.shape}\")\n",
        "print(f\"Test Set Shape : {dynamic_data_test.shape}\")\n",
        "print(\"-\" * 40)"
      ]
    },
    {
      "cell_type": "code",
      "execution_count": null,
      "metadata": {
        "id": "ErvefaZL00SZ",
        "colab": {
          "base_uri": "https://localhost:8080/"
        },
        "outputId": "13e065d9-d9d8-40e6-d050-b0a99735c71c"
      },
      "outputs": [
        {
          "output_type": "stream",
          "name": "stdout",
          "text": [
            " 문자열 정리 + 클래스 필터링 완료\n",
            "Train Activity Classes: ['WALKING' 'WALKING_DOWNSTAIRS' 'WALKING_UPSTAIRS']\n",
            "Test Activity Classes : ['WALKING' 'WALKING_UPSTAIRS' 'WALKING_DOWNSTAIRS']\n",
            "----------------------------------------\n",
            " 라벨 매핑 완료\n",
            "Activity\n",
            "0           998\n",
            "1           858\n",
            "2           791\n",
            "Name: count, dtype: int64\n",
            "Activity\n",
            "0           228\n",
            "1           215\n",
            "2           195\n",
            "Name: count, dtype: int64\n",
            "----------------------------------------\n"
          ]
        }
      ],
      "source": [
        "# (tip) map 활용해서 숫자레이블로 매핑핑\n",
        "\n",
        "dynamic_data_train['Activity'] = dynamic_data_train['Activity'].str.upper().str.strip()\n",
        "dynamic_data_test['Activity'] = dynamic_data_test['Activity'].str.upper().str.strip()\n",
        "\n",
        "# 필요한 클래스 필터링\n",
        "target_dynamic_labels = ['WALKING', 'WALKING_UPSTAIRS', 'WALKING_DOWNSTAIRS']\n",
        "dynamic_data_train = dynamic_data_train[dynamic_data_train['Activity'].isin(target_dynamic_labels)].copy()\n",
        "dynamic_data_test = dynamic_data_test[dynamic_data_test['Activity'].isin(target_dynamic_labels)].copy()\n",
        "\n",
        "print(\" 문자열 정리 + 클래스 필터링 완료\")\n",
        "print(\"Train Activity Classes:\", dynamic_data_train['Activity'].unique())\n",
        "print(\"Test Activity Classes :\", dynamic_data_test['Activity'].unique())\n",
        "print(\"-\" * 40)\n",
        "\n",
        "dynamic_mapping = {'WALKING': 0, 'WALKING_UPSTAIRS': 1, 'WALKING_DOWNSTAIRS': 2}\n",
        "dynamic_data_train['Activity'] = dynamic_data_train['Activity'].map(dynamic_mapping)\n",
        "dynamic_data_test['Activity'] = dynamic_data_test['Activity'].map(dynamic_mapping)\n",
        "\n",
        "print(\" 라벨 매핑 완료\")\n",
        "print(dynamic_data_train[['Activity']].value_counts().sort_index())\n",
        "print(dynamic_data_test[['Activity']].value_counts().sort_index())\n",
        "print(\"-\" * 40)"
      ]
    },
    {
      "cell_type": "code",
      "source": [
        "\n",
        "X_train_dynamic = dynamic_data_train.drop(columns=['Activity', 'is_dynamic'])\n",
        "y_train_dynamic = dynamic_data_train['Activity']\n",
        "\n",
        "X_test_dynamic = dynamic_data_test.drop(columns=['Activity', 'is_dynamic'])\n",
        "y_test_dynamic = dynamic_data_test['Activity']\n",
        "\n",
        "# 정규화\n",
        "scaler_dynamic = StandardScaler()\n",
        "X_train_dynamic_scaled = scaler_dynamic.fit_transform(X_train_dynamic)\n",
        "X_test_dynamic_scaled = scaler_dynamic.transform(X_test_dynamic)\n",
        "\n",
        "print(\" Feature 분리 및 정규화 완료\")\n",
        "print(f\"X_train_dynamic_scaled Shape: {X_train_dynamic_scaled.shape}\")\n",
        "print(f\"y_train_dynamic Shape       : {y_train_dynamic.shape}\")\n",
        "print(f\"X_test_dynamic_scaled Shape : {X_test_dynamic_scaled.shape}\")\n",
        "print(f\"y_test_dynamic Shape        : {y_test_dynamic.shape}\")\n",
        "print(\"-\" * 40)"
      ],
      "metadata": {
        "colab": {
          "base_uri": "https://localhost:8080/"
        },
        "id": "6JS0Qx78fwzS",
        "outputId": "e995d050-4df0-4a0e-f936-0b9eb5b48107"
      },
      "execution_count": null,
      "outputs": [
        {
          "output_type": "stream",
          "name": "stdout",
          "text": [
            " Feature 분리 및 정규화 완료\n",
            "X_train_dynamic_scaled Shape: (2647, 561)\n",
            "y_train_dynamic Shape       : (2647,)\n",
            "X_test_dynamic_scaled Shape : (638, 561)\n",
            "y_test_dynamic Shape        : (638,)\n",
            "----------------------------------------\n"
          ]
        }
      ]
    },
    {
      "cell_type": "code",
      "execution_count": null,
      "metadata": {
        "id": "-pG1CDkk00PJ",
        "colab": {
          "base_uri": "https://localhost:8080/"
        },
        "outputId": "5d2197ff-d113-49f9-b830-66b461d7eb7b"
      },
      "outputs": [
        {
          "output_type": "stream",
          "name": "stderr",
          "text": [
            "/usr/local/lib/python3.11/dist-packages/keras/src/layers/core/dense.py:87: UserWarning: Do not pass an `input_shape`/`input_dim` argument to a layer. When using Sequential models, prefer using an `Input(shape)` object as the first layer in the model instead.\n",
            "  super().__init__(activity_regularizer=activity_regularizer, **kwargs)\n"
          ]
        }
      ],
      "source": [
        "# 모델 설계\n",
        "\n",
        "model_dynamic = Sequential([\n",
        "    Dense(128, activation='relu', input_dim=X_train_dynamic_scaled.shape[1]),\n",
        "    Dense(64, activation='relu'),\n",
        "    Dense(len(dynamic_mapping), activation='softmax')  # 다중 클래스 분류\n",
        "])"
      ]
    },
    {
      "cell_type": "code",
      "execution_count": null,
      "metadata": {
        "colab": {
          "base_uri": "https://localhost:8080/"
        },
        "id": "UYVviRn6DwFf",
        "outputId": "ecf27fb9-7038-4aca-8587-cd5bd1362be8"
      },
      "outputs": [
        {
          "output_type": "stream",
          "name": "stdout",
          "text": [
            "Epoch 1/20\n",
            "83/83 - 2s - 28ms/step - accuracy: 0.9433 - loss: 0.1598 - val_accuracy: 0.9984 - val_loss: 0.0202\n",
            "Epoch 2/20\n",
            "83/83 - 1s - 7ms/step - accuracy: 0.9989 - loss: 0.0064 - val_accuracy: 0.9969 - val_loss: 0.0098\n",
            "Epoch 3/20\n",
            "83/83 - 1s - 8ms/step - accuracy: 1.0000 - loss: 0.0020 - val_accuracy: 0.9984 - val_loss: 0.0074\n",
            "Epoch 4/20\n",
            "83/83 - 1s - 7ms/step - accuracy: 1.0000 - loss: 9.7944e-04 - val_accuracy: 0.9984 - val_loss: 0.0058\n",
            "Epoch 5/20\n",
            "83/83 - 0s - 5ms/step - accuracy: 1.0000 - loss: 6.1743e-04 - val_accuracy: 0.9984 - val_loss: 0.0052\n",
            "Epoch 6/20\n",
            "83/83 - 1s - 8ms/step - accuracy: 1.0000 - loss: 4.2727e-04 - val_accuracy: 0.9984 - val_loss: 0.0045\n",
            "Epoch 7/20\n",
            "83/83 - 0s - 4ms/step - accuracy: 1.0000 - loss: 3.1717e-04 - val_accuracy: 0.9984 - val_loss: 0.0041\n",
            "Epoch 8/20\n",
            "83/83 - 0s - 4ms/step - accuracy: 1.0000 - loss: 2.4357e-04 - val_accuracy: 0.9984 - val_loss: 0.0038\n",
            "Epoch 9/20\n",
            "83/83 - 1s - 8ms/step - accuracy: 1.0000 - loss: 1.9266e-04 - val_accuracy: 0.9984 - val_loss: 0.0037\n",
            "Epoch 10/20\n",
            "83/83 - 1s - 8ms/step - accuracy: 1.0000 - loss: 1.5669e-04 - val_accuracy: 0.9984 - val_loss: 0.0034\n",
            "Epoch 11/20\n",
            "83/83 - 0s - 4ms/step - accuracy: 1.0000 - loss: 1.2943e-04 - val_accuracy: 0.9984 - val_loss: 0.0032\n",
            "Epoch 12/20\n",
            "83/83 - 1s - 7ms/step - accuracy: 1.0000 - loss: 1.0911e-04 - val_accuracy: 0.9984 - val_loss: 0.0031\n",
            "Epoch 13/20\n",
            "83/83 - 1s - 12ms/step - accuracy: 1.0000 - loss: 9.3397e-05 - val_accuracy: 0.9984 - val_loss: 0.0030\n",
            "Epoch 14/20\n",
            "83/83 - 1s - 14ms/step - accuracy: 1.0000 - loss: 8.0321e-05 - val_accuracy: 0.9984 - val_loss: 0.0028\n",
            "Epoch 15/20\n",
            "83/83 - 1s - 11ms/step - accuracy: 1.0000 - loss: 6.9647e-05 - val_accuracy: 0.9984 - val_loss: 0.0027\n",
            "Epoch 16/20\n",
            "83/83 - 1s - 8ms/step - accuracy: 1.0000 - loss: 6.1136e-05 - val_accuracy: 0.9984 - val_loss: 0.0026\n",
            "Epoch 17/20\n",
            "83/83 - 1s - 10ms/step - accuracy: 1.0000 - loss: 5.3817e-05 - val_accuracy: 0.9984 - val_loss: 0.0025\n",
            "Epoch 18/20\n",
            "83/83 - 1s - 13ms/step - accuracy: 1.0000 - loss: 4.7833e-05 - val_accuracy: 0.9984 - val_loss: 0.0024\n",
            "Epoch 19/20\n",
            "83/83 - 1s - 13ms/step - accuracy: 1.0000 - loss: 4.2732e-05 - val_accuracy: 0.9984 - val_loss: 0.0024\n",
            "Epoch 20/20\n",
            "83/83 - 1s - 9ms/step - accuracy: 1.0000 - loss: 3.8373e-05 - val_accuracy: 0.9984 - val_loss: 0.0023\n"
          ]
        }
      ],
      "source": [
        "# 컴파일\n",
        "model_dynamic.compile(\n",
        "    optimizer=Adam(learning_rate=0.001),\n",
        "    loss='sparse_categorical_crossentropy',\n",
        "    metrics=['accuracy']\n",
        ")\n",
        "\n",
        "# 학습\n",
        "history_dynamic = model_dynamic.fit(\n",
        "    X_train_dynamic_scaled, y_train_dynamic,\n",
        "    validation_data=(X_test_dynamic_scaled, y_test_dynamic),\n",
        "    epochs=20,\n",
        "    batch_size=32,\n",
        "    verbose=2\n",
        ")"
      ]
    },
    {
      "cell_type": "code",
      "execution_count": null,
      "metadata": {
        "colab": {
          "base_uri": "https://localhost:8080/",
          "height": 407
        },
        "id": "CUBzIPqoDwFf",
        "outputId": "27e50b82-2453-41fe-b8ee-93cc137947c7"
      },
      "outputs": [
        {
          "output_type": "display_data",
          "data": {
            "text/plain": [
              "<Figure size 1200x400 with 2 Axes>"
            ],
            "image/png": "[encoded data removed]"
          },
          "metadata": {}
        }
      ],
      "source": [
        "#학슴곡선\n",
        "\n",
        "plt.figure(figsize=(12, 4))\n",
        "\n",
        "# Loss\n",
        "plt.subplot(1, 2, 1)\n",
        "plt.plot(history_dynamic.history['loss'], label='Train Loss')\n",
        "plt.plot(history_dynamic.history['val_loss'], label='Val Loss')\n",
        "plt.title('Loss Curve (Dynamic Actions)')\n",
        "plt.xlabel('Epochs')\n",
        "plt.ylabel('Loss')\n",
        "plt.legend()\n",
        "\n",
        "# Accuracy\n",
        "plt.subplot(1, 2, 2)\n",
        "plt.plot(history_dynamic.history['accuracy'], label='Train Accuracy')\n",
        "plt.plot(history_dynamic.history['val_accuracy'], label='Val Accuracy')\n",
        "plt.title('Accuracy Curve (Dynamic Actions)')\n",
        "plt.xlabel('Epochs')\n",
        "plt.ylabel('Accuracy')\n",
        "plt.legend()\n",
        "\n",
        "plt.tight_layout()\n",
        "plt.show()"
      ]
    },
    {
      "cell_type": "code",
      "execution_count": null,
      "metadata": {
        "colab": {
          "base_uri": "https://localhost:8080/",
          "height": 900
        },
        "id": "yMCJ-MsgDwFf",
        "outputId": "f77e12ba-6d86-4ae2-aab5-6783f6021cff"
      },
      "outputs": [
        {
          "output_type": "stream",
          "name": "stdout",
          "text": [
            "\u001b[1m20/20\u001b[0m \u001b[32m━━━━━━━━━━━━━━━━━━━━\u001b[0m\u001b[37m\u001b[0m \u001b[1m0s\u001b[0m 4ms/step\n",
            " Test Accuracy - Dynamic Actions: 0.9984\n"
          ]
        },
        {
          "output_type": "display_data",
          "data": {
            "text/plain": [
              "<Figure size 600x500 with 2 Axes>"
            ],
            "image/png": "[encoded data removed]"
          },
          "metadata": {}
        },
        {
          "output_type": "stream",
          "name": "stdout",
          "text": [
            "\n",
            "Classification Report:\n",
            "                    precision    recall  f1-score   support\n",
            "\n",
            "           WALKING       1.00      1.00      1.00       228\n",
            "  WALKING_UPSTAIRS       1.00      1.00      1.00       215\n",
            "WALKING_DOWNSTAIRS       1.00      1.00      1.00       195\n",
            "\n",
            "          accuracy                           1.00       638\n",
            "         macro avg       1.00      1.00      1.00       638\n",
            "      weighted avg       1.00      1.00      1.00       638\n",
            "\n"
          ]
        }
      ],
      "source": [
        "# 예측 및 평가\n",
        "\n",
        "y_pred_dynamic = model_dynamic.predict(X_test_dynamic_scaled).argmax(axis=1)\n",
        "\n",
        "# 정확도\n",
        "acc_dynamic = accuracy_score(y_test_dynamic, y_pred_dynamic)\n",
        "print(f\" Test Accuracy - Dynamic Actions: {acc_dynamic:.4f}\")\n",
        "\n",
        "# Confusion Matrix\n",
        "cm = confusion_matrix(y_test_dynamic, y_pred_dynamic)\n",
        "plt.figure(figsize=(6, 5))\n",
        "sns.heatmap(cm, annot=True, fmt='d', cmap='Blues', xticklabels=dynamic_mapping.keys(), yticklabels=dynamic_mapping.keys())\n",
        "plt.title(\"Confusion Matrix (MLP - Dynamic Actions)\")\n",
        "plt.xlabel(\"Predicted\")\n",
        "plt.ylabel(\"True\")\n",
        "plt.show()\n",
        "\n",
        "# Classification Report\n",
        "print(\"\\nClassification Report:\")\n",
        "print(classification_report(y_test_dynamic, y_pred_dynamic, target_names=dynamic_mapping.keys()))"
      ]
    },
    {
      "cell_type": "markdown",
      "metadata": {
        "id": "G0vxLxBy1MHk"
      },
      "source": [
        "### (3) (옵션) 분류 모델 파이프라인 구성\n"
      ]
    },
    {
      "cell_type": "markdown",
      "metadata": {
        "id": "6ypgwVbm1MHl"
      },
      "source": [
        "* 세부 요구사항\n",
        "    * 두 단계 모델을 통합하고, 새로운 데이터(test)에 대해서 최종 예측결과와 성능평가가 나오도록 함수로 만들기\n",
        "    * 데이터 파이프라인 구축 : test데이터가 로딩되어 전처리 과정을 거치고, 예측 및 성능 평가 수행"
      ]
    },
    {
      "cell_type": "markdown",
      "metadata": {
        "id": "J6mVuIA51MHm"
      },
      "source": [
        "* 예시\n",
        "![](https://github.com/DA4BAM/image/blob/main/pipeline%20function.png?raw=true)"
      ]
    },
    {
      "cell_type": "markdown",
      "metadata": {
        "id": "Re6LpNYhi5d3"
      },
      "source": [
        "#### 1) 함수 만들기"
      ]
    },
    {
      "cell_type": "code",
      "execution_count": null,
      "metadata": {
        "id": "THvjpwK31MHn"
      },
      "outputs": [],
      "source": [
        "def activity_classification_pipeline(test_data, scaler_stage1, scaler_static, scaler_dynamic):\n",
        "    \"\"\"\n",
        "    전체 예측 파이프라인: 전처리 → 모델1 → 모델2 분기 → 예측합치기 → 평가\n",
        "    \"\"\"\n",
        "\n",
        "    # 1. 전처리 ------------------------------------------------------\n",
        "    # 데이터 복사\n",
        "    test_data_copy = test_data.copy()\n",
        "\n",
        "    # 타겟값 추출 (대소문자 및 공백 정리)\n",
        "    test_data_copy['Activity'] = test_data_copy['Activity'].str.upper().str.strip()\n",
        "    y_true = test_data_copy['Activity'].copy()\n",
        "\n",
        "    # 입력값 준비 (Activity 열만 제외)\n",
        "    X_test = test_data_copy.drop(columns=['Activity'])\n",
        "\n",
        "    # 스케일링 (1단계 모델용)\n",
        "    X_test_scaled_stage1 = scaler_stage1.transform(X_test)\n",
        "\n",
        "    # 2. 단계1 예측 : 정적 / 동적 구분 ------------------------------\n",
        "    pred_stage1 = model1.predict(X_test_scaled_stage1)\n",
        "    pred_stage1 = (pred_stage1 > 0.5).astype(int).reshape(-1)\n",
        "\n",
        "    # 결과 저장\n",
        "    test_data_copy['stage1_pred'] = pred_stage1\n",
        "\n",
        "    # 3. 단계2 예측 --------------------------------------------------\n",
        "    # 정적 예측\n",
        "    static_data = test_data_copy[test_data_copy['stage1_pred'] == 0]\n",
        "    static_labels = pd.Series(dtype=int)\n",
        "\n",
        "    if not static_data.empty:\n",
        "        X_static = static_data.drop(columns=['Activity', 'stage1_pred'])\n",
        "        X_static_scaled = scaler_static.transform(X_static)\n",
        "        static_preds = model_static.predict(X_static_scaled).argmax(axis=1)\n",
        "        static_labels = pd.Series(static_preds, index=static_data.index)\n",
        "\n",
        "    # 동적 예측\n",
        "    dynamic_data = test_data_copy[test_data_copy['stage1_pred'] == 1]\n",
        "    dynamic_labels = pd.Series(dtype=int)\n",
        "\n",
        "    if not dynamic_data.empty:\n",
        "        X_dynamic = dynamic_data.drop(columns=['Activity', 'stage1_pred'])\n",
        "        X_dynamic_scaled = scaler_dynamic.transform(X_dynamic)\n",
        "        dynamic_preds = model_dynamic.predict(X_dynamic_scaled).argmax(axis=1)\n",
        "        dynamic_labels = pd.Series(dynamic_preds, index=dynamic_data.index)\n",
        "\n",
        "    # 4. 예측결과 합치기 ---------------------------------------------\n",
        "    # 디코딩 매핑\n",
        "    inverse_static = {v: k for k, v in static_mapping.items()}\n",
        "    inverse_dynamic = {v: k for k, v in dynamic_mapping.items()}\n",
        "\n",
        "    # 인덱스 순서 맞춰 합치기\n",
        "    final_pred = pd.Series(dtype=int)\n",
        "\n",
        "    if not static_labels.empty:\n",
        "        final_pred = pd.concat([final_pred, static_labels])\n",
        "\n",
        "    if not dynamic_labels.empty:\n",
        "        final_pred = pd.concat([final_pred, dynamic_labels])\n",
        "\n",
        "    final_pred = final_pred.sort_index()\n",
        "\n",
        "    # 예측 결과를 원래 레이블로 변환\n",
        "    final_pred_label = pd.Series(index=final_pred.index, dtype=object)\n",
        "\n",
        "    # 정적 예측 결과 변환\n",
        "    static_indices = static_data.index\n",
        "    for idx in static_indices:\n",
        "        if idx in final_pred.index:\n",
        "            final_pred_label[idx] = inverse_static.get(final_pred[idx], \"Unknown\")\n",
        "\n",
        "    # 동적 예측 결과 변환\n",
        "    dynamic_indices = dynamic_data.index\n",
        "    for idx in dynamic_indices:\n",
        "        if idx in final_pred.index:\n",
        "            final_pred_label[idx] = inverse_dynamic.get(final_pred[idx], \"Unknown\")\n",
        "\n",
        "    # 5. 평가 ---------------------------------------------------------\n",
        "    print(\" 전체 정확도:\")\n",
        "    print(accuracy_score(y_true, final_pred_label))\n",
        "\n",
        "    print(\"\\n 분류 리포트:\")\n",
        "    print(classification_report(y_true, final_pred_label))\n",
        "\n",
        "    print(\"\\n 혼동 행렬:\")\n",
        "    cm = confusion_matrix(y_true, final_pred_label,\n",
        "                          labels=list(static_mapping.keys()) + list(dynamic_mapping.keys()))\n",
        "    plt.figure(figsize=(8, 6))\n",
        "    sns.heatmap(cm, annot=True, fmt='d', cmap='Greens',\n",
        "                xticklabels=list(static_mapping.keys()) + list(dynamic_mapping.keys()),\n",
        "                yticklabels=list(static_mapping.keys()) + list(dynamic_mapping.keys()))\n",
        "    plt.title(\"Overall Confusion Matrix\")\n",
        "    plt.xlabel(\"Predicted\")\n",
        "    plt.ylabel(\"True\")\n",
        "    plt.show()\n",
        "\n",
        "    return final_pred_label"
      ]
    },
    {
      "cell_type": "markdown",
      "metadata": {
        "id": "pk2Efe1K1MHn"
      },
      "source": [
        "#### 2) test 셋으로 예측하고 평가하기"
      ]
    },
    {
      "cell_type": "code",
      "execution_count": null,
      "metadata": {
        "id": "ApfVsX_Zzr7r",
        "colab": {
          "base_uri": "https://localhost:8080/",
          "height": 1000
        },
        "outputId": "7326bf35-fb02-48aa-bd7e-e7b6c5581f07"
      },
      "outputs": [
        {
          "output_type": "stream",
          "name": "stdout",
          "text": [
            "\u001b[1m46/46\u001b[0m \u001b[32m━━━━━━━━━━━━━━━━━━━━\u001b[0m\u001b[37m\u001b[0m \u001b[1m0s\u001b[0m 3ms/step\n",
            "\u001b[1m27/27\u001b[0m \u001b[32m━━━━━━━━━━━━━━━━━━━━\u001b[0m\u001b[37m\u001b[0m \u001b[1m0s\u001b[0m 3ms/step\n",
            "\u001b[1m20/20\u001b[0m \u001b[32m━━━━━━━━━━━━━━━━━━━━\u001b[0m\u001b[37m\u001b[0m \u001b[1m0s\u001b[0m 3ms/step \n",
            " 전체 정확도:\n",
            "0.9864038069340585\n",
            "\n",
            " 분류 리포트:\n",
            "                    precision    recall  f1-score   support\n",
            "\n",
            "            LAYING       1.00      1.00      1.00       292\n",
            "           SITTING       0.96      0.96      0.96       254\n",
            "          STANDING       0.97      0.97      0.97       287\n",
            "           WALKING       1.00      1.00      1.00       228\n",
            "WALKING_DOWNSTAIRS       1.00      1.00      1.00       195\n",
            "  WALKING_UPSTAIRS       1.00      1.00      1.00       215\n",
            "\n",
            "          accuracy                           0.99      1471\n",
            "         macro avg       0.99      0.99      0.99      1471\n",
            "      weighted avg       0.99      0.99      0.99      1471\n",
            "\n",
            "\n",
            " 혼동 행렬:\n"
          ]
        },
        {
          "output_type": "display_data",
          "data": {
            "text/plain": [
              "<Figure size 800x600 with 2 Axes>"
            ],
            "image/png": "[encoded data removed]"
          },
          "metadata": {}
        }
      ],
      "source": [
        "# test 셋의 구조 한번 확인해보고 성능평가 해보기\n",
        "# 1. 테스트 데이터 불러오기 (예: data01_test)\n",
        "\n",
        "# 1단계 모델용 스케일러\n",
        "X_train_for_stage1 = data01_train.drop(columns=['Activity', 'is_dynamic'])\n",
        "scaler_stage1 = StandardScaler()\n",
        "scaler_stage1.fit(X_train_for_stage1)\n",
        "\n",
        "# 정적 모델용 스케일러\n",
        "X_train_static_for_scaler = static_data_train.drop(columns=['Activity', 'is_dynamic'])\n",
        "scaler_static = StandardScaler()\n",
        "scaler_static.fit(X_train_static_for_scaler)\n",
        "\n",
        "# 동적 모델용 스케일러\n",
        "X_train_dynamic_for_scaler = dynamic_data_train.drop(columns=['Activity', 'is_dynamic'])\n",
        "scaler_dynamic = StandardScaler()\n",
        "scaler_dynamic.fit(X_train_dynamic_for_scaler)\n",
        "\n",
        "# 테스트 데이터에서 is_dynamic 열 제거 (이미 있다면)\n",
        "test_data_for_pipeline = data01_test.copy()\n",
        "if 'is_dynamic' in test_data_for_pipeline.columns:\n",
        "    test_data_for_pipeline = test_data_for_pipeline.drop(columns=['is_dynamic'])\n",
        "\n",
        "# 파이프라인 함수 호출\n",
        "predictions = activity_classification_pipeline(test_data_for_pipeline, scaler_stage1, scaler_static, scaler_dynamic)\n"
      ]
    }
  ],
  "metadata": {
    "colab": {
      "provenance": [],
      "toc_visible": true,
      "include_colab_link": true
    },
    "kernelspec": {
      "display_name": "base",
      "language": "python",
      "name": "python3"
    },
    "language_info": {
      "codemirror_mode": {
        "name": "ipython",
        "version": 3
      },
      "file_extension": ".py",
      "mimetype": "text/x-python",
      "name": "python",
      "nbconvert_exporter": "python",
      "pygments_lexer": "ipython3",
      "version": "3.12.4"
    }
  },
  "nbformat": 4,
  "nbformat_minor": 0
}